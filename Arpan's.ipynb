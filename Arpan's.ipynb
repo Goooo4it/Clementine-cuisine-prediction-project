{
 "cells": [
  {
   "cell_type": "markdown",
   "id": "c227e81a",
   "metadata": {},
   "source": [
    "# Introduction\n",
    "In this notebook we are analyzing the Clementine cuisine prediction dataset. The dataset consistists of list of ingredients for different recipies coming from 20 different cuisines. Our task is to predict the cuisine just looking at/analyzing the list of ingredients of a recipe."
   ]
  },
  {
   "cell_type": "code",
   "execution_count": 257,
   "id": "0effcf65",
   "metadata": {},
   "outputs": [],
   "source": [
    "# Importing necessary packages\n",
    "import json\n",
    "import numpy as np\n",
    "import pandas as pd\n",
    "import time\n",
    "from sklearn.linear_model import LinearRegression\n",
    "from sklearn.model_selection import train_test_split\n",
    "import gensim\n",
    "from gensim.models import Word2Vec\n",
    "import matplotlib\n",
    "import matplotlib.pyplot as plt\n",
    "import tensorflow as tf\n",
    "from keras.models import Sequential\n",
    "from keras.layers import Dense, Softmax\n",
    "from keras.metrics import mean_squared_error\n",
    "import copy\n",
    "from sklearn.decomposition import PCA\n",
    "from sklearn.svm import SVC"
   ]
  },
  {
   "cell_type": "code",
   "execution_count": 253,
   "id": "1b760270",
   "metadata": {},
   "outputs": [],
   "source": [
    "#Loadig the training and testing datasets\n",
    "f = open('data/test.json')\n",
    "data_test = json.load(f)\n",
    "f.close()\n",
    "f = open('data/train.json')\n",
    "data_train = json.load(f)\n",
    "f.close()"
   ]
  },
  {
   "cell_type": "markdown",
   "id": "785ddc42",
   "metadata": {},
   "source": [
    "## Preprocessing and Data Cleaning\n",
    "We are preprocessing and cleaning the given dataset in two steps.\n",
    "- In the first step we are making sure that all the ingredients are written in lower case.\n",
    "- In the next step we are looking for pair of datapoints with same set of ingredients but listed under two different cuisines. We remove such datapoints from the training data."
   ]
  },
  {
   "cell_type": "code",
   "execution_count": 254,
   "id": "866b59bb",
   "metadata": {},
   "outputs": [],
   "source": [
    "# In this step we are making sure that all the ingredients are written in lowercase.\n",
    "clean_data_train = []\n",
    "for recipe in data_train:\n",
    "    temp = recipe\n",
    "    ingredients_lower = []\n",
    "    for j in recipe['ingredients']:\n",
    "        ingredients_lower.append(j.lower())\n",
    "    temp['ingredients'] = ingredients_lower\n",
    "    clean_data_train.append(temp)\n",
    "data_train = copy.deepcopy(clean_data_train)"
   ]
  },
  {
   "cell_type": "code",
   "execution_count": 255,
   "id": "b88639d0",
   "metadata": {},
   "outputs": [],
   "source": [
    "# In this step we are loking for pair of datapoints with same set of ingredients but corresponding to different cuisines.\n",
    "# We are also removing such datapoints from the dataset.\n",
    "Confusing_data = []\n",
    "for i in range(len(data_train)):\n",
    "    for j in range(i,len(data_train)):\n",
    "        if set(data_train[i]['ingredients'])==set(data_train[j]['ingredients']) and data_train[i]['cuisine'] != data_train[j]['cuisine']:\n",
    "            Confusing_data.append((i,j))\n",
    "redundant = [i[0] for i in Confusing_data] + [i[1] for i in Confusing_data]\n",
    "clean_data_train = []\n",
    "for i in range(len(data_train)):\n",
    "    if i not in redundant:\n",
    "        clean_data_train.append(data_train[i])\n",
    "data_train = copy.deepcopy(clean_data_train)"
   ]
  },
  {
   "cell_type": "code",
   "execution_count": 259,
   "id": "1dc62754",
   "metadata": {
    "scrolled": true
   },
   "outputs": [
    {
     "name": "stdout",
     "output_type": "stream",
     "text": [
      "1 Cuisine: russian\n",
      "Occurrence: 489\n",
      "\n",
      "\n",
      "2 Cuisine: british\n",
      "Occurrence: 804\n",
      "\n",
      "\n",
      "3 Cuisine: vietnamese\n",
      "Occurrence: 823\n",
      "\n",
      "\n",
      "4 Cuisine: cajun_creole\n",
      "Occurrence: 1545\n",
      "\n",
      "\n",
      "5 Cuisine: greek\n",
      "Occurrence: 1173\n",
      "\n",
      "\n",
      "6 Cuisine: moroccan\n",
      "Occurrence: 820\n",
      "\n",
      "\n",
      "7 Cuisine: indian\n",
      "Occurrence: 3002\n",
      "\n",
      "\n",
      "8 Cuisine: irish\n",
      "Occurrence: 665\n",
      "\n",
      "\n",
      "9 Cuisine: korean\n",
      "Occurrence: 830\n",
      "\n",
      "\n",
      "10 Cuisine: southern_us\n",
      "Occurrence: 4316\n",
      "\n",
      "\n",
      "11 Cuisine: mexican\n",
      "Occurrence: 6436\n",
      "\n",
      "\n",
      "12 Cuisine: french\n",
      "Occurrence: 2641\n",
      "\n",
      "\n",
      "13 Cuisine: spanish\n",
      "Occurrence: 987\n",
      "\n",
      "\n",
      "14 Cuisine: chinese\n",
      "Occurrence: 2671\n",
      "\n",
      "\n",
      "15 Cuisine: thai\n",
      "Occurrence: 1539\n",
      "\n",
      "\n",
      "16 Cuisine: brazilian\n",
      "Occurrence: 467\n",
      "\n",
      "\n",
      "17 Cuisine: japanese\n",
      "Occurrence: 1421\n",
      "\n",
      "\n",
      "18 Cuisine: filipino\n",
      "Occurrence: 754\n",
      "\n",
      "\n",
      "19 Cuisine: jamaican\n",
      "Occurrence: 526\n",
      "\n",
      "\n",
      "20 Cuisine: italian\n",
      "Occurrence: 7835\n",
      "\n",
      "\n"
     ]
    }
   ],
   "source": [
    "# Creating the target dataset y\n",
    "y = [i['cuisine'] for i in data_train]\n",
    "y = pd.DataFrame(y,columns=['Cuisine'])\n",
    "\n",
    "# Printing how many datapoints we have corresponding to each cuisine\n",
    "count = 1\n",
    "for j in set(y.Cuisine):\n",
    "    print('%i Cuisine: %s'%(count,j))\n",
    "    count+= 1\n",
    "    print('Occurrence: %i'%list(y.Cuisine).count(j))\n",
    "    print('\\n')"
   ]
  },
  {
   "cell_type": "markdown",
   "id": "48d0e214",
   "metadata": {},
   "source": [
    "## Model selection\n",
    "In this analysis we tried a few different models and explaining the best perfroming ones among them. All our models are two step hybrid model where in the first step we look for presence of some special ingredients in the set of ingredients. Then in case we fail in the first step we go on to the second step where we predict the cuisine of the recipe using a ML algorithm or a Support Vector Machine (SVM) we have train on the training dataset.\n",
    "\n",
    "- First we extract special set of ingredients which are exclusive to each cuisine. Namely, we create a dictionary with cuisines as keys and the value corresponding to each cuisine is a set of ingredients that appears in some recipie(s) in that cuisine but does not appear in the set of ingredients to any other cuisine.\n",
    "\n",
    "- The second step our models can be further divided in two parts. \n",
    "    - First we compute an embedding of our data in a smaller dimensional space. We tried two different methods for finding out the embeddings. One is using **Word2Vec** from *gensim* and the other one is finding the PCA from one hot vectors.\n",
    "    - Once we have the data embedded in smaller dimensional space we tried two metods to to come up with predictions from there. We trained a shallow Neural Network on both the data embeddings, which has 20 Dense units as input layer followed by a Softmax unit as output layer. The other method we tried is training a Support Vector Machine on the embedded data with linear kernel. We observed that SVM's with polynomial kernel takes longer to train and produce prediction on our data and also performs with slightly less accuracy. So in this notebook we are presenting and comparing the performance of SVMs with linear kernel."
   ]
  },
  {
   "cell_type": "code",
   "execution_count": 260,
   "id": "b0815033",
   "metadata": {},
   "outputs": [],
   "source": [
    "# Here we prepare the set of Special ingredients exclusive to one cuisine.\n",
    "Sets = dict()\n",
    "Special = dict()\n",
    "\n",
    "for cuisine in set(y.Cuisine):\n",
    "    Sets[cuisine] = set()\n",
    "\n",
    "for recipe in data_train:\n",
    "    Sets[recipe['cuisine']] = Sets[recipe['cuisine']].union(set(recipe['ingredients']))\n",
    "\n",
    "for cuisine in set(y.Cuisine):\n",
    "    Special[cuisine] = Sets[cuisine]\n",
    "    for j in set(y.Cuisine) - {cuisine}:\n",
    "        Special[cuisine] = Special[cuisine] - Sets[j] \n",
    "Special_ingredients = set()\n",
    "for ingredients in Special.values():\n",
    "    Special_ingredients = Special_ingredients.union(ingredients)\n",
    "    \n",
    "# Here we create the list of ingredients which are not exclusive to one cuisine.\n",
    "Ingredients = set()\n",
    "for recipe in data_train:\n",
    "    Ingredients = Ingredients.union(set(recipe['ingredients']))\n",
    "Ingredients = list(Ingredients - Special_ingredients)"
   ]
  },
  {
   "cell_type": "code",
   "execution_count": 261,
   "id": "4cfdcc00",
   "metadata": {},
   "outputs": [],
   "source": [
    "# Building the list of sentences of ingredients on which we will calculate the \"Word2Vec\". \n",
    "sentences = []\n",
    "for recipe in data_train:\n",
    "    ingredients = set(recipe['ingredients']) - Special_ingredients\n",
    "    sentences.append(list(ingredients))"
   ]
  },
  {
   "cell_type": "code",
   "execution_count": 262,
   "id": "a6f5af07",
   "metadata": {},
   "outputs": [],
   "source": [
    "# Creating the word embedding model here. \n",
    "# Please note 'embedding_dimension' is a hyperparameter here.\n",
    "embedding_dimension = 140\n",
    "w2v = Word2Vec(sentences, min_count=3, vector_size = embedding_dimension)\n",
    "word_vectors = w2v.wv"
   ]
  },
  {
   "cell_type": "code",
   "execution_count": 263,
   "id": "f02ae5a3",
   "metadata": {},
   "outputs": [],
   "source": [
    "# Supplimentary function to calculate embedding of a list of ingredients.\n",
    "def recipe_embedding(ingredients, embedding_dimension = embedding_dimension):\n",
    "    v = np.zeros(embedding_dimension)\n",
    "    for j in ingredients:\n",
    "        try:\n",
    "            v+= word_vectors[j]\n",
    "        except:\n",
    "            v+= 0\n",
    "    return v"
   ]
  },
  {
   "cell_type": "code",
   "execution_count": 265,
   "id": "9cfc6118",
   "metadata": {},
   "outputs": [],
   "source": [
    "# Creating the training dataframe 'X'\n",
    "Data = np.zeros((len(data_train),embedding_dimension))\n",
    "y_check = []\n",
    "for i in range(len(data_train)):\n",
    "    Data[i,:] = recipe_embedding(data_train[i]['ingredients'])\n",
    "    y_check.append(data_train[i]['cuisine'])\n",
    "X_w2v = pd.DataFrame(Data)\n",
    "y_dummies = pd.get_dummies(pd.DataFrame(y_check))"
   ]
  },
  {
   "cell_type": "code",
   "execution_count": 266,
   "id": "43a0d8e4",
   "metadata": {},
   "outputs": [
    {
     "name": "stdout",
     "output_type": "stream",
     "text": [
      "Model: \"sequential_5\"\n",
      "_________________________________________________________________\n",
      "Layer (type)                 Output Shape              Param #   \n",
      "=================================================================\n",
      "Input_Dense (Dense)          (None, 20)                2820      \n",
      "_________________________________________________________________\n",
      "Output_Softmax (Softmax)     (None, 20)                0         \n",
      "=================================================================\n",
      "Total params: 2,820\n",
      "Trainable params: 2,820\n",
      "Non-trainable params: 0\n",
      "_________________________________________________________________\n"
     ]
    }
   ],
   "source": [
    "# Creating a shallow NN to train on the embedding given by \"Word2Vec\".\n",
    "Model = Sequential(\n",
    "    [\n",
    "        Dense(20, input_dim=embedding_dimension, activation = 'relu', name='Input_Dense',),\n",
    "        #Dense(20, activation= 'relu'),\n",
    "        Softmax(1, name = 'Output_Softmax'),\n",
    "    ]\n",
    ")\n",
    "Model.compile(loss=mean_squared_error, optimizer= 'Adam', metrics= 'accuracy')\n",
    "Model.summary()"
   ]
  },
  {
   "cell_type": "code",
   "execution_count": 267,
   "id": "8aebf893",
   "metadata": {},
   "outputs": [],
   "source": [
    "# Normalizing the training data before training the NN model on it.\n",
    "M = X_w2v.mean()\n",
    "S = X_w2v.std()\n",
    "X_w2v_norm = (X_w2v - M)/S"
   ]
  },
  {
   "cell_type": "code",
   "execution_count": 318,
   "id": "14c3c1fb",
   "metadata": {},
   "outputs": [
    {
     "data": {
      "text/plain": [
       "0.029513888888888888"
      ]
     },
     "execution_count": 318,
     "metadata": {},
     "output_type": "execute_result"
    }
   ],
   "source": [
    "y_check.count('greek')/len(y_check)"
   ]
  },
  {
   "cell_type": "code",
   "execution_count": 268,
   "id": "899d4537",
   "metadata": {},
   "outputs": [],
   "source": [
    "# Creating the training and validation split.\n",
    "# Since our data is skewed we are stratifying it.\n",
    "X_w2v_train, X_w2v_val, y_train, y_val = train_test_split(X_w2v_norm,y_dummies,\n",
    "                                                  test_size = .2,\n",
    "                                                 shuffle=True,\n",
    "                                                 stratify=y_check)"
   ]
  },
  {
   "cell_type": "code",
   "execution_count": 269,
   "id": "fa86eb15",
   "metadata": {},
   "outputs": [
    {
     "name": "stdout",
     "output_type": "stream",
     "text": [
      "Epoch 1/100\n",
      "7949/7949 [==============================] - 23s 3ms/step - loss: 0.0270 - accuracy: 0.5918 - val_loss: 0.0264 - val_accuracy: 0.6057\n",
      "Epoch 2/100\n",
      "7949/7949 [==============================] - 20s 3ms/step - loss: 0.0254 - accuracy: 0.6216 - val_loss: 0.0254 - val_accuracy: 0.6232\n",
      "Epoch 3/100\n",
      "7949/7949 [==============================] - 20s 3ms/step - loss: 0.0250 - accuracy: 0.6299 - val_loss: 0.0254 - val_accuracy: 0.6210\n",
      "Epoch 4/100\n",
      "7949/7949 [==============================] - 20s 3ms/step - loss: 0.0247 - accuracy: 0.6337 - val_loss: 0.0249 - val_accuracy: 0.6294\n",
      "Epoch 5/100\n",
      "7949/7949 [==============================] - 21s 3ms/step - loss: 0.0245 - accuracy: 0.6370 - val_loss: 0.0247 - val_accuracy: 0.6353\n",
      "Epoch 6/100\n",
      "7949/7949 [==============================] - 21s 3ms/step - loss: 0.0244 - accuracy: 0.6411 - val_loss: 0.0249 - val_accuracy: 0.6325\n",
      "Epoch 7/100\n",
      "7949/7949 [==============================] - 21s 3ms/step - loss: 0.0242 - accuracy: 0.6440 - val_loss: 0.0245 - val_accuracy: 0.6387\n",
      "Epoch 8/100\n",
      "7949/7949 [==============================] - 21s 3ms/step - loss: 0.0241 - accuracy: 0.6439 - val_loss: 0.0249 - val_accuracy: 0.6260\n",
      "Epoch 9/100\n",
      "7949/7949 [==============================] - 21s 3ms/step - loss: 0.0240 - accuracy: 0.6459 - val_loss: 0.0247 - val_accuracy: 0.6373\n",
      "Epoch 10/100\n",
      "7949/7949 [==============================] - 21s 3ms/step - loss: 0.0240 - accuracy: 0.6486 - val_loss: 0.0244 - val_accuracy: 0.6389\n",
      "Epoch 11/100\n",
      "7949/7949 [==============================] - 20s 3ms/step - loss: 0.0239 - accuracy: 0.6476 - val_loss: 0.0244 - val_accuracy: 0.6411\n",
      "Epoch 12/100\n",
      "7949/7949 [==============================] - 20s 3ms/step - loss: 0.0238 - accuracy: 0.6494 - val_loss: 0.0247 - val_accuracy: 0.6324\n",
      "Epoch 13/100\n",
      "7949/7949 [==============================] - 20s 3ms/step - loss: 0.0238 - accuracy: 0.6508 - val_loss: 0.0246 - val_accuracy: 0.6342\n",
      "Epoch 14/100\n",
      "7949/7949 [==============================] - 20s 3ms/step - loss: 0.0238 - accuracy: 0.6515 - val_loss: 0.0243 - val_accuracy: 0.6408\n",
      "Epoch 15/100\n",
      "7949/7949 [==============================] - 20s 3ms/step - loss: 0.0237 - accuracy: 0.6496 - val_loss: 0.0245 - val_accuracy: 0.6391\n",
      "Epoch 16/100\n",
      "7949/7949 [==============================] - 20s 3ms/step - loss: 0.0237 - accuracy: 0.6542 - val_loss: 0.0246 - val_accuracy: 0.6388\n",
      "Epoch 17/100\n",
      "7949/7949 [==============================] - 20s 3ms/step - loss: 0.0236 - accuracy: 0.6518 - val_loss: 0.0242 - val_accuracy: 0.6425\n",
      "Epoch 18/100\n",
      "7949/7949 [==============================] - 20s 3ms/step - loss: 0.0236 - accuracy: 0.6562 - val_loss: 0.0245 - val_accuracy: 0.6391\n",
      "Epoch 19/100\n",
      "7949/7949 [==============================] - 20s 3ms/step - loss: 0.0236 - accuracy: 0.6528 - val_loss: 0.0240 - val_accuracy: 0.6444\n",
      "Epoch 20/100\n",
      "7949/7949 [==============================] - 20s 3ms/step - loss: 0.0235 - accuracy: 0.6563 - val_loss: 0.0240 - val_accuracy: 0.6478\n",
      "Epoch 21/100\n",
      "7949/7949 [==============================] - 20s 3ms/step - loss: 0.0235 - accuracy: 0.6560 - val_loss: 0.0240 - val_accuracy: 0.6437\n",
      "Epoch 22/100\n",
      "7949/7949 [==============================] - 20s 3ms/step - loss: 0.0235 - accuracy: 0.6560 - val_loss: 0.0246 - val_accuracy: 0.6337\n",
      "Epoch 23/100\n",
      "7949/7949 [==============================] - 20s 3ms/step - loss: 0.0234 - accuracy: 0.6552 - val_loss: 0.0242 - val_accuracy: 0.6427\n",
      "Epoch 24/100\n",
      "7949/7949 [==============================] - 20s 3ms/step - loss: 0.0235 - accuracy: 0.6564 - val_loss: 0.0237 - val_accuracy: 0.6503\n",
      "Epoch 25/100\n",
      "7949/7949 [==============================] - 20s 3ms/step - loss: 0.0234 - accuracy: 0.6585 - val_loss: 0.0242 - val_accuracy: 0.6395\n",
      "Epoch 26/100\n",
      "7949/7949 [==============================] - 20s 3ms/step - loss: 0.0234 - accuracy: 0.6572 - val_loss: 0.0241 - val_accuracy: 0.6450\n",
      "Epoch 27/100\n",
      "7949/7949 [==============================] - 20s 3ms/step - loss: 0.0233 - accuracy: 0.6603 - val_loss: 0.0239 - val_accuracy: 0.6434\n",
      "Epoch 28/100\n",
      "7949/7949 [==============================] - 20s 3ms/step - loss: 0.0234 - accuracy: 0.6583 - val_loss: 0.0243 - val_accuracy: 0.6449\n",
      "Epoch 29/100\n",
      "7949/7949 [==============================] - 19s 2ms/step - loss: 0.0233 - accuracy: 0.6586 - val_loss: 0.0244 - val_accuracy: 0.6402\n",
      "Epoch 30/100\n",
      "7949/7949 [==============================] - 19s 2ms/step - loss: 0.0234 - accuracy: 0.6586 - val_loss: 0.0236 - val_accuracy: 0.6543\n",
      "Epoch 31/100\n",
      "7949/7949 [==============================] - 20s 3ms/step - loss: 0.0233 - accuracy: 0.6599 - val_loss: 0.0238 - val_accuracy: 0.6505\n",
      "Epoch 32/100\n",
      "7949/7949 [==============================] - 20s 2ms/step - loss: 0.0233 - accuracy: 0.6589 - val_loss: 0.0236 - val_accuracy: 0.6532\n",
      "Epoch 33/100\n",
      "7949/7949 [==============================] - 18s 2ms/step - loss: 0.0232 - accuracy: 0.6596 - val_loss: 0.0237 - val_accuracy: 0.6522\n",
      "Epoch 34/100\n",
      "7949/7949 [==============================] - 18s 2ms/step - loss: 0.0233 - accuracy: 0.6594 - val_loss: 0.0236 - val_accuracy: 0.6519\n",
      "Epoch 35/100\n",
      "7949/7949 [==============================] - 18s 2ms/step - loss: 0.0232 - accuracy: 0.6596 - val_loss: 0.0237 - val_accuracy: 0.6517\n",
      "Epoch 36/100\n",
      "7949/7949 [==============================] - 18s 2ms/step - loss: 0.0232 - accuracy: 0.6604 - val_loss: 0.0237 - val_accuracy: 0.6538\n",
      "Epoch 37/100\n",
      "7949/7949 [==============================] - 18s 2ms/step - loss: 0.0232 - accuracy: 0.6609 - val_loss: 0.0240 - val_accuracy: 0.6486\n",
      "Epoch 38/100\n",
      "7949/7949 [==============================] - 18s 2ms/step - loss: 0.0231 - accuracy: 0.6625 - val_loss: 0.0237 - val_accuracy: 0.6518\n",
      "Epoch 39/100\n",
      "7949/7949 [==============================] - 18s 2ms/step - loss: 0.0231 - accuracy: 0.6614 - val_loss: 0.0238 - val_accuracy: 0.6529\n",
      "Epoch 40/100\n",
      "7949/7949 [==============================] - 18s 2ms/step - loss: 0.0231 - accuracy: 0.6616 - val_loss: 0.0236 - val_accuracy: 0.6549\n",
      "Epoch 41/100\n",
      "7949/7949 [==============================] - 18s 2ms/step - loss: 0.0231 - accuracy: 0.6633 - val_loss: 0.0237 - val_accuracy: 0.6506\n",
      "Epoch 42/100\n",
      "7949/7949 [==============================] - 18s 2ms/step - loss: 0.0231 - accuracy: 0.6614 - val_loss: 0.0236 - val_accuracy: 0.6493\n",
      "Epoch 43/100\n",
      "7949/7949 [==============================] - 18s 2ms/step - loss: 0.0231 - accuracy: 0.6632 - val_loss: 0.0236 - val_accuracy: 0.6533\n",
      "Epoch 44/100\n",
      "7949/7949 [==============================] - 18s 2ms/step - loss: 0.0231 - accuracy: 0.6642 - val_loss: 0.0240 - val_accuracy: 0.6471\n",
      "Epoch 45/100\n",
      "7949/7949 [==============================] - 19s 2ms/step - loss: 0.0230 - accuracy: 0.6646 - val_loss: 0.0237 - val_accuracy: 0.6517\n",
      "Epoch 46/100\n",
      "7949/7949 [==============================] - 18s 2ms/step - loss: 0.0230 - accuracy: 0.6643 - val_loss: 0.0239 - val_accuracy: 0.6491\n",
      "Epoch 47/100\n",
      "7949/7949 [==============================] - 18s 2ms/step - loss: 0.0231 - accuracy: 0.6625 - val_loss: 0.0239 - val_accuracy: 0.6471\n",
      "Epoch 48/100\n",
      "7949/7949 [==============================] - 18s 2ms/step - loss: 0.0230 - accuracy: 0.6646 - val_loss: 0.0237 - val_accuracy: 0.6493\n",
      "Epoch 49/100\n",
      "7949/7949 [==============================] - 18s 2ms/step - loss: 0.0230 - accuracy: 0.6652 - val_loss: 0.0237 - val_accuracy: 0.6522\n",
      "Epoch 50/100\n",
      "7949/7949 [==============================] - 18s 2ms/step - loss: 0.0230 - accuracy: 0.6668 - val_loss: 0.0238 - val_accuracy: 0.6517\n",
      "Epoch 51/100\n",
      "7949/7949 [==============================] - 18s 2ms/step - loss: 0.0229 - accuracy: 0.6656 - val_loss: 0.0235 - val_accuracy: 0.6538\n",
      "Epoch 52/100\n",
      "7949/7949 [==============================] - 18s 2ms/step - loss: 0.0230 - accuracy: 0.6651 - val_loss: 0.0235 - val_accuracy: 0.6567\n",
      "Epoch 53/100\n",
      "7949/7949 [==============================] - 18s 2ms/step - loss: 0.0230 - accuracy: 0.6648 - val_loss: 0.0238 - val_accuracy: 0.6515\n",
      "Epoch 54/100\n",
      "7949/7949 [==============================] - 18s 2ms/step - loss: 0.0229 - accuracy: 0.6671 - val_loss: 0.0241 - val_accuracy: 0.6499\n",
      "Epoch 55/100\n",
      "7949/7949 [==============================] - 18s 2ms/step - loss: 0.0229 - accuracy: 0.6655 - val_loss: 0.0238 - val_accuracy: 0.6489\n",
      "Epoch 56/100\n",
      "7949/7949 [==============================] - 18s 2ms/step - loss: 0.0229 - accuracy: 0.6656 - val_loss: 0.0236 - val_accuracy: 0.6530\n"
     ]
    },
    {
     "name": "stdout",
     "output_type": "stream",
     "text": [
      "Epoch 57/100\n",
      "7949/7949 [==============================] - 18s 2ms/step - loss: 0.0229 - accuracy: 0.6664 - val_loss: 0.0235 - val_accuracy: 0.6523\n",
      "Epoch 58/100\n",
      "7949/7949 [==============================] - 18s 2ms/step - loss: 0.0229 - accuracy: 0.6674 - val_loss: 0.0238 - val_accuracy: 0.6499\n",
      "Epoch 59/100\n",
      "7949/7949 [==============================] - 19s 2ms/step - loss: 0.0229 - accuracy: 0.6668 - val_loss: 0.0238 - val_accuracy: 0.6481\n",
      "Epoch 60/100\n",
      "7949/7949 [==============================] - 18s 2ms/step - loss: 0.0229 - accuracy: 0.6681 - val_loss: 0.0239 - val_accuracy: 0.6515\n",
      "Epoch 61/100\n",
      "7949/7949 [==============================] - 18s 2ms/step - loss: 0.0229 - accuracy: 0.6669 - val_loss: 0.0238 - val_accuracy: 0.6486\n",
      "Epoch 62/100\n",
      "7949/7949 [==============================] - 18s 2ms/step - loss: 0.0229 - accuracy: 0.6662 - val_loss: 0.0236 - val_accuracy: 0.6547\n",
      "Epoch 63/100\n",
      "7949/7949 [==============================] - 18s 2ms/step - loss: 0.0229 - accuracy: 0.6672 - val_loss: 0.0237 - val_accuracy: 0.6514\n",
      "Epoch 64/100\n",
      "7949/7949 [==============================] - 18s 2ms/step - loss: 0.0229 - accuracy: 0.6663 - val_loss: 0.0239 - val_accuracy: 0.6480\n",
      "Epoch 65/100\n",
      "7949/7949 [==============================] - 18s 2ms/step - loss: 0.0229 - accuracy: 0.6660 - val_loss: 0.0234 - val_accuracy: 0.6557\n",
      "Epoch 66/100\n",
      "7949/7949 [==============================] - 18s 2ms/step - loss: 0.0228 - accuracy: 0.6677 - val_loss: 0.0239 - val_accuracy: 0.6528\n",
      "Epoch 67/100\n",
      "7949/7949 [==============================] - 18s 2ms/step - loss: 0.0228 - accuracy: 0.6673 - val_loss: 0.0234 - val_accuracy: 0.6572\n",
      "Epoch 68/100\n",
      "7949/7949 [==============================] - 18s 2ms/step - loss: 0.0228 - accuracy: 0.6684 - val_loss: 0.0236 - val_accuracy: 0.6530\n",
      "Epoch 69/100\n",
      "7949/7949 [==============================] - 18s 2ms/step - loss: 0.0228 - accuracy: 0.6674 - val_loss: 0.0238 - val_accuracy: 0.6491\n",
      "Epoch 70/100\n",
      "7949/7949 [==============================] - 18s 2ms/step - loss: 0.0228 - accuracy: 0.6677 - val_loss: 0.0236 - val_accuracy: 0.6558\n",
      "Epoch 71/100\n",
      "7949/7949 [==============================] - 18s 2ms/step - loss: 0.0228 - accuracy: 0.6685 - val_loss: 0.0240 - val_accuracy: 0.6509\n",
      "Epoch 72/100\n",
      "7949/7949 [==============================] - 18s 2ms/step - loss: 0.0228 - accuracy: 0.6672 - val_loss: 0.0235 - val_accuracy: 0.6547\n",
      "Epoch 73/100\n",
      "7949/7949 [==============================] - 18s 2ms/step - loss: 0.0227 - accuracy: 0.6698 - val_loss: 0.0235 - val_accuracy: 0.6558\n",
      "Epoch 74/100\n",
      "7949/7949 [==============================] - 18s 2ms/step - loss: 0.0227 - accuracy: 0.6686 - val_loss: 0.0235 - val_accuracy: 0.6545\n",
      "Epoch 75/100\n",
      "7949/7949 [==============================] - 18s 2ms/step - loss: 0.0228 - accuracy: 0.6672 - val_loss: 0.0234 - val_accuracy: 0.6577\n",
      "Epoch 76/100\n",
      "7949/7949 [==============================] - 18s 2ms/step - loss: 0.0227 - accuracy: 0.6701 - val_loss: 0.0238 - val_accuracy: 0.6515\n",
      "Epoch 77/100\n",
      "7949/7949 [==============================] - 18s 2ms/step - loss: 0.0227 - accuracy: 0.6708 - val_loss: 0.0236 - val_accuracy: 0.6576\n",
      "Epoch 78/100\n",
      "7949/7949 [==============================] - 18s 2ms/step - loss: 0.0227 - accuracy: 0.6699 - val_loss: 0.0237 - val_accuracy: 0.6538\n",
      "Epoch 79/100\n",
      "7949/7949 [==============================] - 18s 2ms/step - loss: 0.0227 - accuracy: 0.6695 - val_loss: 0.0235 - val_accuracy: 0.6548\n",
      "Epoch 80/100\n",
      "7949/7949 [==============================] - 18s 2ms/step - loss: 0.0227 - accuracy: 0.6710 - val_loss: 0.0237 - val_accuracy: 0.6518\n",
      "Epoch 81/100\n",
      "7949/7949 [==============================] - 18s 2ms/step - loss: 0.0227 - accuracy: 0.6709 - val_loss: 0.0234 - val_accuracy: 0.6561\n",
      "Epoch 82/100\n",
      "7949/7949 [==============================] - 15s 2ms/step - loss: 0.0227 - accuracy: 0.6688 - val_loss: 0.0234 - val_accuracy: 0.6562\n",
      "Epoch 83/100\n",
      "7949/7949 [==============================] - 877s 110ms/step - loss: 0.0227 - accuracy: 0.6692 - val_loss: 0.0232 - val_accuracy: 0.6573\n",
      "Epoch 84/100\n",
      "7949/7949 [==============================] - 16s 2ms/step - loss: 0.0227 - accuracy: 0.6711 - val_loss: 0.0235 - val_accuracy: 0.6537\n",
      "Epoch 85/100\n",
      "7949/7949 [==============================] - 24s 3ms/step - loss: 0.0226 - accuracy: 0.6710 - val_loss: 0.0239 - val_accuracy: 0.6500\n",
      "Epoch 86/100\n",
      "7949/7949 [==============================] - 11s 1ms/step - loss: 0.0227 - accuracy: 0.6700 - val_loss: 0.0233 - val_accuracy: 0.6554\n",
      "Epoch 87/100\n",
      "7949/7949 [==============================] - 11s 1ms/step - loss: 0.0227 - accuracy: 0.6703 - val_loss: 0.0232 - val_accuracy: 0.6605\n",
      "Epoch 88/100\n",
      "7949/7949 [==============================] - 11s 1ms/step - loss: 0.0226 - accuracy: 0.6702 - val_loss: 0.0239 - val_accuracy: 0.6508\n",
      "Epoch 89/100\n",
      "7949/7949 [==============================] - 19s 2ms/step - loss: 0.0226 - accuracy: 0.6701 - val_loss: 0.0236 - val_accuracy: 0.6510\n",
      "Epoch 90/100\n",
      "7949/7949 [==============================] - 20s 2ms/step - loss: 0.0227 - accuracy: 0.6716 - val_loss: 0.0232 - val_accuracy: 0.6607\n",
      "Epoch 91/100\n",
      "7949/7949 [==============================] - 17s 2ms/step - loss: 0.0226 - accuracy: 0.6699 - val_loss: 0.0233 - val_accuracy: 0.6603\n",
      "Epoch 92/100\n",
      "7949/7949 [==============================] - 10s 1ms/step - loss: 0.0226 - accuracy: 0.6716 - val_loss: 0.0236 - val_accuracy: 0.6532\n",
      "Epoch 93/100\n",
      "7949/7949 [==============================] - 10s 1ms/step - loss: 0.0226 - accuracy: 0.6713 - val_loss: 0.0233 - val_accuracy: 0.6579\n",
      "Epoch 94/100\n",
      "7949/7949 [==============================] - 9s 1ms/step - loss: 0.0226 - accuracy: 0.6720 - val_loss: 0.0234 - val_accuracy: 0.6581\n",
      "Epoch 95/100\n",
      "7949/7949 [==============================] - 10s 1ms/step - loss: 0.0226 - accuracy: 0.6737 - val_loss: 0.0234 - val_accuracy: 0.6579\n",
      "Epoch 96/100\n",
      "7949/7949 [==============================] - 10s 1ms/step - loss: 0.0226 - accuracy: 0.6726 - val_loss: 0.0235 - val_accuracy: 0.6562\n",
      "Epoch 97/100\n",
      "7949/7949 [==============================] - 10s 1ms/step - loss: 0.0226 - accuracy: 0.6703 - val_loss: 0.0237 - val_accuracy: 0.6459\n",
      "Epoch 98/100\n",
      "7949/7949 [==============================] - 11s 1ms/step - loss: 0.0226 - accuracy: 0.6709 - val_loss: 0.0236 - val_accuracy: 0.6564\n",
      "Epoch 99/100\n",
      "7949/7949 [==============================] - 11s 1ms/step - loss: 0.0226 - accuracy: 0.6709 - val_loss: 0.0237 - val_accuracy: 0.6515\n",
      "Epoch 100/100\n",
      "7949/7949 [==============================] - 10s 1ms/step - loss: 0.0226 - accuracy: 0.6718 - val_loss: 0.0239 - val_accuracy: 0.6485\n"
     ]
    }
   ],
   "source": [
    "history = Model.fit(X_w2v_train,\n",
    "                    y_train,\n",
    "                    validation_data=(X_w2v_val,y_val),\n",
    "                    epochs=100, \n",
    "                    batch_size = 4)"
   ]
  },
  {
   "cell_type": "code",
   "execution_count": 276,
   "id": "b1e55f00",
   "metadata": {},
   "outputs": [
    {
     "data": {
      "text/plain": [
       "Text(0, 0.5, 'Mean Squared Error')"
      ]
     },
     "execution_count": 276,
     "metadata": {},
     "output_type": "execute_result"
    },
    {
     "data": {
      "image/png": "[encoded data removed]",
      "text/plain": [
       "<Figure size 720x720 with 1 Axes>"
      ]
     },
     "metadata": {
      "needs_background": "light"
     },
     "output_type": "display_data"
    }
   ],
   "source": [
    "plt.figure(figsize = (10,10))\n",
    "plt.plot(history.history['loss'], label = 'Trainng error', color = 'orange')\n",
    "plt.plot(history.history['val_loss'], label = 'Validation error', color = 'maroon')\n",
    "plt.title('Error Plot')\n",
    "plt.legend()\n",
    "plt.xlabel('Epochs')\n",
    "plt.ylabel('Mean Squared Error')"
   ]
  },
  {
   "cell_type": "code",
   "execution_count": 277,
   "id": "8bf2ec51",
   "metadata": {},
   "outputs": [
    {
     "data": {
      "text/plain": [
       "Text(0, 0.5, 'Accuracy')"
      ]
     },
     "execution_count": 277,
     "metadata": {},
     "output_type": "execute_result"
    },
    {
     "data": {
      "image/png": "[encoded data removed]",
      "text/plain": [
       "<Figure size 720x576 with 1 Axes>"
      ]
     },
     "metadata": {
      "needs_background": "light"
     },
     "output_type": "display_data"
    }
   ],
   "source": [
    "plt.figure(figsize = (10,8))\n",
    "plt.plot(history.history['accuracy'], label = 'Training accuracy', color = 'purple')\n",
    "plt.plot(history.history['val_accuracy'], label = 'Validation accuracy', color = 'green')\n",
    "plt.title('Accuracy Plot')\n",
    "plt.legend()\n",
    "plt.xlabel('Epochs')\n",
    "plt.ylabel('Accuracy')"
   ]
  },
  {
   "cell_type": "code",
   "execution_count": 279,
   "id": "c1021b9b",
   "metadata": {},
   "outputs": [
    {
     "name": "stderr",
     "output_type": "stream",
     "text": [
      "WARNING:absl:Function `_wrapped_model` contains input name(s) Input_Dense_input with unsupported characters which will be renamed to input_dense_input in the SavedModel.\n"
     ]
    },
    {
     "name": "stdout",
     "output_type": "stream",
     "text": [
      "INFO:tensorflow:Assets written to: Model_special.H5\\assets\n"
     ]
    },
    {
     "name": "stderr",
     "output_type": "stream",
     "text": [
      "INFO:tensorflow:Assets written to: Model_special.H5\\assets\n"
     ]
    }
   ],
   "source": [
    "# Saving our model to save training time in future.\n",
    "Model.save('Model_special.H5')"
   ]
  },
  {
   "cell_type": "markdown",
   "id": "0e99cdbd",
   "metadata": {},
   "source": [
    "## Moment of Truth\n",
    "Here we are going to test the overall accuracy of our 2-step hybrid model. For that we will pick 1000 random datapoints from the traing dataset and then will measure what percentage of them our model predicted correctly."
   ]
  },
  {
   "cell_type": "code",
   "execution_count": 278,
   "id": "2c471c7a",
   "metadata": {},
   "outputs": [
    {
     "name": "stdout",
     "output_type": "stream",
     "text": [
      "\n",
      "Acuracy 70.20 %\n"
     ]
    }
   ],
   "source": [
    "# Testing accuracy of the hybrid model\n",
    "Incorrect = 0\n",
    "Correct = 0\n",
    "num_samples = 1000\n",
    "for i in range(num_samples):\n",
    "    n = np.random.randint(0,len(data_train))\n",
    "    if any(ele in Special_ingredients for ele in data_train[n]['ingredients']):\n",
    "        for cuisine in Special.keys():\n",
    "            if any(ele in Special[cuisine] for ele in data_train[n]['ingredients']):\n",
    "                if cuisine == data_train[n]['cuisine']:\n",
    "                    Correct+= 1\n",
    "                else:\n",
    "                    Incorrect+= 1\n",
    "                break\n",
    "    else:\n",
    "        test_vec = np.array((recipe_embedding(data_train[n]['ingredients'])-M)/S).reshape(1,embedding_dimension)\n",
    "        pred = Model.predict(test_vec)\n",
    "        if y_dummies.columns[np.argmax(pred)].replace('0_','') == data_train[n]['cuisine']:\n",
    "            Correct+= 1\n",
    "        else:\n",
    "            Incorrect+=1\n",
    "print('\\nAcuracy: %.2f' %(Correct/(num_samples)*100),'%')"
   ]
  },
  {
   "cell_type": "markdown",
   "id": "67578e44",
   "metadata": {},
   "source": [
    "### Computing PCA Embedding\n",
    "Now we are first going compute the one-hot encoding of our data as a $ m\\times n $  matrix where $$ m = \\text{number of data points} $$ and $$ n = \\text{number of ingredients, not occuring in the set of special ingredients.} $$ \n",
    "Also the $ 1 \\times n$ vector corresponding to each datapoint is not exactly a 1-hot vector but is sum of 1-hot vectors corresponding to the ingredinents that appears in the recipe/datapoint."
   ]
  },
  {
   "cell_type": "code",
   "execution_count": 287,
   "id": "9429b305",
   "metadata": {},
   "outputs": [],
   "source": [
    "def one_hot_ingredients(ingredients):\n",
    "    v = np.zeros((1,len(Ingredients)))\n",
    "    for i in range(len(Ingredients)):\n",
    "        if Ingredients[i] in ingredients:\n",
    "            v[0,i] = 1\n",
    "    return v\n",
    "X_1_hot = np.zeros((len(data_train), len(Ingredients)))\n",
    "for i in range(len(data_train)):\n",
    "    X_1_hot[i,:] = one_hot_ingredients(data_train[i]['ingredients'])"
   ]
  },
  {
   "cell_type": "code",
   "execution_count": 293,
   "id": "dee8a2c8",
   "metadata": {},
   "outputs": [
    {
     "data": {
      "text/plain": [
       "(39744, 4113)"
      ]
     },
     "execution_count": 293,
     "metadata": {},
     "output_type": "execute_result"
    }
   ],
   "source": [
    "X_1_hot.shape"
   ]
  },
  {
   "cell_type": "code",
   "execution_count": 294,
   "id": "792345b2",
   "metadata": {},
   "outputs": [
    {
     "data": {
      "text/plain": [
       "PCA(n_components=170)"
      ]
     },
     "execution_count": 294,
     "metadata": {},
     "output_type": "execute_result"
    }
   ],
   "source": [
    "# We are computing the PCA of the 1-hot encoded data we prepared in the last block.\n",
    "# Please note that \"pca_embedding_dimension\" is a hyperparameter here.\n",
    "pca_embedding_dimension = 170\n",
    "pca = PCA(n_components = pca_embedding_dimension)\n",
    "pca.fit(X_1_hot)"
   ]
  },
  {
   "cell_type": "code",
   "execution_count": 295,
   "id": "a499a52b",
   "metadata": {},
   "outputs": [],
   "source": [
    "pca_components = pca.components_\n",
    "X_pca = np.dot(X_1_hot,pca_components.transpose())"
   ]
  },
  {
   "cell_type": "code",
   "execution_count": 296,
   "id": "60f0762a",
   "metadata": {},
   "outputs": [
    {
     "name": "stdout",
     "output_type": "stream",
     "text": [
      "Model: \"sequential_6\"\n",
      "_________________________________________________________________\n",
      "Layer (type)                 Output Shape              Param #   \n",
      "=================================================================\n",
      "Input_Dense (Dense)          (None, 20)                3420      \n",
      "_________________________________________________________________\n",
      "Output_Softmax (Softmax)     (None, 20)                0         \n",
      "=================================================================\n",
      "Total params: 3,420\n",
      "Trainable params: 3,420\n",
      "Non-trainable params: 0\n",
      "_________________________________________________________________\n"
     ]
    }
   ],
   "source": [
    "# Building the same NN model as before to train on the PCA encoded data.\n",
    "Model_pca = Sequential(\n",
    "    [\n",
    "        Dense(20, input_dim= pca_embedding_dimension, activation = 'relu', name='Input_Dense',),\n",
    "        #Dense(20, activation= 'relu'),\n",
    "        Softmax(1, name = 'Output_Softmax'),\n",
    "    ]\n",
    ")\n",
    "Model_pca.compile(loss=mean_squared_error, optimizer= 'Adam', metrics= 'accuracy')\n",
    "Model_pca.summary()"
   ]
  },
  {
   "cell_type": "code",
   "execution_count": 297,
   "id": "42677d12",
   "metadata": {},
   "outputs": [],
   "source": [
    "X_pca = pd.DataFrame(X_pca)\n",
    "M_pca = X_pca.mean()\n",
    "S_pca = X_pca.std()\n",
    "X_pca_norm = (X_pca - M_pca)/S_pca"
   ]
  },
  {
   "cell_type": "code",
   "execution_count": 300,
   "id": "890e4fd7",
   "metadata": {},
   "outputs": [],
   "source": [
    "X_pca_train, X_pca_val, y_train, y_val = train_test_split(X_pca_norm,y_dummies,\n",
    "                                                  test_size = .2,\n",
    "                                                 shuffle=True,\n",
    "                                                 stratify=y_check)"
   ]
  },
  {
   "cell_type": "code",
   "execution_count": 301,
   "id": "17a3051e",
   "metadata": {},
   "outputs": [
    {
     "name": "stdout",
     "output_type": "stream",
     "text": [
      "Epoch 1/100\n",
      "7949/7949 [==============================] - 10s 1ms/step - loss: 0.0289 - accuracy: 0.5584 - val_loss: 0.0236 - val_accuracy: 0.6588\n",
      "Epoch 2/100\n",
      "7949/7949 [==============================] - 10s 1ms/step - loss: 0.0228 - accuracy: 0.6700 - val_loss: 0.0230 - val_accuracy: 0.6683\n",
      "Epoch 3/100\n",
      "7949/7949 [==============================] - 10s 1ms/step - loss: 0.0222 - accuracy: 0.6811 - val_loss: 0.0227 - val_accuracy: 0.6707\n",
      "Epoch 4/100\n",
      "7949/7949 [==============================] - 10s 1ms/step - loss: 0.0219 - accuracy: 0.6873 - val_loss: 0.0230 - val_accuracy: 0.6712\n",
      "Epoch 5/100\n",
      "7949/7949 [==============================] - 11s 1ms/step - loss: 0.0217 - accuracy: 0.6900 - val_loss: 0.0229 - val_accuracy: 0.6732\n",
      "Epoch 6/100\n",
      "7949/7949 [==============================] - 10s 1ms/step - loss: 0.0215 - accuracy: 0.6937 - val_loss: 0.0229 - val_accuracy: 0.6708\n",
      "Epoch 7/100\n",
      "7949/7949 [==============================] - 11s 1ms/step - loss: 0.0214 - accuracy: 0.6956 - val_loss: 0.0229 - val_accuracy: 0.6708\n",
      "Epoch 8/100\n",
      "7949/7949 [==============================] - 10s 1ms/step - loss: 0.0213 - accuracy: 0.6987 - val_loss: 0.0231 - val_accuracy: 0.6708\n",
      "Epoch 9/100\n",
      "7949/7949 [==============================] - 10s 1ms/step - loss: 0.0212 - accuracy: 0.6980 - val_loss: 0.0229 - val_accuracy: 0.6725\n",
      "Epoch 10/100\n",
      "7949/7949 [==============================] - 10s 1ms/step - loss: 0.0212 - accuracy: 0.6997 - val_loss: 0.0229 - val_accuracy: 0.6748\n",
      "Epoch 11/100\n",
      "7949/7949 [==============================] - 10s 1ms/step - loss: 0.0211 - accuracy: 0.6993 - val_loss: 0.0230 - val_accuracy: 0.6742\n",
      "Epoch 12/100\n",
      "7949/7949 [==============================] - 11s 1ms/step - loss: 0.0210 - accuracy: 0.7033 - val_loss: 0.0230 - val_accuracy: 0.6739\n",
      "Epoch 13/100\n",
      "7949/7949 [==============================] - 11s 1ms/step - loss: 0.0210 - accuracy: 0.7024 - val_loss: 0.0230 - val_accuracy: 0.6728\n",
      "Epoch 14/100\n",
      "7949/7949 [==============================] - 11s 1ms/step - loss: 0.0210 - accuracy: 0.7038 - val_loss: 0.0230 - val_accuracy: 0.6762\n",
      "Epoch 15/100\n",
      "7949/7949 [==============================] - 11s 1ms/step - loss: 0.0209 - accuracy: 0.7048 - val_loss: 0.0229 - val_accuracy: 0.6769\n",
      "Epoch 16/100\n",
      "7949/7949 [==============================] - 10s 1ms/step - loss: 0.0209 - accuracy: 0.7041 - val_loss: 0.0230 - val_accuracy: 0.6751\n",
      "Epoch 17/100\n",
      "7949/7949 [==============================] - 11s 1ms/step - loss: 0.0208 - accuracy: 0.7070 - val_loss: 0.0230 - val_accuracy: 0.6709\n",
      "Epoch 18/100\n",
      "7949/7949 [==============================] - 12s 2ms/step - loss: 0.0209 - accuracy: 0.7054 - val_loss: 0.0230 - val_accuracy: 0.6767\n",
      "Epoch 19/100\n",
      "7949/7949 [==============================] - 13s 2ms/step - loss: 0.0208 - accuracy: 0.7066 - val_loss: 0.0230 - val_accuracy: 0.6754\n",
      "Epoch 20/100\n",
      "7949/7949 [==============================] - 14s 2ms/step - loss: 0.0208 - accuracy: 0.7080 - val_loss: 0.0231 - val_accuracy: 0.6724\n",
      "Epoch 21/100\n",
      "7949/7949 [==============================] - 14s 2ms/step - loss: 0.0208 - accuracy: 0.7080 - val_loss: 0.0230 - val_accuracy: 0.6744\n",
      "Epoch 22/100\n",
      "7949/7949 [==============================] - 11s 1ms/step - loss: 0.0207 - accuracy: 0.7084 - val_loss: 0.0229 - val_accuracy: 0.6788\n",
      "Epoch 23/100\n",
      "7949/7949 [==============================] - 11s 1ms/step - loss: 0.0207 - accuracy: 0.7093 - val_loss: 0.0231 - val_accuracy: 0.6757\n",
      "Epoch 24/100\n",
      "7949/7949 [==============================] - 12s 1ms/step - loss: 0.0206 - accuracy: 0.7102 - val_loss: 0.0232 - val_accuracy: 0.6744\n",
      "Epoch 25/100\n",
      "7949/7949 [==============================] - 10s 1ms/step - loss: 0.0206 - accuracy: 0.7098 - val_loss: 0.0231 - val_accuracy: 0.6759\n",
      "Epoch 26/100\n",
      "7949/7949 [==============================] - 10s 1ms/step - loss: 0.0206 - accuracy: 0.7092 - val_loss: 0.0231 - val_accuracy: 0.6796\n",
      "Epoch 27/100\n",
      "7949/7949 [==============================] - 10s 1ms/step - loss: 0.0206 - accuracy: 0.7117 - val_loss: 0.0232 - val_accuracy: 0.6763\n",
      "Epoch 28/100\n",
      "7949/7949 [==============================] - 10s 1ms/step - loss: 0.0206 - accuracy: 0.7104 - val_loss: 0.0233 - val_accuracy: 0.6718\n",
      "Epoch 29/100\n",
      "7949/7949 [==============================] - 11s 1ms/step - loss: 0.0205 - accuracy: 0.7136 - val_loss: 0.0232 - val_accuracy: 0.6779\n",
      "Epoch 30/100\n",
      "7949/7949 [==============================] - 10s 1ms/step - loss: 0.0205 - accuracy: 0.7127 - val_loss: 0.0232 - val_accuracy: 0.6732\n",
      "Epoch 31/100\n",
      "7949/7949 [==============================] - 11s 1ms/step - loss: 0.0205 - accuracy: 0.7138 - val_loss: 0.0232 - val_accuracy: 0.6740\n",
      "Epoch 32/100\n",
      "7949/7949 [==============================] - 11s 1ms/step - loss: 0.0205 - accuracy: 0.7124 - val_loss: 0.0233 - val_accuracy: 0.6757\n",
      "Epoch 33/100\n",
      "7949/7949 [==============================] - 10s 1ms/step - loss: 0.0205 - accuracy: 0.7137 - val_loss: 0.0232 - val_accuracy: 0.6753\n",
      "Epoch 34/100\n",
      "7949/7949 [==============================] - 11s 1ms/step - loss: 0.0205 - accuracy: 0.7136 - val_loss: 0.0232 - val_accuracy: 0.6762\n",
      "Epoch 35/100\n",
      "7949/7949 [==============================] - 14s 2ms/step - loss: 0.0205 - accuracy: 0.7143 - val_loss: 0.0232 - val_accuracy: 0.6746\n",
      "Epoch 36/100\n",
      "7949/7949 [==============================] - 12s 1ms/step - loss: 0.0204 - accuracy: 0.7157 - val_loss: 0.0233 - val_accuracy: 0.6738\n",
      "Epoch 37/100\n",
      "7949/7949 [==============================] - 11s 1ms/step - loss: 0.0204 - accuracy: 0.7146 - val_loss: 0.0233 - val_accuracy: 0.6747\n",
      "Epoch 38/100\n",
      "7949/7949 [==============================] - 11s 1ms/step - loss: 0.0204 - accuracy: 0.7164 - val_loss: 0.0234 - val_accuracy: 0.6740\n",
      "Epoch 39/100\n",
      "7949/7949 [==============================] - 12s 2ms/step - loss: 0.0204 - accuracy: 0.7158 - val_loss: 0.0234 - val_accuracy: 0.6756\n",
      "Epoch 40/100\n",
      "7949/7949 [==============================] - 11s 1ms/step - loss: 0.0204 - accuracy: 0.7141 - val_loss: 0.0235 - val_accuracy: 0.6751\n",
      "Epoch 41/100\n",
      "7949/7949 [==============================] - 11s 1ms/step - loss: 0.0204 - accuracy: 0.7132 - val_loss: 0.0234 - val_accuracy: 0.6752\n",
      "Epoch 42/100\n",
      "7949/7949 [==============================] - 11s 1ms/step - loss: 0.0203 - accuracy: 0.7176 - val_loss: 0.0234 - val_accuracy: 0.6756\n",
      "Epoch 43/100\n",
      "7949/7949 [==============================] - 11s 1ms/step - loss: 0.0204 - accuracy: 0.7153 - val_loss: 0.0232 - val_accuracy: 0.6778\n",
      "Epoch 44/100\n",
      "7949/7949 [==============================] - 11s 1ms/step - loss: 0.0203 - accuracy: 0.7166 - val_loss: 0.0233 - val_accuracy: 0.6786\n",
      "Epoch 45/100\n",
      "7949/7949 [==============================] - 13s 2ms/step - loss: 0.0204 - accuracy: 0.7168 - val_loss: 0.0234 - val_accuracy: 0.6757\n",
      "Epoch 46/100\n",
      "7949/7949 [==============================] - 13s 2ms/step - loss: 0.0203 - accuracy: 0.7173 - val_loss: 0.0233 - val_accuracy: 0.6785\n",
      "Epoch 47/100\n",
      "7949/7949 [==============================] - 11s 1ms/step - loss: 0.0203 - accuracy: 0.7158 - val_loss: 0.0235 - val_accuracy: 0.6737\n",
      "Epoch 48/100\n",
      "7949/7949 [==============================] - 11s 1ms/step - loss: 0.0203 - accuracy: 0.7180 - val_loss: 0.0234 - val_accuracy: 0.6743\n",
      "Epoch 49/100\n",
      "7949/7949 [==============================] - 10s 1ms/step - loss: 0.0203 - accuracy: 0.7176 - val_loss: 0.0235 - val_accuracy: 0.6751\n",
      "Epoch 50/100\n",
      "7949/7949 [==============================] - 11s 1ms/step - loss: 0.0203 - accuracy: 0.7178 - val_loss: 0.0234 - val_accuracy: 0.6757\n",
      "Epoch 51/100\n",
      "7949/7949 [==============================] - 12s 2ms/step - loss: 0.0203 - accuracy: 0.7197 - val_loss: 0.0236 - val_accuracy: 0.6740\n",
      "Epoch 52/100\n",
      "7949/7949 [==============================] - 11s 1ms/step - loss: 0.0203 - accuracy: 0.7181 - val_loss: 0.0234 - val_accuracy: 0.6776\n",
      "Epoch 53/100\n",
      "7949/7949 [==============================] - 12s 2ms/step - loss: 0.0203 - accuracy: 0.7176 - val_loss: 0.0235 - val_accuracy: 0.6738\n",
      "Epoch 54/100\n",
      "7949/7949 [==============================] - 11s 1ms/step - loss: 0.0203 - accuracy: 0.7175 - val_loss: 0.0235 - val_accuracy: 0.6727\n",
      "Epoch 55/100\n",
      "7949/7949 [==============================] - 14s 2ms/step - loss: 0.0203 - accuracy: 0.7189 - val_loss: 0.0236 - val_accuracy: 0.6740\n",
      "Epoch 56/100\n",
      "7949/7949 [==============================] - 11s 1ms/step - loss: 0.0203 - accuracy: 0.7183 - val_loss: 0.0235 - val_accuracy: 0.6728\n"
     ]
    },
    {
     "name": "stdout",
     "output_type": "stream",
     "text": [
      "Epoch 57/100\n",
      "7949/7949 [==============================] - 10s 1ms/step - loss: 0.0202 - accuracy: 0.7189 - val_loss: 0.0235 - val_accuracy: 0.6772\n",
      "Epoch 58/100\n",
      "7949/7949 [==============================] - 10s 1ms/step - loss: 0.0202 - accuracy: 0.7191 - val_loss: 0.0235 - val_accuracy: 0.6739\n",
      "Epoch 59/100\n",
      "7949/7949 [==============================] - 11s 1ms/step - loss: 0.0202 - accuracy: 0.7206 - val_loss: 0.0236 - val_accuracy: 0.6753\n",
      "Epoch 60/100\n",
      "7949/7949 [==============================] - 11s 1ms/step - loss: 0.0202 - accuracy: 0.7203 - val_loss: 0.0237 - val_accuracy: 0.6689\n",
      "Epoch 61/100\n",
      "7949/7949 [==============================] - 13s 2ms/step - loss: 0.0202 - accuracy: 0.7187 - val_loss: 0.0236 - val_accuracy: 0.6728\n",
      "Epoch 62/100\n",
      "7949/7949 [==============================] - 11s 1ms/step - loss: 0.0202 - accuracy: 0.7210 - val_loss: 0.0237 - val_accuracy: 0.6734\n",
      "Epoch 63/100\n",
      "7949/7949 [==============================] - 12s 2ms/step - loss: 0.0202 - accuracy: 0.7211 - val_loss: 0.0237 - val_accuracy: 0.6714\n",
      "Epoch 64/100\n",
      "7949/7949 [==============================] - 13s 2ms/step - loss: 0.0201 - accuracy: 0.7207 - val_loss: 0.0235 - val_accuracy: 0.6779\n",
      "Epoch 65/100\n",
      "7949/7949 [==============================] - 13s 2ms/step - loss: 0.0202 - accuracy: 0.7220 - val_loss: 0.0235 - val_accuracy: 0.6753\n",
      "Epoch 66/100\n",
      "7949/7949 [==============================] - 12s 1ms/step - loss: 0.0202 - accuracy: 0.7210 - val_loss: 0.0237 - val_accuracy: 0.6709\n",
      "Epoch 67/100\n",
      "7949/7949 [==============================] - 13s 2ms/step - loss: 0.0201 - accuracy: 0.7215 - val_loss: 0.0238 - val_accuracy: 0.6708\n",
      "Epoch 68/100\n",
      "7949/7949 [==============================] - 12s 2ms/step - loss: 0.0201 - accuracy: 0.7216 - val_loss: 0.0236 - val_accuracy: 0.6778\n",
      "Epoch 69/100\n",
      "7949/7949 [==============================] - 11s 1ms/step - loss: 0.0201 - accuracy: 0.7191 - val_loss: 0.0237 - val_accuracy: 0.6709\n",
      "Epoch 70/100\n",
      "7949/7949 [==============================] - 11s 1ms/step - loss: 0.0202 - accuracy: 0.7199 - val_loss: 0.0236 - val_accuracy: 0.6735\n",
      "Epoch 71/100\n",
      "7949/7949 [==============================] - 10s 1ms/step - loss: 0.0201 - accuracy: 0.7218 - val_loss: 0.0236 - val_accuracy: 0.6730\n",
      "Epoch 72/100\n",
      "7949/7949 [==============================] - 10s 1ms/step - loss: 0.0201 - accuracy: 0.7224 - val_loss: 0.0236 - val_accuracy: 0.6778\n",
      "Epoch 73/100\n",
      "7949/7949 [==============================] - 11s 1ms/step - loss: 0.0201 - accuracy: 0.7222 - val_loss: 0.0238 - val_accuracy: 0.6739\n",
      "Epoch 74/100\n",
      "7949/7949 [==============================] - 10s 1ms/step - loss: 0.0201 - accuracy: 0.7241 - val_loss: 0.0239 - val_accuracy: 0.6718\n",
      "Epoch 75/100\n",
      "7949/7949 [==============================] - 12s 2ms/step - loss: 0.0201 - accuracy: 0.7227 - val_loss: 0.0237 - val_accuracy: 0.6763\n",
      "Epoch 76/100\n",
      "7949/7949 [==============================] - 12s 1ms/step - loss: 0.0201 - accuracy: 0.7230 - val_loss: 0.0236 - val_accuracy: 0.6751\n",
      "Epoch 77/100\n",
      "7949/7949 [==============================] - 11s 1ms/step - loss: 0.0201 - accuracy: 0.7225 - val_loss: 0.0236 - val_accuracy: 0.6738\n",
      "Epoch 78/100\n",
      "7949/7949 [==============================] - 10s 1ms/step - loss: 0.0201 - accuracy: 0.7219 - val_loss: 0.0237 - val_accuracy: 0.6758\n",
      "Epoch 79/100\n",
      "7949/7949 [==============================] - 18s 2ms/step - loss: 0.0201 - accuracy: 0.7228 - val_loss: 0.0238 - val_accuracy: 0.6704s\n",
      "Epoch 80/100\n",
      "7949/7949 [==============================] - 23s 3ms/step - loss: 0.0201 - accuracy: 0.7232 - val_loss: 0.0239 - val_accuracy: 0.6727\n",
      "Epoch 81/100\n",
      "7949/7949 [==============================] - 16s 2ms/step - loss: 0.0200 - accuracy: 0.7244 - val_loss: 0.0239 - val_accuracy: 0.6725\n",
      "Epoch 82/100\n",
      "7949/7949 [==============================] - 21s 3ms/step - loss: 0.0201 - accuracy: 0.7242 - val_loss: 0.0240 - val_accuracy: 0.6718\n",
      "Epoch 83/100\n",
      "7949/7949 [==============================] - 28s 4ms/step - loss: 0.0201 - accuracy: 0.7235 - val_loss: 0.0238 - val_accuracy: 0.6747\n",
      "Epoch 84/100\n",
      "7949/7949 [==============================] - 24s 3ms/step - loss: 0.0200 - accuracy: 0.7233 - val_loss: 0.0239 - val_accuracy: 0.6727\n",
      "Epoch 85/100\n",
      "7949/7949 [==============================] - 22s 3ms/step - loss: 0.0200 - accuracy: 0.7250 - val_loss: 0.0238 - val_accuracy: 0.6744\n",
      "Epoch 86/100\n",
      "7949/7949 [==============================] - 23s 3ms/step - loss: 0.0200 - accuracy: 0.7255 - val_loss: 0.0237 - val_accuracy: 0.6759 0s - loss: 0.0200 - accuracy: 0.72\n",
      "Epoch 87/100\n",
      "7949/7949 [==============================] - 16s 2ms/step - loss: 0.0200 - accuracy: 0.7242 - val_loss: 0.0238 - val_accuracy: 0.6725\n",
      "Epoch 88/100\n",
      "7949/7949 [==============================] - 17s 2ms/step - loss: 0.0200 - accuracy: 0.7247 - val_loss: 0.0239 - val_accuracy: 0.6744ss:\n",
      "Epoch 89/100\n",
      "7949/7949 [==============================] - 18s 2ms/step - loss: 0.0200 - accuracy: 0.7226 - val_loss: 0.0240 - val_accuracy: 0.6704\n",
      "Epoch 90/100\n",
      "7949/7949 [==============================] - 24s 3ms/step - loss: 0.0200 - accuracy: 0.7247 - val_loss: 0.0238 - val_accuracy: 0.6764\n",
      "Epoch 91/100\n",
      "7949/7949 [==============================] - 19s 2ms/step - loss: 0.0200 - accuracy: 0.7243 - val_loss: 0.0239 - val_accuracy: 0.6727\n",
      "Epoch 92/100\n",
      "7949/7949 [==============================] - 17s 2ms/step - loss: 0.0200 - accuracy: 0.7249 - val_loss: 0.0240 - val_accuracy: 0.6705\n",
      "Epoch 93/100\n",
      "7949/7949 [==============================] - 17s 2ms/step - loss: 0.0200 - accuracy: 0.7247 - val_loss: 0.0239 - val_accuracy: 0.6723\n",
      "Epoch 94/100\n",
      "7949/7949 [==============================] - 16s 2ms/step - loss: 0.0200 - accuracy: 0.7254 - val_loss: 0.0238 - val_accuracy: 0.6759\n",
      "Epoch 95/100\n",
      "7949/7949 [==============================] - 17s 2ms/step - loss: 0.0200 - accuracy: 0.7240 - val_loss: 0.0239 - val_accuracy: 0.6756\n",
      "Epoch 96/100\n",
      "7949/7949 [==============================] - 19s 2ms/step - loss: 0.0200 - accuracy: 0.7240 - val_loss: 0.0240 - val_accuracy: 0.6703\n",
      "Epoch 97/100\n",
      "7949/7949 [==============================] - 17s 2ms/step - loss: 0.0200 - accuracy: 0.7247 - val_loss: 0.0239 - val_accuracy: 0.6773\n",
      "Epoch 98/100\n",
      "7949/7949 [==============================] - 20s 2ms/step - loss: 0.0200 - accuracy: 0.7260 - val_loss: 0.0241 - val_accuracy: 0.6713\n",
      "Epoch 99/100\n",
      "7949/7949 [==============================] - 20s 3ms/step - loss: 0.0199 - accuracy: 0.7240 - val_loss: 0.0240 - val_accuracy: 0.6718\n",
      "Epoch 100/100\n",
      "7949/7949 [==============================] - 16s 2ms/step - loss: 0.0200 - accuracy: 0.7251 - val_loss: 0.0240 - val_accuracy: 0.6713\n"
     ]
    }
   ],
   "source": [
    "history = Model_pca.fit(X_pca_train,\n",
    "                    y_train,\n",
    "                    validation_data=(X_pca_val, y_val),\n",
    "                    epochs=100, \n",
    "                    batch_size = 4)"
   ]
  },
  {
   "cell_type": "code",
   "execution_count": 302,
   "id": "627eac60",
   "metadata": {},
   "outputs": [
    {
     "name": "stderr",
     "output_type": "stream",
     "text": [
      "WARNING:absl:Function `_wrapped_model` contains input name(s) Input_Dense_input with unsupported characters which will be renamed to input_dense_input in the SavedModel.\n"
     ]
    },
    {
     "name": "stdout",
     "output_type": "stream",
     "text": [
      "INFO:tensorflow:Assets written to: Model_pca.H5\\assets\n"
     ]
    },
    {
     "name": "stderr",
     "output_type": "stream",
     "text": [
      "INFO:tensorflow:Assets written to: Model_pca.H5\\assets\n"
     ]
    }
   ],
   "source": [
    "Model_pca.save('Model_pca.H5')"
   ]
  },
  {
   "cell_type": "code",
   "execution_count": 303,
   "id": "64f340d9",
   "metadata": {},
   "outputs": [
    {
     "data": {
      "text/plain": [
       "Text(0, 0.5, 'Mean Squared Error')"
      ]
     },
     "execution_count": 303,
     "metadata": {},
     "output_type": "execute_result"
    },
    {
     "data": {
      "image/png": "[encoded data removed]",
      "text/plain": [
       "<Figure size 720x720 with 1 Axes>"
      ]
     },
     "metadata": {
      "needs_background": "light"
     },
     "output_type": "display_data"
    }
   ],
   "source": [
    "plt.figure(figsize = (10,10))\n",
    "plt.plot(history.history['loss'], label = 'Trainng error', color = 'orange')\n",
    "plt.plot(history.history['val_loss'], label = 'Validation error', color = 'maroon')\n",
    "plt.title('Error Plot')\n",
    "plt.legend()\n",
    "plt.xlabel('Epochs')\n",
    "plt.ylabel('Mean Squared Error')"
   ]
  },
  {
   "cell_type": "code",
   "execution_count": 304,
   "id": "c522d756",
   "metadata": {},
   "outputs": [
    {
     "data": {
      "text/plain": [
       "Text(0, 0.5, 'Accuracy')"
      ]
     },
     "execution_count": 304,
     "metadata": {},
     "output_type": "execute_result"
    },
    {
     "data": {
      "image/png": "[encoded data removed]",
      "text/plain": [
       "<Figure size 720x576 with 1 Axes>"
      ]
     },
     "metadata": {
      "needs_background": "light"
     },
     "output_type": "display_data"
    }
   ],
   "source": [
    "plt.figure(figsize = (10,8))\n",
    "plt.plot(history.history['accuracy'], label = 'Training accuracy', color = 'purple')\n",
    "plt.plot(history.history['val_accuracy'], label = 'Validation accuracy', color = 'green')\n",
    "plt.title('Accuracy Plot')\n",
    "plt.legend()\n",
    "plt.xlabel('Epochs')\n",
    "plt.ylabel('Accuracy')"
   ]
  },
  {
   "cell_type": "code",
   "execution_count": 305,
   "id": "5a7cba7c",
   "metadata": {},
   "outputs": [
    {
     "name": "stdout",
     "output_type": "stream",
     "text": [
      "\n",
      "Acuracy: 73.70 %\n"
     ]
    }
   ],
   "source": [
    "# Testing accuracy of the hybrid model\n",
    "\n",
    "Incorrect = 0\n",
    "Correct = 0\n",
    "num_samples = 1000\n",
    "for i in range(num_samples):\n",
    "    n = np.random.randint(0,len(data_train))\n",
    "    if any(ele in Special_ingredients for ele in data_train[n]['ingredients']):\n",
    "        for cuisine in Special.keys():\n",
    "            if any(ele in Special[cuisine] for ele in data_train[n]['ingredients']):\n",
    "                if cuisine == data_train[n]['cuisine']:\n",
    "                    Correct+= 1\n",
    "                else:\n",
    "                    Incorrect+= 1\n",
    "                break\n",
    "    else:\n",
    "        test_vec = one_hot_ingredients(data_train[n]['ingredients'])\n",
    "        test_vec = np.dot(test_vec,pca_components.transpose())\n",
    "        test_vec = (test_vec - M_pca.to_numpy())/S_pca.to_numpy()\n",
    "        pred = Model_pca.predict(test_vec)\n",
    "        if y_dummies.columns[np.argmax(pred)].replace('0_','') == data_train[n]['cuisine']:\n",
    "            Correct+= 1\n",
    "        else:\n",
    "            Incorrect+=1\n",
    "print('\\nAcuracy: %.2f' %(Correct/(num_samples)*100),'%')"
   ]
  },
  {
   "cell_type": "code",
   "execution_count": 310,
   "id": "9aa83744",
   "metadata": {},
   "outputs": [],
   "source": [
    "y_svm = pd.DataFrame(y_check, columns=['Cuisine'])\n",
    "y_svm['token'] = pd.factorize(y_svm.Cuisine)[0]"
   ]
  },
  {
   "cell_type": "code",
   "execution_count": 196,
   "id": "f774fda1",
   "metadata": {},
   "outputs": [],
   "source": [
    "svm_pca = SVC(kernel = 'linear', C = 1)"
   ]
  },
  {
   "cell_type": "code",
   "execution_count": 238,
   "id": "dc371fbd",
   "metadata": {},
   "outputs": [],
   "source": [
    "X_pca_svm_train, X_pca_svm_val, y_pca_svm_train, y_pca_svm_val = train_test_split(X_pca, y_svm.token.values,\n",
    "                                                  test_size = .2,\n",
    "                                                 shuffle=True,\n",
    "                                                 stratify=y_check_pca)"
   ]
  },
  {
   "cell_type": "code",
   "execution_count": 239,
   "id": "44fe61b6",
   "metadata": {},
   "outputs": [
    {
     "data": {
      "text/plain": [
       "SVC(C=1, kernel='poly')"
      ]
     },
     "execution_count": 239,
     "metadata": {},
     "output_type": "execute_result"
    }
   ],
   "source": [
    "svm_pca.fit(X_pca_svm_train, y_pca_svm_train)"
   ]
  },
  {
   "cell_type": "code",
   "execution_count": 240,
   "id": "db2003cf",
   "metadata": {},
   "outputs": [
    {
     "data": {
      "text/plain": [
       "0.5760068551842331"
      ]
     },
     "execution_count": 240,
     "metadata": {},
     "output_type": "execute_result"
    }
   ],
   "source": [
    "svm_pca_pred = svm_pca.predict(X_pca_svm_val)\n",
    "acc = svm_pca.score(X_pca_svm_val, y_pca_svm_val)\n",
    "acc"
   ]
  },
  {
   "cell_type": "code",
   "execution_count": 216,
   "id": "2e85550a",
   "metadata": {},
   "outputs": [],
   "source": [
    "# Setting up the dictionary to read off the cuisine from the predicted token\n",
    "token_to_cuisine = {}\n",
    "for tok in range(20):\n",
    "    token_to_cuisine[tok] = list(y_svm[y_svm.token==tok].Cuisine)[0]"
   ]
  },
  {
   "cell_type": "code",
   "execution_count": 232,
   "id": "f321f4ce",
   "metadata": {},
   "outputs": [
    {
     "name": "stdout",
     "output_type": "stream",
     "text": [
      "\n",
      "Acuracy 76.40 %\n"
     ]
    }
   ],
   "source": [
    "# Testing accuracy of the hybrid model\n",
    "\n",
    "Incorrect = 0\n",
    "Correct = 0\n",
    "num_samples = 1000\n",
    "for i in range(num_samples):\n",
    "    n = np.random.randint(0,len(data_train))\n",
    "    if any(ele in Special_ingredients for ele in data_train[n]['ingredients']):\n",
    "        for cuisine in Special.keys():\n",
    "            if any(ele in Special[cuisine] for ele in data_train[n]['ingredients']):\n",
    "                if cuisine == data_train[n]['cuisine']:\n",
    "                    Correct+= 1\n",
    "                else:\n",
    "                    Incorrect+= 1\n",
    "                break\n",
    "    else:\n",
    "        start = time.time()\n",
    "        test_vec = one_hot_ingredients(data_train[n]['ingredients'])\n",
    "        test_vec = np.dot(test_vec,pca_components.transpose()).reshape(1,pca_embedding_dimension)\n",
    "        pred = svm_pca.predict(test_vec)\n",
    "        if token_to_cuisine[pred[0]] == data_train[n]['cuisine']:\n",
    "            Correct+= 1\n",
    "        else:\n",
    "            Incorrect+=1\n",
    "print('\\nAcuracy %.2f' %(Correct/(Correct+Incorrect)*100),'%')"
   ]
  },
  {
   "cell_type": "code",
   "execution_count": 233,
   "id": "b587b233",
   "metadata": {},
   "outputs": [],
   "source": [
    "svm_model_w2v_linear = SVC(kernel = 'linear', C = 1)"
   ]
  },
  {
   "cell_type": "code",
   "execution_count": 234,
   "id": "d682c518",
   "metadata": {},
   "outputs": [],
   "source": [
    "X_train, X_val, y_train, y_val = train_test_split(X,y_svm.token.values,\n",
    "                                                  test_size = .17,\n",
    "                                                 shuffle=True,\n",
    "                                                 stratify=y_check)\n",
    "# Normalizing the training data before feeding it into the model\n",
    "M = X.mean()\n",
    "S = X.std()\n",
    "X_train_norm = (X_train - M)/S\n",
    "X_val_norm = (X_val - M)/S"
   ]
  },
  {
   "cell_type": "code",
   "execution_count": 236,
   "id": "d1bc9b07",
   "metadata": {},
   "outputs": [
    {
     "data": {
      "text/plain": [
       "SVC(C=1, kernel='linear')"
      ]
     },
     "execution_count": 236,
     "metadata": {},
     "output_type": "execute_result"
    }
   ],
   "source": [
    "svm_model_w2v_linear.fit(X_train_norm,y_train)"
   ]
  },
  {
   "cell_type": "code",
   "execution_count": 237,
   "id": "c44bc18e",
   "metadata": {},
   "outputs": [
    {
     "data": {
      "text/plain": [
       "0.676949443016281"
      ]
     },
     "execution_count": 237,
     "metadata": {},
     "output_type": "execute_result"
    }
   ],
   "source": [
    "w2v_linear_pred = svm_model_w2v_linear.predict(X_val_norm)\n",
    "acc = svm_model_w2v_linear.score(X_val_norm, y_val)\n",
    "acc"
   ]
  },
  {
   "cell_type": "code",
   "execution_count": 321,
   "id": "a23ec083",
   "metadata": {},
   "outputs": [
    {
     "name": "stdout",
     "output_type": "stream",
     "text": [
      "[===========================================-------] 86.9% 111.3/128.1MB downloaded"
     ]
    }
   ],
   "source": [
    "import gensim.downloader as api\n",
    "W2V = api.load(\"glove-wiki-gigaword-100\")"
   ]
  },
  {
   "cell_type": "code",
   "execution_count": 323,
   "id": "6cfae2c4",
   "metadata": {},
   "outputs": [
    {
     "ename": "AttributeError",
     "evalue": "'KeyedVectors' object has no attribute 'w2v'",
     "output_type": "error",
     "traceback": [
      "\u001b[1;31m---------------------------------------------------------------------------\u001b[0m",
      "\u001b[1;31mAttributeError\u001b[0m                            Traceback (most recent call last)",
      "\u001b[1;32m<ipython-input-323-bee1e6e8ad90>\u001b[0m in \u001b[0;36m<module>\u001b[1;34m\u001b[0m\n\u001b[1;32m----> 1\u001b[1;33m \u001b[0mW2V\u001b[0m\u001b[1;33m.\u001b[0m\u001b[0mw2v\u001b[0m\u001b[1;33m\u001b[0m\u001b[1;33m\u001b[0m\u001b[0m\n\u001b[0m",
      "\u001b[1;31mAttributeError\u001b[0m: 'KeyedVectors' object has no attribute 'w2v'"
     ]
    }
   ],
   "source": [
    "W2V"
   ]
  },
  {
   "cell_type": "code",
   "execution_count": null,
   "id": "f7cec4a4",
   "metadata": {},
   "outputs": [],
   "source": []
  }
 ],
 "metadata": {
  "kernelspec": {
   "display_name": "Python 3",
   "language": "python",
   "name": "python3"
  },
  "language_info": {
   "codemirror_mode": {
    "name": "ipython",
    "version": 3
   },
   "file_extension": ".py",
   "mimetype": "text/x-python",
   "name": "python",
   "nbconvert_exporter": "python",
   "pygments_lexer": "ipython3",
   "version": "3.8.8"
  }
 },
 "nbformat": 4,
 "nbformat_minor": 5
}
