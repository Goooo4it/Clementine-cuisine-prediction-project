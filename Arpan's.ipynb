{
 "cells": [
  {
   "cell_type": "markdown",
   "id": "c227e81a",
   "metadata": {},
   "source": [
    "# Introduction\n",
    "In this notebook we are analyzing the Clementine cuisine prediction dataset. The dataset consistists of list of ingredients for different recipies coming from 20 different cuisines. Our task is to predict the cuisine just looking at/analyzing the list of ingredients of a recipe."
   ]
  },
  {
   "cell_type": "code",
   "execution_count": 257,
   "id": "0effcf65",
   "metadata": {},
   "outputs": [],
   "source": [
    "# Importing necessary packages\n",
    "import json\n",
    "import numpy as np\n",
    "import pandas as pd\n",
    "import time\n",
    "from sklearn.linear_model import LinearRegression\n",
    "from sklearn.model_selection import train_test_split\n",
    "import gensim\n",
    "from gensim.models import Word2Vec\n",
    "import gensim.downloader as api\n",
    "import matplotlib\n",
    "import matplotlib.pyplot as plt\n",
    "import tensorflow as tf\n",
    "from keras.models import Sequential\n",
    "from keras.layers import Dense, Softmax\n",
    "from keras.metrics import mean_squared_error\n",
    "import copy\n",
    "from sklearn.decomposition import PCA\n",
    "from sklearn.svm import SVC"
   ]
  },
  {
   "cell_type": "code",
   "execution_count": 253,
   "id": "1b760270",
   "metadata": {},
   "outputs": [],
   "source": [
    "#Loadig the training and testing datasets\n",
    "f = open('data/test.json')\n",
    "data_test = json.load(f)\n",
    "f.close()\n",
    "f = open('data/train.json')\n",
    "data_train = json.load(f)\n",
    "f.close()"
   ]
  },
  {
   "cell_type": "markdown",
   "id": "785ddc42",
   "metadata": {},
   "source": [
    "## Preprocessing and Data Cleaning\n",
    "We are preprocessing and cleaning the given dataset in two steps.\n",
    "- In the first step we are making sure that all the ingredients are written in lower case.\n",
    "- In the next step we are looking for pair of datapoints with same set of ingredients but listed under two different cuisines. We remove such datapoints from the training data."
   ]
  },
  {
   "cell_type": "code",
   "execution_count": 254,
   "id": "866b59bb",
   "metadata": {},
   "outputs": [],
   "source": [
    "# In this step we are making sure that all the ingredients are written in lowercase.\n",
    "clean_data_train = []\n",
    "for recipe in data_train:\n",
    "    temp = recipe\n",
    "    ingredients_lower = []\n",
    "    for j in recipe['ingredients']:\n",
    "        ingredients_lower.append(j.lower())\n",
    "    temp['ingredients'] = ingredients_lower\n",
    "    clean_data_train.append(temp)\n",
    "data_train = copy.deepcopy(clean_data_train)"
   ]
  },
  {
   "cell_type": "code",
   "execution_count": 255,
   "id": "b88639d0",
   "metadata": {},
   "outputs": [],
   "source": [
    "# In this step we are loking for pair of datapoints with same set of ingredients but corresponding to different cuisines.\n",
    "# We are also removing such datapoints from the dataset.\n",
    "Confusing_data = []\n",
    "for i in range(len(data_train)):\n",
    "    for j in range(i,len(data_train)):\n",
    "        if set(data_train[i]['ingredients'])==set(data_train[j]['ingredients']) and data_train[i]['cuisine'] != data_train[j]['cuisine']:\n",
    "            Confusing_data.append((i,j))\n",
    "redundant = [i[0] for i in Confusing_data] + [i[1] for i in Confusing_data]\n",
    "clean_data_train = []\n",
    "for i in range(len(data_train)):\n",
    "    if i not in redundant:\n",
    "        clean_data_train.append(data_train[i])\n",
    "data_train = copy.deepcopy(clean_data_train)"
   ]
  },
  {
   "cell_type": "code",
   "execution_count": 259,
   "id": "1dc62754",
   "metadata": {
    "scrolled": true
   },
   "outputs": [
    {
     "name": "stdout",
     "output_type": "stream",
     "text": [
      "1 Cuisine: russian\n",
      "Occurrence: 489\n",
      "\n",
      "\n",
      "2 Cuisine: british\n",
      "Occurrence: 804\n",
      "\n",
      "\n",
      "3 Cuisine: vietnamese\n",
      "Occurrence: 823\n",
      "\n",
      "\n",
      "4 Cuisine: cajun_creole\n",
      "Occurrence: 1545\n",
      "\n",
      "\n",
      "5 Cuisine: greek\n",
      "Occurrence: 1173\n",
      "\n",
      "\n",
      "6 Cuisine: moroccan\n",
      "Occurrence: 820\n",
      "\n",
      "\n",
      "7 Cuisine: indian\n",
      "Occurrence: 3002\n",
      "\n",
      "\n",
      "8 Cuisine: irish\n",
      "Occurrence: 665\n",
      "\n",
      "\n",
      "9 Cuisine: korean\n",
      "Occurrence: 830\n",
      "\n",
      "\n",
      "10 Cuisine: southern_us\n",
      "Occurrence: 4316\n",
      "\n",
      "\n",
      "11 Cuisine: mexican\n",
      "Occurrence: 6436\n",
      "\n",
      "\n",
      "12 Cuisine: french\n",
      "Occurrence: 2641\n",
      "\n",
      "\n",
      "13 Cuisine: spanish\n",
      "Occurrence: 987\n",
      "\n",
      "\n",
      "14 Cuisine: chinese\n",
      "Occurrence: 2671\n",
      "\n",
      "\n",
      "15 Cuisine: thai\n",
      "Occurrence: 1539\n",
      "\n",
      "\n",
      "16 Cuisine: brazilian\n",
      "Occurrence: 467\n",
      "\n",
      "\n",
      "17 Cuisine: japanese\n",
      "Occurrence: 1421\n",
      "\n",
      "\n",
      "18 Cuisine: filipino\n",
      "Occurrence: 754\n",
      "\n",
      "\n",
      "19 Cuisine: jamaican\n",
      "Occurrence: 526\n",
      "\n",
      "\n",
      "20 Cuisine: italian\n",
      "Occurrence: 7835\n",
      "\n",
      "\n"
     ]
    }
   ],
   "source": [
    "# Creating the target dataset y\n",
    "y = [i['cuisine'] for i in data_train]\n",
    "y = pd.DataFrame(y,columns=['Cuisine'])\n",
    "\n",
    "# Printing how many datapoints we have corresponding to each cuisine\n",
    "count = 1\n",
    "for j in set(y.Cuisine):\n",
    "    print('%i Cuisine: %s'%(count,j))\n",
    "    count+= 1\n",
    "    print('Occurrence: %i'%list(y.Cuisine).count(j))\n",
    "    print('\\n')"
   ]
  },
  {
   "cell_type": "markdown",
   "id": "48d0e214",
   "metadata": {},
   "source": [
    "## Model selection\n",
    "In this analysis we tried a few different models and explaining the best perfroming ones among them. All our models are two step hybrid model where in the first step we look for presence of some special ingredients in the set of ingredients. Then in case we fail in the first step we go on to the second step where we predict the cuisine of the recipe using a ML algorithm or a Support Vector Machine (SVM) we have train on the training dataset.\n",
    "\n",
    "- First we extract special set of ingredients which are exclusive to each cuisine. Namely, we create a dictionary with cuisines as keys and the value corresponding to each cuisine is a set of ingredients that appears in some recipie(s) in that cuisine but does not appear in the set of ingredients to any other cuisine.\n",
    "\n",
    "- The second step our models can be further divided in two parts. \n",
    "    - First we compute an embedding of our data in a smaller dimensional space. We tried two different methods for finding out the embeddings. One is using **Word2Vec** from *gensim* and the other one is finding the PCA from one hot vectors.\n",
    "    - Once we have the data embedded in smaller dimensional space we tried two metods to to come up with predictions from there. We trained a shallow Neural Network on both the data embeddings, which has 20 Dense units as input layer followed by a Softmax unit as output layer. The other method we tried is training a Support Vector Machine on the embedded data with linear kernel. We observed that SVM's with polynomial kernel takes longer to train and produce prediction on our data and also performs with slightly less accuracy. So in this notebook we are presenting and comparing the performance of SVMs with linear kernel."
   ]
  },
  {
   "cell_type": "code",
   "execution_count": 260,
   "id": "b0815033",
   "metadata": {},
   "outputs": [],
   "source": [
    "# Here we prepare the set of Special ingredients exclusive to one cuisine.\n",
    "Sets = dict()\n",
    "Special = dict()\n",
    "\n",
    "for cuisine in set(y.Cuisine):\n",
    "    Sets[cuisine] = set()\n",
    "\n",
    "for recipe in data_train:\n",
    "    Sets[recipe['cuisine']] = Sets[recipe['cuisine']].union(set(recipe['ingredients']))\n",
    "\n",
    "for cuisine in set(y.Cuisine):\n",
    "    Special[cuisine] = Sets[cuisine]\n",
    "    for j in set(y.Cuisine) - {cuisine}:\n",
    "        Special[cuisine] = Special[cuisine] - Sets[j] \n",
    "Special_ingredients = set()\n",
    "for ingredients in Special.values():\n",
    "    Special_ingredients = Special_ingredients.union(ingredients)\n",
    "    \n",
    "# Here we create the list of ingredients which are not exclusive to one cuisine.\n",
    "Ingredients = set()\n",
    "for recipe in data_train:\n",
    "    Ingredients = Ingredients.union(set(recipe['ingredients']))\n",
    "Ingredients = list(Ingredients - Special_ingredients)"
   ]
  },
  {
   "cell_type": "code",
   "execution_count": 261,
   "id": "4cfdcc00",
   "metadata": {},
   "outputs": [],
   "source": [
    "# Building the list of sentences of ingredients on which we will calculate the \"Word2Vec\". \n",
    "sentences = []\n",
    "for recipe in data_train:\n",
    "    ingredients = set(recipe['ingredients']) - Special_ingredients\n",
    "    sentences.append(list(ingredients))"
   ]
  },
  {
   "cell_type": "code",
   "execution_count": 392,
   "id": "a6f5af07",
   "metadata": {},
   "outputs": [],
   "source": [
    "# Creating the word embedding model here. \n",
    "# Please note 'embedding_dimension' is a hyperparameter here.\n",
    "embedding_dimension = 100\n",
    "#w2v = Word2Vec(sentences, min_count=3, vector_size = embedding_dimension)\n",
    " \n",
    "word_vectors = api.load(\"glove-wiki-gigaword-100\")"
   ]
  },
  {
   "cell_type": "code",
   "execution_count": 393,
   "id": "f02ae5a3",
   "metadata": {},
   "outputs": [],
   "source": [
    "# Supplimentary function to calculate embedding of a list of ingredients.\n",
    "def recipe_embedding(ingredients, embedding_dimension = embedding_dimension):\n",
    "    v = np.zeros(embedding_dimension)\n",
    "    ing = []\n",
    "    for j in ingredients:\n",
    "        ing+=j.split()\n",
    "    num_ing = 0\n",
    "    for j in ing:\n",
    "        try:\n",
    "            v+= word_vectors[j]\n",
    "            num_ing+= 1\n",
    "        except:\n",
    "            v+= 0\n",
    "    return v/max(num_ing,1)"
   ]
  },
  {
   "cell_type": "code",
   "execution_count": 394,
   "id": "9cfc6118",
   "metadata": {},
   "outputs": [],
   "source": [
    "# Creating the training dataframe 'X'\n",
    "Data = np.zeros((len(data_train),embedding_dimension))\n",
    "y_check = []\n",
    "for i in range(len(data_train)):\n",
    "    Data[i,:] = recipe_embedding(data_train[i]['ingredients'])\n",
    "    y_check.append(data_train[i]['cuisine'])\n",
    "X_w2v = pd.DataFrame(Data)\n",
    "y_dummies = pd.get_dummies(pd.DataFrame(y_check))"
   ]
  },
  {
   "cell_type": "code",
   "execution_count": 395,
   "id": "4e21bace",
   "metadata": {},
   "outputs": [
    {
     "data": {
      "text/plain": [
       "(39744, 100)"
      ]
     },
     "execution_count": 395,
     "metadata": {},
     "output_type": "execute_result"
    }
   ],
   "source": [
    "X_w2v.shape"
   ]
  },
  {
   "cell_type": "code",
   "execution_count": 396,
   "id": "43a0d8e4",
   "metadata": {},
   "outputs": [
    {
     "name": "stdout",
     "output_type": "stream",
     "text": [
      "Model: \"sequential_10\"\n",
      "_________________________________________________________________\n",
      "Layer (type)                 Output Shape              Param #   \n",
      "=================================================================\n",
      "Input_Dense (Dense)          (None, 20)                2020      \n",
      "_________________________________________________________________\n",
      "Output_Softmax (Softmax)     (None, 20)                0         \n",
      "=================================================================\n",
      "Total params: 2,020\n",
      "Trainable params: 2,020\n",
      "Non-trainable params: 0\n",
      "_________________________________________________________________\n"
     ]
    }
   ],
   "source": [
    "# Creating a shallow NN to train on the embedding given by \"Word2Vec\".\n",
    "Model = Sequential(\n",
    "    [\n",
    "        Dense(20, input_dim=embedding_dimension, activation = 'relu', name='Input_Dense',),\n",
    "        #Dense(20, activation= 'relu'),\n",
    "        Softmax(1, name = 'Output_Softmax'),\n",
    "    ]\n",
    ")\n",
    "Model.compile(loss=mean_squared_error, optimizer= 'Adam', metrics= 'accuracy')\n",
    "Model.summary()"
   ]
  },
  {
   "cell_type": "code",
   "execution_count": 397,
   "id": "2d2ee96a",
   "metadata": {},
   "outputs": [],
   "source": [
    "# Normalizing the training data before training the NN model on it.\n",
    "M = X_w2v.mean()\n",
    "S = X_w2v.std()\n",
    "X_w2v_norm = (X_w2v - M)/S"
   ]
  },
  {
   "cell_type": "code",
   "execution_count": 398,
   "id": "899d4537",
   "metadata": {},
   "outputs": [],
   "source": [
    "# Creating the training and validation split.\n",
    "# Since our data is skewed we are stratifying it.\n",
    "X_w2v_train, X_w2v_val, y_train, y_val = train_test_split(X_w2v_norm,y_dummies,\n",
    "                                                  test_size = .2,\n",
    "                                                 shuffle=True,\n",
    "                                                 stratify=y_check)"
   ]
  },
  {
   "cell_type": "code",
   "execution_count": 399,
   "id": "fa86eb15",
   "metadata": {},
   "outputs": [
    {
     "name": "stdout",
     "output_type": "stream",
     "text": [
      "Epoch 1/100\n",
      "7949/7949 [==============================] - 10s 1ms/step - loss: 0.0288 - accuracy: 0.5699 - val_loss: 0.0250 - val_accuracy: 0.6373\n",
      "Epoch 2/100\n",
      "7949/7949 [==============================] - 9s 1ms/step - loss: 0.0238 - accuracy: 0.6578 - val_loss: 0.0237 - val_accuracy: 0.6574\n",
      "Epoch 3/100\n",
      "7949/7949 [==============================] - 9s 1ms/step - loss: 0.0228 - accuracy: 0.6724 - val_loss: 0.0229 - val_accuracy: 0.6695\n",
      "Epoch 4/100\n",
      "7949/7949 [==============================] - 10s 1ms/step - loss: 0.0223 - accuracy: 0.6808 - val_loss: 0.0229 - val_accuracy: 0.6686\n",
      "Epoch 5/100\n",
      "7949/7949 [==============================] - 9s 1ms/step - loss: 0.0220 - accuracy: 0.6852 - val_loss: 0.0226 - val_accuracy: 0.6734\n",
      "Epoch 6/100\n",
      "7949/7949 [==============================] - 10s 1ms/step - loss: 0.0217 - accuracy: 0.6878 - val_loss: 0.0224 - val_accuracy: 0.6771\n",
      "Epoch 7/100\n",
      "7949/7949 [==============================] - 10s 1ms/step - loss: 0.0216 - accuracy: 0.6904 - val_loss: 0.0225 - val_accuracy: 0.6764\n",
      "Epoch 8/100\n",
      "7949/7949 [==============================] - 10s 1ms/step - loss: 0.0215 - accuracy: 0.6925 - val_loss: 0.0223 - val_accuracy: 0.6752\n",
      "Epoch 9/100\n",
      "7949/7949 [==============================] - 10s 1ms/step - loss: 0.0214 - accuracy: 0.6950 - val_loss: 0.0224 - val_accuracy: 0.6757\n",
      "Epoch 10/100\n",
      "7949/7949 [==============================] - 10s 1ms/step - loss: 0.0213 - accuracy: 0.6937 - val_loss: 0.0223 - val_accuracy: 0.6774\n",
      "Epoch 11/100\n",
      "7949/7949 [==============================] - 10s 1ms/step - loss: 0.0213 - accuracy: 0.6957 - val_loss: 0.0223 - val_accuracy: 0.6820\n",
      "Epoch 12/100\n",
      "7949/7949 [==============================] - 10s 1ms/step - loss: 0.0212 - accuracy: 0.6974 - val_loss: 0.0221 - val_accuracy: 0.6812\n",
      "Epoch 13/100\n",
      "7949/7949 [==============================] - 10s 1ms/step - loss: 0.0212 - accuracy: 0.6977 - val_loss: 0.0221 - val_accuracy: 0.6820\n",
      "Epoch 14/100\n",
      "7949/7949 [==============================] - 10s 1ms/step - loss: 0.0211 - accuracy: 0.6996 - val_loss: 0.0223 - val_accuracy: 0.6776\n",
      "Epoch 15/100\n",
      "7949/7949 [==============================] - 11s 1ms/step - loss: 0.0211 - accuracy: 0.6994 - val_loss: 0.0221 - val_accuracy: 0.6831\n",
      "Epoch 16/100\n",
      "7949/7949 [==============================] - 10s 1ms/step - loss: 0.0211 - accuracy: 0.7001 - val_loss: 0.0224 - val_accuracy: 0.6785\n",
      "Epoch 17/100\n",
      "7949/7949 [==============================] - 10s 1ms/step - loss: 0.0210 - accuracy: 0.7009 - val_loss: 0.0222 - val_accuracy: 0.6817\n",
      "Epoch 18/100\n",
      "7949/7949 [==============================] - 10s 1ms/step - loss: 0.0210 - accuracy: 0.7029 - val_loss: 0.0226 - val_accuracy: 0.6774\n",
      "Epoch 19/100\n",
      "7949/7949 [==============================] - 10s 1ms/step - loss: 0.0210 - accuracy: 0.7017 - val_loss: 0.0221 - val_accuracy: 0.6849\n",
      "Epoch 20/100\n",
      "7949/7949 [==============================] - 11s 1ms/step - loss: 0.0210 - accuracy: 0.7025 - val_loss: 0.0225 - val_accuracy: 0.6769\n",
      "Epoch 21/100\n",
      "7949/7949 [==============================] - 10s 1ms/step - loss: 0.0209 - accuracy: 0.7021 - val_loss: 0.0223 - val_accuracy: 0.6841\n",
      "Epoch 22/100\n",
      "7949/7949 [==============================] - 10s 1ms/step - loss: 0.0210 - accuracy: 0.7024 - val_loss: 0.0224 - val_accuracy: 0.6797\n",
      "Epoch 23/100\n",
      "7949/7949 [==============================] - 10s 1ms/step - loss: 0.0209 - accuracy: 0.7017 - val_loss: 0.0221 - val_accuracy: 0.6864\n",
      "Epoch 24/100\n",
      "7949/7949 [==============================] - 10s 1ms/step - loss: 0.0209 - accuracy: 0.7020 - val_loss: 0.0223 - val_accuracy: 0.6830\n",
      "Epoch 25/100\n",
      "7949/7949 [==============================] - 10s 1ms/step - loss: 0.0209 - accuracy: 0.7027 - val_loss: 0.0223 - val_accuracy: 0.6822\n",
      "Epoch 26/100\n",
      "7949/7949 [==============================] - 10s 1ms/step - loss: 0.0209 - accuracy: 0.7030 - val_loss: 0.0223 - val_accuracy: 0.6830\n",
      "Epoch 27/100\n",
      "7949/7949 [==============================] - 10s 1ms/step - loss: 0.0209 - accuracy: 0.7038 - val_loss: 0.0222 - val_accuracy: 0.6850\n",
      "Epoch 28/100\n",
      "7949/7949 [==============================] - 10s 1ms/step - loss: 0.0209 - accuracy: 0.7041 - val_loss: 0.0224 - val_accuracy: 0.6792\n",
      "Epoch 29/100\n",
      "7949/7949 [==============================] - 10s 1ms/step - loss: 0.0208 - accuracy: 0.7047 - val_loss: 0.0223 - val_accuracy: 0.6806\n",
      "Epoch 30/100\n",
      "7949/7949 [==============================] - 10s 1ms/step - loss: 0.0208 - accuracy: 0.7030 - val_loss: 0.0224 - val_accuracy: 0.6801\n",
      "Epoch 31/100\n",
      "7949/7949 [==============================] - 11s 1ms/step - loss: 0.0208 - accuracy: 0.7047 - val_loss: 0.0223 - val_accuracy: 0.6844\n",
      "Epoch 32/100\n",
      "7949/7949 [==============================] - 11s 1ms/step - loss: 0.0208 - accuracy: 0.7030 - val_loss: 0.0224 - val_accuracy: 0.6815\n",
      "Epoch 33/100\n",
      "7949/7949 [==============================] - 11s 1ms/step - loss: 0.0208 - accuracy: 0.7045 - val_loss: 0.0223 - val_accuracy: 0.6808\n",
      "Epoch 34/100\n",
      "7949/7949 [==============================] - 10s 1ms/step - loss: 0.0208 - accuracy: 0.7052 - val_loss: 0.0222 - val_accuracy: 0.6837\n",
      "Epoch 35/100\n",
      "7949/7949 [==============================] - 10s 1ms/step - loss: 0.0208 - accuracy: 0.7050 - val_loss: 0.0222 - val_accuracy: 0.6842\n",
      "Epoch 36/100\n",
      "7949/7949 [==============================] - 11s 1ms/step - loss: 0.0208 - accuracy: 0.7054 - val_loss: 0.0222 - val_accuracy: 0.6829\n",
      "Epoch 37/100\n",
      "7949/7949 [==============================] - 10s 1ms/step - loss: 0.0208 - accuracy: 0.7055 - val_loss: 0.0223 - val_accuracy: 0.6807\n",
      "Epoch 38/100\n",
      "7949/7949 [==============================] - 10s 1ms/step - loss: 0.0208 - accuracy: 0.7072 - val_loss: 0.0223 - val_accuracy: 0.6815\n",
      "Epoch 39/100\n",
      "7949/7949 [==============================] - 10s 1ms/step - loss: 0.0208 - accuracy: 0.7044 - val_loss: 0.0223 - val_accuracy: 0.6826\n",
      "Epoch 40/100\n",
      "7949/7949 [==============================] - 10s 1ms/step - loss: 0.0208 - accuracy: 0.7058 - val_loss: 0.0222 - val_accuracy: 0.6850\n",
      "Epoch 41/100\n",
      "7949/7949 [==============================] - 10s 1ms/step - loss: 0.0207 - accuracy: 0.7056 - val_loss: 0.0223 - val_accuracy: 0.6839\n",
      "Epoch 42/100\n",
      "7949/7949 [==============================] - 10s 1ms/step - loss: 0.0208 - accuracy: 0.7057 - val_loss: 0.0222 - val_accuracy: 0.6862\n",
      "Epoch 43/100\n",
      "7949/7949 [==============================] - 11s 1ms/step - loss: 0.0207 - accuracy: 0.7065 - val_loss: 0.0223 - val_accuracy: 0.6831\n",
      "Epoch 44/100\n",
      "7949/7949 [==============================] - 10s 1ms/step - loss: 0.0208 - accuracy: 0.7064 - val_loss: 0.0223 - val_accuracy: 0.6835\n",
      "Epoch 45/100\n",
      "7949/7949 [==============================] - 10s 1ms/step - loss: 0.0208 - accuracy: 0.7066 - val_loss: 0.0224 - val_accuracy: 0.6797\n",
      "Epoch 46/100\n",
      "7949/7949 [==============================] - 10s 1ms/step - loss: 0.0207 - accuracy: 0.7069 - val_loss: 0.0224 - val_accuracy: 0.6821\n",
      "Epoch 47/100\n",
      "7949/7949 [==============================] - 11s 1ms/step - loss: 0.0207 - accuracy: 0.7064 - val_loss: 0.0222 - val_accuracy: 0.6850\n",
      "Epoch 48/100\n",
      "7949/7949 [==============================] - 10s 1ms/step - loss: 0.0207 - accuracy: 0.7065 - val_loss: 0.0224 - val_accuracy: 0.6816\n",
      "Epoch 49/100\n",
      "7949/7949 [==============================] - 11s 1ms/step - loss: 0.0207 - accuracy: 0.7078 - val_loss: 0.0222 - val_accuracy: 0.6842\n",
      "Epoch 50/100\n",
      "7949/7949 [==============================] - 11s 1ms/step - loss: 0.0207 - accuracy: 0.7060 - val_loss: 0.0225 - val_accuracy: 0.6790\n",
      "Epoch 51/100\n",
      "7949/7949 [==============================] - 10s 1ms/step - loss: 0.0207 - accuracy: 0.7070 - val_loss: 0.0223 - val_accuracy: 0.6837\n",
      "Epoch 52/100\n",
      "7949/7949 [==============================] - 11s 1ms/step - loss: 0.0207 - accuracy: 0.7069 - val_loss: 0.0222 - val_accuracy: 0.6831\n",
      "Epoch 53/100\n",
      "7949/7949 [==============================] - 11s 1ms/step - loss: 0.0208 - accuracy: 0.7060 - val_loss: 0.0222 - val_accuracy: 0.6861\n",
      "Epoch 54/100\n",
      "7949/7949 [==============================] - 12s 1ms/step - loss: 0.0207 - accuracy: 0.7078 - val_loss: 0.0223 - val_accuracy: 0.6849\n",
      "Epoch 55/100\n",
      "7949/7949 [==============================] - 12s 2ms/step - loss: 0.0207 - accuracy: 0.7073 - val_loss: 0.0225 - val_accuracy: 0.6801\n",
      "Epoch 56/100\n"
     ]
    },
    {
     "name": "stdout",
     "output_type": "stream",
     "text": [
      "7949/7949 [==============================] - 10s 1ms/step - loss: 0.0207 - accuracy: 0.7067 - val_loss: 0.0225 - val_accuracy: 0.6791\n",
      "Epoch 57/100\n",
      "7949/7949 [==============================] - 9s 1ms/step - loss: 0.0207 - accuracy: 0.7053 - val_loss: 0.0224 - val_accuracy: 0.6823\n",
      "Epoch 58/100\n",
      "7949/7949 [==============================] - 10s 1ms/step - loss: 0.0207 - accuracy: 0.7061 - val_loss: 0.0224 - val_accuracy: 0.6810\n",
      "Epoch 59/100\n",
      "7949/7949 [==============================] - 9s 1ms/step - loss: 0.0207 - accuracy: 0.7054 - val_loss: 0.0223 - val_accuracy: 0.6857\n",
      "Epoch 60/100\n",
      "7949/7949 [==============================] - 9s 1ms/step - loss: 0.0207 - accuracy: 0.7069 - val_loss: 0.0223 - val_accuracy: 0.6844\n",
      "Epoch 61/100\n",
      "7949/7949 [==============================] - 9s 1ms/step - loss: 0.0207 - accuracy: 0.7067 - val_loss: 0.0225 - val_accuracy: 0.6822\n",
      "Epoch 62/100\n",
      "7949/7949 [==============================] - 9s 1ms/step - loss: 0.0207 - accuracy: 0.7073 - val_loss: 0.0223 - val_accuracy: 0.6818\n",
      "Epoch 63/100\n",
      "7949/7949 [==============================] - 9s 1ms/step - loss: 0.0207 - accuracy: 0.7075 - val_loss: 0.0224 - val_accuracy: 0.6815\n",
      "Epoch 64/100\n",
      "7949/7949 [==============================] - 9s 1ms/step - loss: 0.0207 - accuracy: 0.7078 - val_loss: 0.0224 - val_accuracy: 0.6822\n",
      "Epoch 65/100\n",
      "7949/7949 [==============================] - 9s 1ms/step - loss: 0.0207 - accuracy: 0.7066 - val_loss: 0.0223 - val_accuracy: 0.6859\n",
      "Epoch 66/100\n",
      "7949/7949 [==============================] - 9s 1ms/step - loss: 0.0207 - accuracy: 0.7072 - val_loss: 0.0224 - val_accuracy: 0.6815\n",
      "Epoch 67/100\n",
      "7949/7949 [==============================] - 9s 1ms/step - loss: 0.0207 - accuracy: 0.7075 - val_loss: 0.0224 - val_accuracy: 0.6812\n",
      "Epoch 68/100\n",
      "7949/7949 [==============================] - 9s 1ms/step - loss: 0.0207 - accuracy: 0.7071 - val_loss: 0.0226 - val_accuracy: 0.6807\n",
      "Epoch 69/100\n",
      "7949/7949 [==============================] - 9s 1ms/step - loss: 0.0207 - accuracy: 0.7069 - val_loss: 0.0224 - val_accuracy: 0.6841\n",
      "Epoch 70/100\n",
      "7949/7949 [==============================] - 9s 1ms/step - loss: 0.0207 - accuracy: 0.7078 - val_loss: 0.0223 - val_accuracy: 0.6849\n",
      "Epoch 71/100\n",
      "7949/7949 [==============================] - 9s 1ms/step - loss: 0.0207 - accuracy: 0.7073 - val_loss: 0.0223 - val_accuracy: 0.6826\n",
      "Epoch 72/100\n",
      "7949/7949 [==============================] - 9s 1ms/step - loss: 0.0206 - accuracy: 0.7080 - val_loss: 0.0225 - val_accuracy: 0.6817\n",
      "Epoch 73/100\n",
      "7949/7949 [==============================] - 9s 1ms/step - loss: 0.0206 - accuracy: 0.7074 - val_loss: 0.0224 - val_accuracy: 0.6818\n",
      "Epoch 74/100\n",
      "7949/7949 [==============================] - 9s 1ms/step - loss: 0.0206 - accuracy: 0.7078 - val_loss: 0.0225 - val_accuracy: 0.6817\n",
      "Epoch 75/100\n",
      "7949/7949 [==============================] - 12s 2ms/step - loss: 0.0207 - accuracy: 0.7073 - val_loss: 0.0224 - val_accuracy: 0.6841\n",
      "Epoch 76/100\n",
      "7949/7949 [==============================] - 10s 1ms/step - loss: 0.0207 - accuracy: 0.7068 - val_loss: 0.0225 - val_accuracy: 0.6844\n",
      "Epoch 77/100\n",
      "7949/7949 [==============================] - 10s 1ms/step - loss: 0.0207 - accuracy: 0.7069 - val_loss: 0.0224 - val_accuracy: 0.6839\n",
      "Epoch 78/100\n",
      "7949/7949 [==============================] - 10s 1ms/step - loss: 0.0206 - accuracy: 0.7063 - val_loss: 0.0224 - val_accuracy: 0.6850\n",
      "Epoch 79/100\n",
      "7949/7949 [==============================] - 10s 1ms/step - loss: 0.0207 - accuracy: 0.7067 - val_loss: 0.0224 - val_accuracy: 0.6823\n",
      "Epoch 80/100\n",
      "7949/7949 [==============================] - 11s 1ms/step - loss: 0.0206 - accuracy: 0.7080 - val_loss: 0.0224 - val_accuracy: 0.6821\n",
      "Epoch 81/100\n",
      "7949/7949 [==============================] - 10s 1ms/step - loss: 0.0206 - accuracy: 0.7073 - val_loss: 0.0225 - val_accuracy: 0.6800\n",
      "Epoch 82/100\n",
      "7949/7949 [==============================] - 10s 1ms/step - loss: 0.0206 - accuracy: 0.7083 - val_loss: 0.0224 - val_accuracy: 0.6816\n",
      "Epoch 83/100\n",
      "7949/7949 [==============================] - 10s 1ms/step - loss: 0.0207 - accuracy: 0.7069 - val_loss: 0.0223 - val_accuracy: 0.6849\n",
      "Epoch 84/100\n",
      "7949/7949 [==============================] - 10s 1ms/step - loss: 0.0206 - accuracy: 0.7064 - val_loss: 0.0224 - val_accuracy: 0.6854\n",
      "Epoch 85/100\n",
      "7949/7949 [==============================] - 10s 1ms/step - loss: 0.0207 - accuracy: 0.7080 - val_loss: 0.0225 - val_accuracy: 0.6821\n",
      "Epoch 86/100\n",
      "7949/7949 [==============================] - 10s 1ms/step - loss: 0.0206 - accuracy: 0.7086 - val_loss: 0.0224 - val_accuracy: 0.6846\n",
      "Epoch 87/100\n",
      "7949/7949 [==============================] - 10s 1ms/step - loss: 0.0206 - accuracy: 0.7086 - val_loss: 0.0224 - val_accuracy: 0.6817\n",
      "Epoch 88/100\n",
      "7949/7949 [==============================] - 10s 1ms/step - loss: 0.0207 - accuracy: 0.7065 - val_loss: 0.0225 - val_accuracy: 0.6807\n",
      "Epoch 89/100\n",
      "7949/7949 [==============================] - 10s 1ms/step - loss: 0.0206 - accuracy: 0.7071 - val_loss: 0.0223 - val_accuracy: 0.6826\n",
      "Epoch 90/100\n",
      "7949/7949 [==============================] - 10s 1ms/step - loss: 0.0206 - accuracy: 0.7081 - val_loss: 0.0223 - val_accuracy: 0.6845\n",
      "Epoch 91/100\n",
      "7949/7949 [==============================] - 10s 1ms/step - loss: 0.0206 - accuracy: 0.7087 - val_loss: 0.0224 - val_accuracy: 0.6839\n",
      "Epoch 92/100\n",
      "7949/7949 [==============================] - 11s 1ms/step - loss: 0.0206 - accuracy: 0.7066 - val_loss: 0.0223 - val_accuracy: 0.6823\n",
      "Epoch 93/100\n",
      "7949/7949 [==============================] - 10s 1ms/step - loss: 0.0206 - accuracy: 0.7079 - val_loss: 0.0224 - val_accuracy: 0.6840\n",
      "Epoch 94/100\n",
      "7949/7949 [==============================] - 10s 1ms/step - loss: 0.0206 - accuracy: 0.7077 - val_loss: 0.0224 - val_accuracy: 0.6850\n",
      "Epoch 95/100\n",
      "7949/7949 [==============================] - 10s 1ms/step - loss: 0.0206 - accuracy: 0.7083 - val_loss: 0.0225 - val_accuracy: 0.6818\n",
      "Epoch 96/100\n",
      "7949/7949 [==============================] - 10s 1ms/step - loss: 0.0206 - accuracy: 0.7090 - val_loss: 0.0223 - val_accuracy: 0.6831\n",
      "Epoch 97/100\n",
      "7949/7949 [==============================] - 10s 1ms/step - loss: 0.0206 - accuracy: 0.7086 - val_loss: 0.0223 - val_accuracy: 0.6854\n",
      "Epoch 98/100\n",
      "7949/7949 [==============================] - 10s 1ms/step - loss: 0.0206 - accuracy: 0.7072 - val_loss: 0.0225 - val_accuracy: 0.6792\n",
      "Epoch 99/100\n",
      "7949/7949 [==============================] - 10s 1ms/step - loss: 0.0206 - accuracy: 0.7096 - val_loss: 0.0225 - val_accuracy: 0.6817\n",
      "Epoch 100/100\n",
      "7949/7949 [==============================] - 11s 1ms/step - loss: 0.0206 - accuracy: 0.7076 - val_loss: 0.0224 - val_accuracy: 0.6830\n"
     ]
    }
   ],
   "source": [
    "history = Model.fit(X_w2v_train,\n",
    "                    y_train,\n",
    "                    validation_data=(X_w2v_val,y_val),\n",
    "                    epochs=100, \n",
    "                    batch_size = 4)"
   ]
  },
  {
   "cell_type": "code",
   "execution_count": 400,
   "id": "b1e55f00",
   "metadata": {},
   "outputs": [
    {
     "data": {
      "text/plain": [
       "Text(0, 0.5, 'Mean Squared Error')"
      ]
     },
     "execution_count": 400,
     "metadata": {},
     "output_type": "execute_result"
    },
    {
     "data": {
      "image/png": "[encoded data removed]",
      "text/plain": [
       "<Figure size 720x720 with 1 Axes>"
      ]
     },
     "metadata": {
      "needs_background": "light"
     },
     "output_type": "display_data"
    }
   ],
   "source": [
    "plt.figure(figsize = (10,10))\n",
    "plt.plot(history.history['loss'], label = 'Trainng error', color = 'orange')\n",
    "plt.plot(history.history['val_loss'], label = 'Validation error', color = 'maroon')\n",
    "plt.title('Error Plot')\n",
    "plt.legend()\n",
    "plt.xlabel('Epochs')\n",
    "plt.ylabel('Mean Squared Error')"
   ]
  },
  {
   "cell_type": "code",
   "execution_count": 401,
   "id": "8bf2ec51",
   "metadata": {},
   "outputs": [
    {
     "data": {
      "text/plain": [
       "Text(0, 0.5, 'Accuracy')"
      ]
     },
     "execution_count": 401,
     "metadata": {},
     "output_type": "execute_result"
    },
    {
     "data": {
      "image/png": "[encoded data removed]",
      "text/plain": [
       "<Figure size 720x576 with 1 Axes>"
      ]
     },
     "metadata": {
      "needs_background": "light"
     },
     "output_type": "display_data"
    }
   ],
   "source": [
    "plt.figure(figsize = (10,8))\n",
    "plt.plot(history.history['accuracy'], label = 'Training accuracy', color = 'purple')\n",
    "plt.plot(history.history['val_accuracy'], label = 'Validation accuracy', color = 'green')\n",
    "plt.title('Accuracy Plot')\n",
    "plt.legend()\n",
    "plt.xlabel('Epochs')\n",
    "plt.ylabel('Accuracy')"
   ]
  },
  {
   "cell_type": "code",
   "execution_count": 402,
   "id": "c1021b9b",
   "metadata": {},
   "outputs": [
    {
     "name": "stderr",
     "output_type": "stream",
     "text": [
      "WARNING:absl:Function `_wrapped_model` contains input name(s) Input_Dense_input with unsupported characters which will be renamed to input_dense_input in the SavedModel.\n"
     ]
    },
    {
     "name": "stdout",
     "output_type": "stream",
     "text": [
      "INFO:tensorflow:Assets written to: Model_special.H5\\assets\n"
     ]
    },
    {
     "name": "stderr",
     "output_type": "stream",
     "text": [
      "INFO:tensorflow:Assets written to: Model_special.H5\\assets\n"
     ]
    }
   ],
   "source": [
    "# Saving our model to save training time in future.\n",
    "Model.save('Model_special.H5')"
   ]
  },
  {
   "cell_type": "markdown",
   "id": "0baaeb1d",
   "metadata": {},
   "source": [
    "## Moment of Truth\n",
    "Here we are going to test the overall accuracy of our 2-step hybrid model. For that we will pick 1000 random datapoints from the traing dataset and then will measure what percentage of them our model predicted correctly."
   ]
  },
  {
   "cell_type": "code",
   "execution_count": 420,
   "id": "539e89b9",
   "metadata": {},
   "outputs": [],
   "source": [
    "validation_index = list(X_w2v_val.index)"
   ]
  },
  {
   "cell_type": "code",
   "execution_count": 421,
   "id": "2c471c7a",
   "metadata": {},
   "outputs": [
    {
     "name": "stdout",
     "output_type": "stream",
     "text": [
      "\n",
      "Acuracy: 74.90 %\n"
     ]
    }
   ],
   "source": [
    "# Testing accuracy of the hybrid model\n",
    "Incorrect = 0\n",
    "Correct = 0\n",
    "num_samples = 1000\n",
    "for i in range(num_samples):\n",
    "    m = np.random.randint(0,len(validation_index))\n",
    "    n = validation_index[m]\n",
    "    if any(ele in Special_ingredients for ele in data_train[n]['ingredients']):\n",
    "        for cuisine in Special.keys():\n",
    "            if any(ele in Special[cuisine] for ele in data_train[n]['ingredients']):\n",
    "                if cuisine == data_train[n]['cuisine']:\n",
    "                    Correct+= 1\n",
    "                else:\n",
    "                    Incorrect+= 1\n",
    "                break\n",
    "    else:\n",
    "        test_vec = np.array((recipe_embedding(data_train[n]['ingredients'])-M)/S).reshape(1,embedding_dimension)\n",
    "        pred = Model.predict(test_vec)\n",
    "        if y_dummies.columns[np.argmax(pred)].replace('0_','') == data_train[n]['cuisine']:\n",
    "            Correct+= 1\n",
    "        else:\n",
    "            Incorrect+=1\n",
    "print('\\nAcuracy: %.2f' %(Correct/(num_samples)*100),'%')"
   ]
  },
  {
   "cell_type": "markdown",
   "id": "a748629b",
   "metadata": {},
   "source": [
    "### Computing PCA Embedding\n",
    "Now we are first going compute the one-hot encoding of our data as a $ m\\times n $  matrix where $$ m = \\text{number of data points} $$ and $$ n = \\text{number of ingredients, not occuring in the set of special ingredients.} $$ \n",
    "Also the $ 1 \\times n$ vector corresponding to each datapoint is not exactly a 1-hot vector but is sum of 1-hot vectors corresponding to the ingredinents that appears in the recipe/datapoint."
   ]
  },
  {
   "cell_type": "code",
   "execution_count": 404,
   "id": "9429b305",
   "metadata": {},
   "outputs": [],
   "source": [
    "def one_hot_ingredients(ingredients):\n",
    "    v = np.zeros((1,len(Ingredients)))\n",
    "    for i in range(len(Ingredients)):\n",
    "        if Ingredients[i] in ingredients:\n",
    "            v[0,i] = 1\n",
    "    return v\n",
    "X_1_hot = np.zeros((len(data_train), len(Ingredients)))\n",
    "for i in range(len(data_train)):\n",
    "    X_1_hot[i,:] = one_hot_ingredients(data_train[i]['ingredients'])"
   ]
  },
  {
   "cell_type": "code",
   "execution_count": 405,
   "id": "84b2d578",
   "metadata": {},
   "outputs": [
    {
     "data": {
      "text/plain": [
       "(39744, 4113)"
      ]
     },
     "execution_count": 405,
     "metadata": {},
     "output_type": "execute_result"
    }
   ],
   "source": [
    "X_1_hot.shape"
   ]
  },
  {
   "cell_type": "code",
   "execution_count": 406,
   "id": "792345b2",
   "metadata": {},
   "outputs": [
    {
     "data": {
      "text/plain": [
       "PCA(n_components=170)"
      ]
     },
     "execution_count": 406,
     "metadata": {},
     "output_type": "execute_result"
    }
   ],
   "source": [
    "# We are computing the PCA of the 1-hot encoded data we prepared in the last block.\n",
    "# Please note that \"pca_embedding_dimension\" is a hyperparameter here.\n",
    "pca_embedding_dimension = 170\n",
    "pca = PCA(n_components = pca_embedding_dimension)\n",
    "pca.fit(X_1_hot)"
   ]
  },
  {
   "cell_type": "code",
   "execution_count": 407,
   "id": "a499a52b",
   "metadata": {},
   "outputs": [],
   "source": [
    "pca_components = pca.components_\n",
    "X_pca = np.dot(X_1_hot,pca_components.transpose())"
   ]
  },
  {
   "cell_type": "code",
   "execution_count": 408,
   "id": "60f0762a",
   "metadata": {},
   "outputs": [
    {
     "name": "stdout",
     "output_type": "stream",
     "text": [
      "Model: \"sequential_11\"\n",
      "_________________________________________________________________\n",
      "Layer (type)                 Output Shape              Param #   \n",
      "=================================================================\n",
      "Input_Dense (Dense)          (None, 20)                3420      \n",
      "_________________________________________________________________\n",
      "Output_Softmax (Softmax)     (None, 20)                0         \n",
      "=================================================================\n",
      "Total params: 3,420\n",
      "Trainable params: 3,420\n",
      "Non-trainable params: 0\n",
      "_________________________________________________________________\n"
     ]
    }
   ],
   "source": [
    "# Building the same NN model as before to train on the PCA encoded data.\n",
    "Model_pca = Sequential(\n",
    "    [\n",
    "        Dense(20, input_dim= pca_embedding_dimension, activation = 'relu', name='Input_Dense',),\n",
    "        #Dense(20, activation= 'relu'),\n",
    "        Softmax(1, name = 'Output_Softmax'),\n",
    "    ]\n",
    ")\n",
    "Model_pca.compile(loss=mean_squared_error, optimizer= 'Adam', metrics= 'accuracy')\n",
    "Model_pca.summary()"
   ]
  },
  {
   "cell_type": "code",
   "execution_count": 409,
   "id": "42677d12",
   "metadata": {},
   "outputs": [],
   "source": [
    "X_pca = pd.DataFrame(X_pca)\n",
    "M_pca = X_pca.mean()\n",
    "S_pca = X_pca.std()\n",
    "X_pca_norm = (X_pca - M_pca)/S_pca"
   ]
  },
  {
   "cell_type": "code",
   "execution_count": 410,
   "id": "890e4fd7",
   "metadata": {},
   "outputs": [],
   "source": [
    "X_pca_train, X_pca_val, y_train, y_val = train_test_split(X_pca_norm,y_dummies,\n",
    "                                                  test_size = .2,\n",
    "                                                 shuffle=True,\n",
    "                                                 stratify=y_check)"
   ]
  },
  {
   "cell_type": "code",
   "execution_count": 422,
   "id": "17a3051e",
   "metadata": {},
   "outputs": [
    {
     "name": "stdout",
     "output_type": "stream",
     "text": [
      "Epoch 1/100\n",
      "7949/7949 [==============================] - 10s 1ms/step - loss: 0.0216 - accuracy: 0.6899 - val_loss: 0.0225 - val_accuracy: 0.6786\n",
      "Epoch 2/100\n",
      "7949/7949 [==============================] - 10s 1ms/step - loss: 0.0216 - accuracy: 0.6907 - val_loss: 0.0226 - val_accuracy: 0.6779\n",
      "Epoch 3/100\n",
      "7949/7949 [==============================] - 11s 1ms/step - loss: 0.0215 - accuracy: 0.6924 - val_loss: 0.0226 - val_accuracy: 0.6763\n",
      "Epoch 4/100\n",
      "7949/7949 [==============================] - 10s 1ms/step - loss: 0.0214 - accuracy: 0.6954 - val_loss: 0.0225 - val_accuracy: 0.6790\n",
      "Epoch 5/100\n",
      "7949/7949 [==============================] - 10s 1ms/step - loss: 0.0214 - accuracy: 0.6970 - val_loss: 0.0225 - val_accuracy: 0.6797\n",
      "Epoch 6/100\n",
      "7949/7949 [==============================] - 12s 2ms/step - loss: 0.0213 - accuracy: 0.6978 - val_loss: 0.0225 - val_accuracy: 0.6747\n",
      "Epoch 7/100\n",
      "7949/7949 [==============================] - 10s 1ms/step - loss: 0.0213 - accuracy: 0.6983 - val_loss: 0.0226 - val_accuracy: 0.6752\n",
      "Epoch 8/100\n",
      "7949/7949 [==============================] - 10s 1ms/step - loss: 0.0212 - accuracy: 0.6994 - val_loss: 0.0225 - val_accuracy: 0.6790\n",
      "Epoch 9/100\n",
      "7949/7949 [==============================] - 10s 1ms/step - loss: 0.0212 - accuracy: 0.6994 - val_loss: 0.0226 - val_accuracy: 0.6769\n",
      "Epoch 10/100\n",
      "7949/7949 [==============================] - 10s 1ms/step - loss: 0.0212 - accuracy: 0.6998 - val_loss: 0.0226 - val_accuracy: 0.6759\n",
      "Epoch 11/100\n",
      "7949/7949 [==============================] - 10s 1ms/step - loss: 0.0211 - accuracy: 0.7014 - val_loss: 0.0228 - val_accuracy: 0.6749\n",
      "Epoch 12/100\n",
      "7949/7949 [==============================] - 10s 1ms/step - loss: 0.0211 - accuracy: 0.7019 - val_loss: 0.0227 - val_accuracy: 0.6746\n",
      "Epoch 13/100\n",
      "7949/7949 [==============================] - 9s 1ms/step - loss: 0.0210 - accuracy: 0.7034 - val_loss: 0.0226 - val_accuracy: 0.6801\n",
      "Epoch 14/100\n",
      "7949/7949 [==============================] - 10s 1ms/step - loss: 0.0210 - accuracy: 0.7029 - val_loss: 0.0227 - val_accuracy: 0.6763\n",
      "Epoch 15/100\n",
      "7949/7949 [==============================] - 10s 1ms/step - loss: 0.0210 - accuracy: 0.7038 - val_loss: 0.0228 - val_accuracy: 0.6759\n",
      "Epoch 16/100\n",
      "7949/7949 [==============================] - 10s 1ms/step - loss: 0.0210 - accuracy: 0.7034 - val_loss: 0.0227 - val_accuracy: 0.6772\n",
      "Epoch 17/100\n",
      "7949/7949 [==============================] - 10s 1ms/step - loss: 0.0209 - accuracy: 0.7050 - val_loss: 0.0226 - val_accuracy: 0.6808\n",
      "Epoch 18/100\n",
      "7949/7949 [==============================] - 10s 1ms/step - loss: 0.0209 - accuracy: 0.7037 - val_loss: 0.0227 - val_accuracy: 0.6796\n",
      "Epoch 19/100\n",
      "7949/7949 [==============================] - 10s 1ms/step - loss: 0.0209 - accuracy: 0.7049 - val_loss: 0.0226 - val_accuracy: 0.6802\n",
      "Epoch 20/100\n",
      "7949/7949 [==============================] - 11s 1ms/step - loss: 0.0209 - accuracy: 0.7058 - val_loss: 0.0227 - val_accuracy: 0.6805\n",
      "Epoch 21/100\n",
      "7949/7949 [==============================] - 13s 2ms/step - loss: 0.0208 - accuracy: 0.7060 - val_loss: 0.0226 - val_accuracy: 0.6808\n",
      "Epoch 22/100\n",
      "7949/7949 [==============================] - 11s 1ms/step - loss: 0.0208 - accuracy: 0.7059 - val_loss: 0.0229 - val_accuracy: 0.6829\n",
      "Epoch 23/100\n",
      "7949/7949 [==============================] - 10s 1ms/step - loss: 0.0208 - accuracy: 0.7066 - val_loss: 0.0227 - val_accuracy: 0.6793\n",
      "Epoch 24/100\n",
      "7949/7949 [==============================] - 10s 1ms/step - loss: 0.0208 - accuracy: 0.7070 - val_loss: 0.0228 - val_accuracy: 0.6808\n",
      "Epoch 25/100\n",
      "7949/7949 [==============================] - 10s 1ms/step - loss: 0.0208 - accuracy: 0.7073 - val_loss: 0.0228 - val_accuracy: 0.6825\n",
      "Epoch 26/100\n",
      "7949/7949 [==============================] - 10s 1ms/step - loss: 0.0208 - accuracy: 0.7070 - val_loss: 0.0228 - val_accuracy: 0.6796\n",
      "Epoch 27/100\n",
      "7949/7949 [==============================] - 10s 1ms/step - loss: 0.0208 - accuracy: 0.7072 - val_loss: 0.0228 - val_accuracy: 0.6801\n",
      "Epoch 28/100\n",
      "7949/7949 [==============================] - 10s 1ms/step - loss: 0.0207 - accuracy: 0.7074 - val_loss: 0.0227 - val_accuracy: 0.6837\n",
      "Epoch 29/100\n",
      "7949/7949 [==============================] - 10s 1ms/step - loss: 0.0207 - accuracy: 0.7076 - val_loss: 0.0228 - val_accuracy: 0.6781\n",
      "Epoch 30/100\n",
      "7949/7949 [==============================] - 10s 1ms/step - loss: 0.0207 - accuracy: 0.7096 - val_loss: 0.0227 - val_accuracy: 0.6839\n",
      "Epoch 31/100\n",
      "7949/7949 [==============================] - 10s 1ms/step - loss: 0.0207 - accuracy: 0.7083 - val_loss: 0.0227 - val_accuracy: 0.6811\n",
      "Epoch 32/100\n",
      "7949/7949 [==============================] - 10s 1ms/step - loss: 0.0206 - accuracy: 0.7117 - val_loss: 0.0226 - val_accuracy: 0.6844\n",
      "Epoch 33/100\n",
      "7949/7949 [==============================] - 10s 1ms/step - loss: 0.0206 - accuracy: 0.7115 - val_loss: 0.0228 - val_accuracy: 0.6832\n",
      "Epoch 34/100\n",
      "7949/7949 [==============================] - 10s 1ms/step - loss: 0.0207 - accuracy: 0.7096 - val_loss: 0.0226 - val_accuracy: 0.6855\n",
      "Epoch 35/100\n",
      "7949/7949 [==============================] - 10s 1ms/step - loss: 0.0206 - accuracy: 0.7112 - val_loss: 0.0227 - val_accuracy: 0.6829\n",
      "Epoch 36/100\n",
      "7949/7949 [==============================] - 10s 1ms/step - loss: 0.0206 - accuracy: 0.7113 - val_loss: 0.0227 - val_accuracy: 0.6821\n",
      "Epoch 37/100\n",
      "7949/7949 [==============================] - 10s 1ms/step - loss: 0.0206 - accuracy: 0.7107 - val_loss: 0.0227 - val_accuracy: 0.6829\n",
      "Epoch 38/100\n",
      "7949/7949 [==============================] - 11s 1ms/step - loss: 0.0206 - accuracy: 0.7110 - val_loss: 0.0227 - val_accuracy: 0.6830\n",
      "Epoch 39/100\n",
      "7949/7949 [==============================] - 11s 1ms/step - loss: 0.0206 - accuracy: 0.7123 - val_loss: 0.0227 - val_accuracy: 0.6857\n",
      "Epoch 40/100\n",
      "7949/7949 [==============================] - 12s 1ms/step - loss: 0.0205 - accuracy: 0.7126 - val_loss: 0.0229 - val_accuracy: 0.6810\n",
      "Epoch 41/100\n",
      "7949/7949 [==============================] - 10s 1ms/step - loss: 0.0205 - accuracy: 0.7131 - val_loss: 0.0228 - val_accuracy: 0.6865\n",
      "Epoch 42/100\n",
      "7949/7949 [==============================] - 15s 2ms/step - loss: 0.0206 - accuracy: 0.7111 - val_loss: 0.0227 - val_accuracy: 0.6818\n",
      "Epoch 43/100\n",
      "7949/7949 [==============================] - 15s 2ms/step - loss: 0.0205 - accuracy: 0.7127 - val_loss: 0.0228 - val_accuracy: 0.6821\n",
      "Epoch 44/100\n",
      "7949/7949 [==============================] - 11s 1ms/step - loss: 0.0205 - accuracy: 0.7136 - val_loss: 0.0228 - val_accuracy: 0.6807\n",
      "Epoch 45/100\n",
      "7949/7949 [==============================] - 12s 1ms/step - loss: 0.0205 - accuracy: 0.7141 - val_loss: 0.0227 - val_accuracy: 0.6836\n",
      "Epoch 46/100\n",
      "7949/7949 [==============================] - 11s 1ms/step - loss: 0.0205 - accuracy: 0.7131 - val_loss: 0.0228 - val_accuracy: 0.6812\n",
      "Epoch 47/100\n",
      "7949/7949 [==============================] - 12s 2ms/step - loss: 0.0205 - accuracy: 0.7141 - val_loss: 0.0229 - val_accuracy: 0.6807\n",
      "Epoch 48/100\n",
      "7949/7949 [==============================] - 10s 1ms/step - loss: 0.0204 - accuracy: 0.7135 - val_loss: 0.0228 - val_accuracy: 0.6842\n",
      "Epoch 49/100\n",
      "7949/7949 [==============================] - 11s 1ms/step - loss: 0.0205 - accuracy: 0.7139 - val_loss: 0.0229 - val_accuracy: 0.6823\n",
      "Epoch 50/100\n",
      "7949/7949 [==============================] - 10s 1ms/step - loss: 0.0205 - accuracy: 0.7129 - val_loss: 0.0228 - val_accuracy: 0.6825\n",
      "Epoch 51/100\n",
      "7949/7949 [==============================] - 9s 1ms/step - loss: 0.0204 - accuracy: 0.7144 - val_loss: 0.0229 - val_accuracy: 0.6771\n",
      "Epoch 52/100\n",
      "7949/7949 [==============================] - 10s 1ms/step - loss: 0.0204 - accuracy: 0.7152 - val_loss: 0.0228 - val_accuracy: 0.6795\n",
      "Epoch 53/100\n",
      "7949/7949 [==============================] - 11s 1ms/step - loss: 0.0204 - accuracy: 0.7162 - val_loss: 0.0230 - val_accuracy: 0.6785\n",
      "Epoch 54/100\n",
      "7949/7949 [==============================] - 9s 1ms/step - loss: 0.0204 - accuracy: 0.7142 - val_loss: 0.0228 - val_accuracy: 0.6803\n",
      "Epoch 55/100\n",
      "7949/7949 [==============================] - 11s 1ms/step - loss: 0.0204 - accuracy: 0.7145 - val_loss: 0.0230 - val_accuracy: 0.6797\n",
      "Epoch 56/100\n"
     ]
    },
    {
     "name": "stdout",
     "output_type": "stream",
     "text": [
      "7949/7949 [==============================] - 14s 2ms/step - loss: 0.0204 - accuracy: 0.7164 - val_loss: 0.0230 - val_accuracy: 0.6817\n",
      "Epoch 57/100\n",
      "7949/7949 [==============================] - 11s 1ms/step - loss: 0.0204 - accuracy: 0.7161 - val_loss: 0.0230 - val_accuracy: 0.6839\n",
      "Epoch 58/100\n",
      "7949/7949 [==============================] - 12s 2ms/step - loss: 0.0204 - accuracy: 0.7145 - val_loss: 0.0231 - val_accuracy: 0.6811\n",
      "Epoch 59/100\n",
      "7949/7949 [==============================] - 12s 2ms/step - loss: 0.0204 - accuracy: 0.7156 - val_loss: 0.0229 - val_accuracy: 0.6829\n",
      "Epoch 60/100\n",
      "7949/7949 [==============================] - 11s 1ms/step - loss: 0.0204 - accuracy: 0.7161 - val_loss: 0.0230 - val_accuracy: 0.6807\n",
      "Epoch 61/100\n",
      "7949/7949 [==============================] - 13s 2ms/step - loss: 0.0204 - accuracy: 0.7166 - val_loss: 0.0229 - val_accuracy: 0.6806\n",
      "Epoch 62/100\n",
      "7949/7949 [==============================] - 12s 1ms/step - loss: 0.0204 - accuracy: 0.7166 - val_loss: 0.0229 - val_accuracy: 0.6807\n",
      "Epoch 63/100\n",
      "7949/7949 [==============================] - 11s 1ms/step - loss: 0.0203 - accuracy: 0.7175 - val_loss: 0.0229 - val_accuracy: 0.6823\n",
      "Epoch 64/100\n",
      "7949/7949 [==============================] - 11s 1ms/step - loss: 0.0204 - accuracy: 0.7170 - val_loss: 0.0230 - val_accuracy: 0.6788\n",
      "Epoch 65/100\n",
      "7949/7949 [==============================] - 14s 2ms/step - loss: 0.0203 - accuracy: 0.7163 - val_loss: 0.0229 - val_accuracy: 0.6831\n",
      "Epoch 66/100\n",
      "7949/7949 [==============================] - 16s 2ms/step - loss: 0.0203 - accuracy: 0.7173 - val_loss: 0.0231 - val_accuracy: 0.6800\n",
      "Epoch 67/100\n",
      "7949/7949 [==============================] - 15s 2ms/step - loss: 0.0203 - accuracy: 0.7172 - val_loss: 0.0230 - val_accuracy: 0.6813\n",
      "Epoch 68/100\n",
      "7949/7949 [==============================] - 12s 1ms/step - loss: 0.0203 - accuracy: 0.7171 - val_loss: 0.0229 - val_accuracy: 0.6840\n",
      "Epoch 69/100\n",
      "7949/7949 [==============================] - 13s 2ms/step - loss: 0.0203 - accuracy: 0.7192 - val_loss: 0.0230 - val_accuracy: 0.6831\n",
      "Epoch 70/100\n",
      "7949/7949 [==============================] - 12s 2ms/step - loss: 0.0203 - accuracy: 0.7173 - val_loss: 0.0230 - val_accuracy: 0.6817\n",
      "Epoch 71/100\n",
      "7949/7949 [==============================] - 12s 1ms/step - loss: 0.0203 - accuracy: 0.7168 - val_loss: 0.0230 - val_accuracy: 0.6817\n",
      "Epoch 72/100\n",
      "7949/7949 [==============================] - 14s 2ms/step - loss: 0.0203 - accuracy: 0.7183 - val_loss: 0.0229 - val_accuracy: 0.6851\n",
      "Epoch 73/100\n",
      "7949/7949 [==============================] - 12s 2ms/step - loss: 0.0203 - accuracy: 0.7184 - val_loss: 0.0229 - val_accuracy: 0.6850\n",
      "Epoch 74/100\n",
      "7949/7949 [==============================] - 11s 1ms/step - loss: 0.0203 - accuracy: 0.7175 - val_loss: 0.0230 - val_accuracy: 0.6839\n",
      "Epoch 75/100\n",
      "7949/7949 [==============================] - 11s 1ms/step - loss: 0.0203 - accuracy: 0.7182 - val_loss: 0.0229 - val_accuracy: 0.6846\n",
      "Epoch 76/100\n",
      "7949/7949 [==============================] - 11s 1ms/step - loss: 0.0203 - accuracy: 0.7183 - val_loss: 0.0231 - val_accuracy: 0.6826\n",
      "Epoch 77/100\n",
      "7949/7949 [==============================] - 11s 1ms/step - loss: 0.0203 - accuracy: 0.7184 - val_loss: 0.0232 - val_accuracy: 0.6841\n",
      "Epoch 78/100\n",
      "7949/7949 [==============================] - 13s 2ms/step - loss: 0.0203 - accuracy: 0.7197 - val_loss: 0.0229 - val_accuracy: 0.6832\n",
      "Epoch 79/100\n",
      "7949/7949 [==============================] - 12s 1ms/step - loss: 0.0202 - accuracy: 0.7198 - val_loss: 0.0231 - val_accuracy: 0.6803\n",
      "Epoch 80/100\n",
      "7949/7949 [==============================] - 13s 2ms/step - loss: 0.0203 - accuracy: 0.7181 - val_loss: 0.0231 - val_accuracy: 0.6810\n",
      "Epoch 81/100\n",
      "7949/7949 [==============================] - 11s 1ms/step - loss: 0.0203 - accuracy: 0.7184 - val_loss: 0.0231 - val_accuracy: 0.6821\n",
      "Epoch 82/100\n",
      "7949/7949 [==============================] - 12s 1ms/step - loss: 0.0202 - accuracy: 0.7199 - val_loss: 0.0231 - val_accuracy: 0.6812\n",
      "Epoch 83/100\n",
      "7949/7949 [==============================] - 13s 2ms/step - loss: 0.0202 - accuracy: 0.7195 - val_loss: 0.0232 - val_accuracy: 0.6782\n",
      "Epoch 84/100\n",
      "7949/7949 [==============================] - 13s 2ms/step - loss: 0.0202 - accuracy: 0.7206 - val_loss: 0.0231 - val_accuracy: 0.6820\n",
      "Epoch 85/100\n",
      "7949/7949 [==============================] - 12s 2ms/step - loss: 0.0202 - accuracy: 0.7201 - val_loss: 0.0232 - val_accuracy: 0.6825\n",
      "Epoch 86/100\n",
      "7949/7949 [==============================] - 12s 2ms/step - loss: 0.0202 - accuracy: 0.7204 - val_loss: 0.0232 - val_accuracy: 0.6826\n",
      "Epoch 87/100\n",
      "7949/7949 [==============================] - 12s 2ms/step - loss: 0.0202 - accuracy: 0.7207 - val_loss: 0.0232 - val_accuracy: 0.6826\n",
      "Epoch 88/100\n",
      "7949/7949 [==============================] - 10s 1ms/step - loss: 0.0202 - accuracy: 0.7196 - val_loss: 0.0233 - val_accuracy: 0.6802\n",
      "Epoch 89/100\n",
      "7949/7949 [==============================] - 11s 1ms/step - loss: 0.0202 - accuracy: 0.7206 - val_loss: 0.0231 - val_accuracy: 0.6847\n",
      "Epoch 90/100\n",
      "7949/7949 [==============================] - 11s 1ms/step - loss: 0.0202 - accuracy: 0.7191 - val_loss: 0.0233 - val_accuracy: 0.6816\n",
      "Epoch 91/100\n",
      "7949/7949 [==============================] - 14s 2ms/step - loss: 0.0202 - accuracy: 0.7199 - val_loss: 0.0231 - val_accuracy: 0.6822\n",
      "Epoch 92/100\n",
      "7949/7949 [==============================] - 11s 1ms/step - loss: 0.0202 - accuracy: 0.7208 - val_loss: 0.0232 - val_accuracy: 0.6826\n",
      "Epoch 93/100\n",
      "7949/7949 [==============================] - 13s 2ms/step - loss: 0.0202 - accuracy: 0.7212 - val_loss: 0.0231 - val_accuracy: 0.6811\n",
      "Epoch 94/100\n",
      "7949/7949 [==============================] - 12s 2ms/step - loss: 0.0202 - accuracy: 0.7212 - val_loss: 0.0232 - val_accuracy: 0.6850\n",
      "Epoch 95/100\n",
      "7949/7949 [==============================] - 13s 2ms/step - loss: 0.0202 - accuracy: 0.7205 - val_loss: 0.0232 - val_accuracy: 0.6821\n",
      "Epoch 96/100\n",
      "7949/7949 [==============================] - 14s 2ms/step - loss: 0.0202 - accuracy: 0.7206 - val_loss: 0.0232 - val_accuracy: 0.6839\n",
      "Epoch 97/100\n",
      "7949/7949 [==============================] - 11s 1ms/step - loss: 0.0202 - accuracy: 0.7207 - val_loss: 0.0232 - val_accuracy: 0.6822\n",
      "Epoch 98/100\n",
      "7949/7949 [==============================] - 11s 1ms/step - loss: 0.0202 - accuracy: 0.7205 - val_loss: 0.0232 - val_accuracy: 0.6811\n",
      "Epoch 99/100\n",
      "7949/7949 [==============================] - 12s 1ms/step - loss: 0.0201 - accuracy: 0.7209 - val_loss: 0.0232 - val_accuracy: 0.6816\n",
      "Epoch 100/100\n",
      "7949/7949 [==============================] - 11s 1ms/step - loss: 0.0202 - accuracy: 0.7219 - val_loss: 0.0232 - val_accuracy: 0.6827\n"
     ]
    }
   ],
   "source": [
    "history = Model_pca.fit(X_pca_train,\n",
    "                    y_train,\n",
    "                    validation_data=(X_pca_val, y_val),\n",
    "                    epochs=100, \n",
    "                    batch_size = 4)"
   ]
  },
  {
   "cell_type": "code",
   "execution_count": 423,
   "id": "627eac60",
   "metadata": {},
   "outputs": [
    {
     "name": "stderr",
     "output_type": "stream",
     "text": [
      "WARNING:absl:Function `_wrapped_model` contains input name(s) Input_Dense_input with unsupported characters which will be renamed to input_dense_input in the SavedModel.\n"
     ]
    },
    {
     "name": "stdout",
     "output_type": "stream",
     "text": [
      "INFO:tensorflow:Assets written to: Model_pca.H5\\assets\n"
     ]
    },
    {
     "name": "stderr",
     "output_type": "stream",
     "text": [
      "INFO:tensorflow:Assets written to: Model_pca.H5\\assets\n"
     ]
    }
   ],
   "source": [
    "Model_pca.save('Model_pca.H5')"
   ]
  },
  {
   "cell_type": "code",
   "execution_count": 424,
   "id": "ec78076f",
   "metadata": {},
   "outputs": [
    {
     "data": {
      "text/plain": [
       "Text(0, 0.5, 'Mean Squared Error')"
      ]
     },
     "execution_count": 424,
     "metadata": {},
     "output_type": "execute_result"
    },
    {
     "data": {
      "image/png": "[encoded data removed]",
      "text/plain": [
       "<Figure size 720x720 with 1 Axes>"
      ]
     },
     "metadata": {
      "needs_background": "light"
     },
     "output_type": "display_data"
    }
   ],
   "source": [
    "plt.figure(figsize = (10,10))\n",
    "plt.plot(history.history['loss'], label = 'Trainng error', color = 'orange')\n",
    "plt.plot(history.history['val_loss'], label = 'Validation error', color = 'maroon')\n",
    "plt.title('Error Plot')\n",
    "plt.legend()\n",
    "plt.xlabel('Epochs')\n",
    "plt.ylabel('Mean Squared Error')"
   ]
  },
  {
   "cell_type": "code",
   "execution_count": 425,
   "id": "11d0ea48",
   "metadata": {},
   "outputs": [
    {
     "data": {
      "text/plain": [
       "Text(0, 0.5, 'Accuracy')"
      ]
     },
     "execution_count": 425,
     "metadata": {},
     "output_type": "execute_result"
    },
    {
     "data": {
      "image/png": "[encoded data removed]",
      "text/plain": [
       "<Figure size 720x576 with 1 Axes>"
      ]
     },
     "metadata": {
      "needs_background": "light"
     },
     "output_type": "display_data"
    }
   ],
   "source": [
    "plt.figure(figsize = (10,8))\n",
    "plt.plot(history.history['accuracy'], label = 'Training accuracy', color = 'purple')\n",
    "plt.plot(history.history['val_accuracy'], label = 'Validation accuracy', color = 'green')\n",
    "plt.title('Accuracy Plot')\n",
    "plt.legend()\n",
    "plt.xlabel('Epochs')\n",
    "plt.ylabel('Accuracy')"
   ]
  },
  {
   "cell_type": "code",
   "execution_count": 426,
   "id": "ccd56dea",
   "metadata": {},
   "outputs": [],
   "source": [
    "valivation_index = list(X_pca_val.index)"
   ]
  },
  {
   "cell_type": "code",
   "execution_count": 427,
   "id": "aa9ed299",
   "metadata": {},
   "outputs": [
    {
     "name": "stdout",
     "output_type": "stream",
     "text": [
      "\n",
      "Acuracy: 74.70 %\n"
     ]
    }
   ],
   "source": [
    "# Testing accuracy of the hybrid model\n",
    "\n",
    "Incorrect = 0\n",
    "Correct = 0\n",
    "num_samples = 1000\n",
    "for i in range(num_samples):\n",
    "    m = np.random.randint(0,len(validation_index))\n",
    "    n = validation_index[m]\n",
    "    if any(ele in Special_ingredients for ele in data_train[n]['ingredients']):\n",
    "        for cuisine in Special.keys():\n",
    "            if any(ele in Special[cuisine] for ele in data_train[n]['ingredients']):\n",
    "                if cuisine == data_train[n]['cuisine']:\n",
    "                    Correct+= 1\n",
    "                else:\n",
    "                    Incorrect+= 1\n",
    "                break\n",
    "    else:\n",
    "        test_vec = one_hot_ingredients(data_train[n]['ingredients'])\n",
    "        test_vec = np.dot(test_vec,pca_components.transpose())\n",
    "        test_vec = (test_vec - M_pca.to_numpy())/S_pca.to_numpy()\n",
    "        pred = Model_pca.predict(test_vec)\n",
    "        if y_dummies.columns[np.argmax(pred)].replace('0_','') == data_train[n]['cuisine']:\n",
    "            Correct+= 1\n",
    "        else:\n",
    "            Incorrect+=1\n",
    "print('\\nAcuracy: %.2f' %(Correct/(num_samples)*100),'%')"
   ]
  },
  {
   "cell_type": "code",
   "execution_count": 428,
   "id": "7d2c886c",
   "metadata": {},
   "outputs": [],
   "source": [
    "y_svm = pd.DataFrame(y_check, columns=['Cuisine'])\n",
    "y_svm['token'] = pd.factorize(y_svm.Cuisine)[0]"
   ]
  },
  {
   "cell_type": "code",
   "execution_count": 429,
   "id": "f2466d3c",
   "metadata": {},
   "outputs": [],
   "source": [
    "svm_pca = SVC(kernel = 'linear', C = 1)"
   ]
  },
  {
   "cell_type": "code",
   "execution_count": 431,
   "id": "3c9321e4",
   "metadata": {},
   "outputs": [],
   "source": [
    "X_pca_svm_train, X_pca_svm_val, y_pca_svm_train, y_pca_svm_val = train_test_split(X_pca, y_svm.token.values,\n",
    "                                                  test_size = .2,\n",
    "                                                 shuffle=True,\n",
    "                                                 stratify=y_check)"
   ]
  },
  {
   "cell_type": "code",
   "execution_count": 432,
   "id": "1d3e1f88",
   "metadata": {},
   "outputs": [
    {
     "data": {
      "text/plain": [
       "SVC(C=1, kernel='linear')"
      ]
     },
     "execution_count": 432,
     "metadata": {},
     "output_type": "execute_result"
    }
   ],
   "source": [
    "svm_pca.fit(X_pca_svm_train, y_pca_svm_train)"
   ]
  },
  {
   "cell_type": "code",
   "execution_count": 240,
   "id": "4b2dbacc",
   "metadata": {},
   "outputs": [
    {
     "data": {
      "text/plain": [
       "0.5760068551842331"
      ]
     },
     "execution_count": 240,
     "metadata": {},
     "output_type": "execute_result"
    }
   ],
   "source": [
    "svm_pca_pred = svm_pca.predict(X_pca_svm_val)\n",
    "acc = svm_pca.score(X_pca_svm_val, y_pca_svm_val)\n",
    "acc"
   ]
  },
  {
   "cell_type": "code",
   "execution_count": 433,
   "id": "eac48e43",
   "metadata": {},
   "outputs": [],
   "source": [
    "# Setting up the dictionary to read off the cuisine from the predicted token\n",
    "token_to_cuisine = {}\n",
    "for tok in range(20):\n",
    "    token_to_cuisine[tok] = list(y_svm[y_svm.token==tok].Cuisine)[0]"
   ]
  },
  {
   "cell_type": "code",
   "execution_count": 435,
   "id": "d3bdc9c7",
   "metadata": {},
   "outputs": [],
   "source": [
    "validation_index = list(X_pca_svm_val.index)"
   ]
  },
  {
   "cell_type": "code",
   "execution_count": 436,
   "id": "56e922ec",
   "metadata": {},
   "outputs": [
    {
     "name": "stdout",
     "output_type": "stream",
     "text": [
      "\n",
      "Acuracy 70.10 %\n"
     ]
    }
   ],
   "source": [
    "# Testing accuracy of the hybrid model\n",
    "\n",
    "Incorrect = 0\n",
    "Correct = 0\n",
    "num_samples = 1000\n",
    "for i in range(num_samples):\n",
    "    m = np.random.randint(0,len(validation_index))\n",
    "    n = validation_index[m]\n",
    "    if any(ele in Special_ingredients for ele in data_train[n]['ingredients']):\n",
    "        for cuisine in Special.keys():\n",
    "            if any(ele in Special[cuisine] for ele in data_train[n]['ingredients']):\n",
    "                if cuisine == data_train[n]['cuisine']:\n",
    "                    Correct+= 1\n",
    "                else:\n",
    "                    Incorrect+= 1\n",
    "                break\n",
    "    else:\n",
    "        start = time.time()\n",
    "        test_vec = one_hot_ingredients(data_train[n]['ingredients'])\n",
    "        test_vec = np.dot(test_vec,pca_components.transpose()).reshape(1,pca_embedding_dimension)\n",
    "        pred = svm_pca.predict(test_vec)\n",
    "        if token_to_cuisine[pred[0]] == data_train[n]['cuisine']:\n",
    "            Correct+= 1\n",
    "        else:\n",
    "            Incorrect+=1\n",
    "print('\\nAcuracy %.2f' %(Correct/(Correct+Incorrect)*100),'%')"
   ]
  },
  {
   "cell_type": "code",
   "execution_count": 440,
   "id": "a7085379",
   "metadata": {},
   "outputs": [],
   "source": [
    "svm_w2v = SVC(kernel = 'linear', C = 1)"
   ]
  },
  {
   "cell_type": "code",
   "execution_count": 438,
   "id": "214c3e54",
   "metadata": {},
   "outputs": [],
   "source": [
    "X_w2v_svm_train, X_w2v_svm_val, y_w2v_svm_train, y_w2v_svm_val = train_test_split(X_w2v,y_svm.token.values,\n",
    "                                                  test_size = .2,\n",
    "                                                 shuffle=True,\n",
    "                                                 stratify=y_check)"
   ]
  },
  {
   "cell_type": "code",
   "execution_count": 441,
   "id": "c9b4bc4d",
   "metadata": {},
   "outputs": [
    {
     "data": {
      "text/plain": [
       "SVC(C=1, kernel='linear')"
      ]
     },
     "execution_count": 441,
     "metadata": {},
     "output_type": "execute_result"
    }
   ],
   "source": [
    "svm_w2v.fit(X_w2v_svm_train,y_w2v_svm_train)"
   ]
  },
  {
   "cell_type": "code",
   "execution_count": 442,
   "id": "37427faf",
   "metadata": {},
   "outputs": [
    {
     "data": {
      "text/plain": [
       "0.6961881997735564"
      ]
     },
     "execution_count": 442,
     "metadata": {},
     "output_type": "execute_result"
    }
   ],
   "source": [
    "svm_w2v_pred = svm_w2v.predict(X_w2v_svm_val)\n",
    "acc = svm_w2v.score(X_w2v_svm_val, y_w2v_svm_val)\n",
    "acc"
   ]
  },
  {
   "cell_type": "code",
   "execution_count": 443,
   "id": "ba0a7de4",
   "metadata": {},
   "outputs": [],
   "source": [
    "validation_index = list(X_w2v_svm_val.index)"
   ]
  },
  {
   "cell_type": "code",
   "execution_count": 446,
   "id": "e649e276",
   "metadata": {},
   "outputs": [
    {
     "name": "stdout",
     "output_type": "stream",
     "text": [
      "\n",
      "Acuracy 75.10 %\n"
     ]
    }
   ],
   "source": [
    "# Testing accuracy of the hybrid model\n",
    "\n",
    "Incorrect = 0\n",
    "Correct = 0\n",
    "num_samples = 1000\n",
    "for i in range(num_samples):\n",
    "    m = np.random.randint(0,len(validation_index))\n",
    "    n = validation_index[m]\n",
    "    if any(ele in Special_ingredients for ele in data_train[n]['ingredients']):\n",
    "        for cuisine in Special.keys():\n",
    "            if any(ele in Special[cuisine] for ele in data_train[n]['ingredients']):\n",
    "                if cuisine == data_train[n]['cuisine']:\n",
    "                    Correct+= 1\n",
    "                else:\n",
    "                    Incorrect+= 1\n",
    "                break\n",
    "    else:\n",
    "        test_vec = recipe_embedding(data_train[n]['ingredients']).reshape(1,embedding_dimension)\n",
    "        pred = svm_w2v.predict(test_vec)\n",
    "        if token_to_cuisine[pred[0]] == data_train[n]['cuisine']:\n",
    "            Correct+= 1\n",
    "        else:\n",
    "            Incorrect+=1\n",
    "print('\\nAcuracy %.2f' %(Correct/(Correct+Incorrect)*100),'%')"
   ]
  },
  {
   "cell_type": "code",
   "execution_count": null,
   "id": "0f229700",
   "metadata": {},
   "outputs": [],
   "source": []
  }
 ],
 "metadata": {
  "kernelspec": {
   "display_name": "Python 3",
   "language": "python",
   "name": "python3"
  },
  "language_info": {
   "codemirror_mode": {
    "name": "ipython",
    "version": 3
   },
   "file_extension": ".py",
   "mimetype": "text/x-python",
   "name": "python",
   "nbconvert_exporter": "python",
   "pygments_lexer": "ipython3",
   "version": "3.8.8"
  }
 },
 "nbformat": 4,
 "nbformat_minor": 5
}
