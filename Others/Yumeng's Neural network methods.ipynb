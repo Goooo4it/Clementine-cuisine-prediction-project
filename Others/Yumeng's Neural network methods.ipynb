{
 "cells": [
  {
   "cell_type": "markdown",
   "metadata": {},
   "source": [
    "This notebook discusses the neural network approach.\n",
    "\n",
    "The best performed neural network has two hidden layers of size (30, 30), trained with epochs=10, batch_size=100, which has validation accuracy 0.74. \n",
    "\n",
    "PCA does not improve the performance, maybe pca losses some information of the data."
   ]
  },
  {
   "cell_type": "code",
   "execution_count": 2,
   "metadata": {},
   "outputs": [],
   "source": [
    "# Import packages\n",
    "import re\n",
    "import json\n",
    "import numpy as np\n",
    "import pandas as pd\n",
    "\n",
    "from sklearn.model_selection import train_test_split\n",
    "from sklearn.decomposition import PCA\n",
    "from sklearn.metrics import accuracy_score\n",
    "\n",
    "import matplotlib.pyplot as plt\n",
    "import seaborn as sns"
   ]
  },
  {
   "cell_type": "code",
   "execution_count": 3,
   "metadata": {},
   "outputs": [],
   "source": [
    "# load the data\n",
    "file_train = open(\"data/train.json\", \"r\")\n",
    "file_test = open(\"data/test.json\", \"r\")\n",
    "data_train = json.load(file_train)\n",
    "data_test = json.load(file_test)"
   ]
  },
  {
   "cell_type": "code",
   "execution_count": 4,
   "metadata": {},
   "outputs": [
    {
     "data": {
      "text/html": [
       "<div>\n",
       "<style scoped>\n",
       "    .dataframe tbody tr th:only-of-type {\n",
       "        vertical-align: middle;\n",
       "    }\n",
       "\n",
       "    .dataframe tbody tr th {\n",
       "        vertical-align: top;\n",
       "    }\n",
       "\n",
       "    .dataframe thead th {\n",
       "        text-align: right;\n",
       "    }\n",
       "</style>\n",
       "<table border=\"1\" class=\"dataframe\">\n",
       "  <thead>\n",
       "    <tr style=\"text-align: right;\">\n",
       "      <th></th>\n",
       "      <th>cuisine</th>\n",
       "    </tr>\n",
       "  </thead>\n",
       "  <tbody>\n",
       "    <tr>\n",
       "      <th>0</th>\n",
       "      <td>greek</td>\n",
       "    </tr>\n",
       "    <tr>\n",
       "      <th>1</th>\n",
       "      <td>southern_us</td>\n",
       "    </tr>\n",
       "    <tr>\n",
       "      <th>2</th>\n",
       "      <td>filipino</td>\n",
       "    </tr>\n",
       "    <tr>\n",
       "      <th>3</th>\n",
       "      <td>indian</td>\n",
       "    </tr>\n",
       "    <tr>\n",
       "      <th>4</th>\n",
       "      <td>indian</td>\n",
       "    </tr>\n",
       "  </tbody>\n",
       "</table>\n",
       "</div>"
      ],
      "text/plain": [
       "       cuisine\n",
       "0        greek\n",
       "1  southern_us\n",
       "2     filipino\n",
       "3       indian\n",
       "4       indian"
      ]
     },
     "execution_count": 4,
     "metadata": {},
     "output_type": "execute_result"
    }
   ],
   "source": [
    "# make labels for training set\n",
    "y_train = [recipe['cuisine'] for recipe in data_train]\n",
    "y_train = pd.DataFrame(y_train, columns=['cuisine'])\n",
    "y_train.head()"
   ]
  },
  {
   "cell_type": "code",
   "execution_count": 5,
   "metadata": {},
   "outputs": [],
   "source": [
    "# Transform the labels into numerical values\n",
    "from sklearn.preprocessing import LabelEncoder\n",
    "\n",
    "label_encoder = LabelEncoder()\n",
    "label_encoder = label_encoder.fit(y_train.cuisine.astype(str))\n",
    "y_train['cusine_code'] = label_encoder.transform(y_train.cuisine.astype(str)).astype(int)\n",
    "\n"
   ]
  },
  {
   "cell_type": "code",
   "execution_count": 5,
   "metadata": {},
   "outputs": [
    {
     "data": {
      "text/html": [
       "<div>\n",
       "<style scoped>\n",
       "    .dataframe tbody tr th:only-of-type {\n",
       "        vertical-align: middle;\n",
       "    }\n",
       "\n",
       "    .dataframe tbody tr th {\n",
       "        vertical-align: top;\n",
       "    }\n",
       "\n",
       "    .dataframe thead th {\n",
       "        text-align: right;\n",
       "    }\n",
       "</style>\n",
       "<table border=\"1\" class=\"dataframe\">\n",
       "  <thead>\n",
       "    <tr style=\"text-align: right;\">\n",
       "      <th></th>\n",
       "      <th>cuisine</th>\n",
       "      <th>cusine_code</th>\n",
       "    </tr>\n",
       "  </thead>\n",
       "  <tbody>\n",
       "    <tr>\n",
       "      <th>0</th>\n",
       "      <td>greek</td>\n",
       "      <td>6</td>\n",
       "    </tr>\n",
       "    <tr>\n",
       "      <th>1</th>\n",
       "      <td>southern_us</td>\n",
       "      <td>16</td>\n",
       "    </tr>\n",
       "    <tr>\n",
       "      <th>2</th>\n",
       "      <td>filipino</td>\n",
       "      <td>4</td>\n",
       "    </tr>\n",
       "    <tr>\n",
       "      <th>3</th>\n",
       "      <td>indian</td>\n",
       "      <td>7</td>\n",
       "    </tr>\n",
       "    <tr>\n",
       "      <th>4</th>\n",
       "      <td>indian</td>\n",
       "      <td>7</td>\n",
       "    </tr>\n",
       "  </tbody>\n",
       "</table>\n",
       "</div>"
      ],
      "text/plain": [
       "       cuisine  cusine_code\n",
       "0        greek            6\n",
       "1  southern_us           16\n",
       "2     filipino            4\n",
       "3       indian            7\n",
       "4       indian            7"
      ]
     },
     "execution_count": 5,
     "metadata": {},
     "output_type": "execute_result"
    }
   ],
   "source": [
    "y_train.head()"
   ]
  },
  {
   "cell_type": "code",
   "execution_count": 6,
   "metadata": {},
   "outputs": [],
   "source": [
    "# train test split with random_state=330, this will be used later \n",
    "data_tt, data_val, y_tt, y_val = train_test_split(data_train,y_train,\n",
    "                                                  test_size = .2,\n",
    "                                                 shuffle=True,\n",
    "                                                  random_state=330,\n",
    "                                                 stratify=y_train['cusine_code'])"
   ]
  },
  {
   "cell_type": "code",
   "execution_count": 21,
   "metadata": {},
   "outputs": [],
   "source": [
    "# Select the special ingredients fron data_tt\n",
    "# exclude those from X_val\n",
    "Sets = dict()\n",
    "Special = dict()\n",
    "\n",
    "for cuisine in set(y_tt.cuisine):\n",
    "    Sets[cuisine] = set()\n",
    "\n",
    "for recipe in data_tt:\n",
    "    Sets[recipe['cuisine']] = Sets[recipe['cuisine']].union(set(recipe['ingredients']))\n",
    "\n",
    "for cuisine in set(y_tt.cuisine):\n",
    "    Special[cuisine] = Sets[cuisine]\n",
    "    for j in set(y_tt.cuisine) - {cuisine}:\n",
    "        Special[cuisine] = Special[cuisine] - Sets[j] \n",
    "Special_ingredients = set()\n",
    "for ingredients in Special.values():\n",
    "    Special_ingredients = Special_ingredients.union(ingredients)"
   ]
  },
  {
   "cell_type": "code",
   "execution_count": 8,
   "metadata": {},
   "outputs": [],
   "source": [
    "# load the word to vec model\n",
    "import gensim.downloader as api\n",
    "w2v_model = api.load(\"glove-wiki-gigaword-300\")"
   ]
  },
  {
   "cell_type": "code",
   "execution_count": 9,
   "metadata": {},
   "outputs": [],
   "source": [
    "# Creating the embedding vectors for data_train\n",
    "\n",
    "embedding_dim = len(w2v_model.get_vector('hello'))\n",
    "Data = np.zeros((len(data_train), embedding_dim))\n",
    "\n",
    "for row in range(len(data_train)):\n",
    "    ingredients = data_train[row]['ingredients']\n",
    "    ingred_list = []\n",
    "    for ingred in ingredients:\n",
    "        ingred = ingred.lower()\n",
    "        res = re.split('[^a-zA-Z0-9]+', ingred) \n",
    "        ingred_list.extend(res)\n",
    "    \n",
    "    Data[row] = w2v_model.get_mean_vector(ingred_list)\n",
    "X_train = pd.DataFrame(Data)"
   ]
  },
  {
   "cell_type": "code",
   "execution_count": 10,
   "metadata": {},
   "outputs": [
    {
     "data": {
      "text/html": [
       "<div>\n",
       "<style scoped>\n",
       "    .dataframe tbody tr th:only-of-type {\n",
       "        vertical-align: middle;\n",
       "    }\n",
       "\n",
       "    .dataframe tbody tr th {\n",
       "        vertical-align: top;\n",
       "    }\n",
       "\n",
       "    .dataframe thead th {\n",
       "        text-align: right;\n",
       "    }\n",
       "</style>\n",
       "<table border=\"1\" class=\"dataframe\">\n",
       "  <thead>\n",
       "    <tr style=\"text-align: right;\">\n",
       "      <th></th>\n",
       "      <th>0</th>\n",
       "      <th>1</th>\n",
       "      <th>2</th>\n",
       "      <th>3</th>\n",
       "      <th>4</th>\n",
       "      <th>5</th>\n",
       "      <th>6</th>\n",
       "      <th>7</th>\n",
       "      <th>8</th>\n",
       "      <th>9</th>\n",
       "      <th>...</th>\n",
       "      <th>290</th>\n",
       "      <th>291</th>\n",
       "      <th>292</th>\n",
       "      <th>293</th>\n",
       "      <th>294</th>\n",
       "      <th>295</th>\n",
       "      <th>296</th>\n",
       "      <th>297</th>\n",
       "      <th>298</th>\n",
       "      <th>299</th>\n",
       "    </tr>\n",
       "  </thead>\n",
       "  <tbody>\n",
       "    <tr>\n",
       "      <th>0</th>\n",
       "      <td>-0.007129</td>\n",
       "      <td>0.014538</td>\n",
       "      <td>0.037972</td>\n",
       "      <td>-0.002912</td>\n",
       "      <td>-0.019502</td>\n",
       "      <td>-0.035497</td>\n",
       "      <td>-0.035003</td>\n",
       "      <td>0.012690</td>\n",
       "      <td>0.009769</td>\n",
       "      <td>0.006574</td>\n",
       "      <td>...</td>\n",
       "      <td>-0.000511</td>\n",
       "      <td>0.002482</td>\n",
       "      <td>0.029561</td>\n",
       "      <td>-0.008820</td>\n",
       "      <td>-0.055830</td>\n",
       "      <td>-0.068829</td>\n",
       "      <td>-0.007445</td>\n",
       "      <td>-0.033466</td>\n",
       "      <td>0.033222</td>\n",
       "      <td>0.022508</td>\n",
       "    </tr>\n",
       "    <tr>\n",
       "      <th>1</th>\n",
       "      <td>-0.010825</td>\n",
       "      <td>0.037093</td>\n",
       "      <td>0.025090</td>\n",
       "      <td>-0.022936</td>\n",
       "      <td>-0.024930</td>\n",
       "      <td>-0.034393</td>\n",
       "      <td>-0.012253</td>\n",
       "      <td>0.026217</td>\n",
       "      <td>0.017413</td>\n",
       "      <td>-0.093013</td>\n",
       "      <td>...</td>\n",
       "      <td>-0.003094</td>\n",
       "      <td>0.003128</td>\n",
       "      <td>0.006862</td>\n",
       "      <td>0.020216</td>\n",
       "      <td>-0.008999</td>\n",
       "      <td>-0.022631</td>\n",
       "      <td>0.004138</td>\n",
       "      <td>-0.051838</td>\n",
       "      <td>0.006054</td>\n",
       "      <td>0.024809</td>\n",
       "    </tr>\n",
       "    <tr>\n",
       "      <th>2</th>\n",
       "      <td>-0.001878</td>\n",
       "      <td>0.025028</td>\n",
       "      <td>0.028985</td>\n",
       "      <td>-0.030870</td>\n",
       "      <td>-0.020794</td>\n",
       "      <td>-0.041656</td>\n",
       "      <td>-0.013798</td>\n",
       "      <td>0.023472</td>\n",
       "      <td>0.016664</td>\n",
       "      <td>-0.050984</td>\n",
       "      <td>...</td>\n",
       "      <td>-0.028241</td>\n",
       "      <td>0.010351</td>\n",
       "      <td>0.024706</td>\n",
       "      <td>-0.004655</td>\n",
       "      <td>-0.032478</td>\n",
       "      <td>-0.072424</td>\n",
       "      <td>0.007893</td>\n",
       "      <td>-0.048366</td>\n",
       "      <td>0.008881</td>\n",
       "      <td>0.026711</td>\n",
       "    </tr>\n",
       "    <tr>\n",
       "      <th>3</th>\n",
       "      <td>0.005193</td>\n",
       "      <td>0.016592</td>\n",
       "      <td>-0.005436</td>\n",
       "      <td>-0.032777</td>\n",
       "      <td>-0.012471</td>\n",
       "      <td>0.013311</td>\n",
       "      <td>-0.006194</td>\n",
       "      <td>0.015425</td>\n",
       "      <td>0.030766</td>\n",
       "      <td>-0.142578</td>\n",
       "      <td>...</td>\n",
       "      <td>-0.048216</td>\n",
       "      <td>-0.000493</td>\n",
       "      <td>0.015772</td>\n",
       "      <td>0.021818</td>\n",
       "      <td>0.045742</td>\n",
       "      <td>0.007719</td>\n",
       "      <td>0.003154</td>\n",
       "      <td>-0.094063</td>\n",
       "      <td>-0.018717</td>\n",
       "      <td>0.046306</td>\n",
       "    </tr>\n",
       "    <tr>\n",
       "      <th>4</th>\n",
       "      <td>-0.001775</td>\n",
       "      <td>0.033189</td>\n",
       "      <td>0.017418</td>\n",
       "      <td>-0.017050</td>\n",
       "      <td>-0.029041</td>\n",
       "      <td>-0.037277</td>\n",
       "      <td>-0.016641</td>\n",
       "      <td>0.008630</td>\n",
       "      <td>0.013647</td>\n",
       "      <td>-0.038315</td>\n",
       "      <td>...</td>\n",
       "      <td>-0.026515</td>\n",
       "      <td>0.010357</td>\n",
       "      <td>0.014744</td>\n",
       "      <td>-0.006545</td>\n",
       "      <td>-0.013195</td>\n",
       "      <td>-0.045015</td>\n",
       "      <td>0.010750</td>\n",
       "      <td>-0.030593</td>\n",
       "      <td>0.006772</td>\n",
       "      <td>0.042275</td>\n",
       "    </tr>\n",
       "  </tbody>\n",
       "</table>\n",
       "<p>5 rows × 300 columns</p>\n",
       "</div>"
      ],
      "text/plain": [
       "        0         1         2         3         4         5         6    \\\n",
       "0 -0.007129  0.014538  0.037972 -0.002912 -0.019502 -0.035497 -0.035003   \n",
       "1 -0.010825  0.037093  0.025090 -0.022936 -0.024930 -0.034393 -0.012253   \n",
       "2 -0.001878  0.025028  0.028985 -0.030870 -0.020794 -0.041656 -0.013798   \n",
       "3  0.005193  0.016592 -0.005436 -0.032777 -0.012471  0.013311 -0.006194   \n",
       "4 -0.001775  0.033189  0.017418 -0.017050 -0.029041 -0.037277 -0.016641   \n",
       "\n",
       "        7         8         9    ...       290       291       292       293  \\\n",
       "0  0.012690  0.009769  0.006574  ... -0.000511  0.002482  0.029561 -0.008820   \n",
       "1  0.026217  0.017413 -0.093013  ... -0.003094  0.003128  0.006862  0.020216   \n",
       "2  0.023472  0.016664 -0.050984  ... -0.028241  0.010351  0.024706 -0.004655   \n",
       "3  0.015425  0.030766 -0.142578  ... -0.048216 -0.000493  0.015772  0.021818   \n",
       "4  0.008630  0.013647 -0.038315  ... -0.026515  0.010357  0.014744 -0.006545   \n",
       "\n",
       "        294       295       296       297       298       299  \n",
       "0 -0.055830 -0.068829 -0.007445 -0.033466  0.033222  0.022508  \n",
       "1 -0.008999 -0.022631  0.004138 -0.051838  0.006054  0.024809  \n",
       "2 -0.032478 -0.072424  0.007893 -0.048366  0.008881  0.026711  \n",
       "3  0.045742  0.007719  0.003154 -0.094063 -0.018717  0.046306  \n",
       "4 -0.013195 -0.045015  0.010750 -0.030593  0.006772  0.042275  \n",
       "\n",
       "[5 rows x 300 columns]"
      ]
     },
     "execution_count": 10,
     "metadata": {},
     "output_type": "execute_result"
    }
   ],
   "source": [
    "X_train.head()"
   ]
  },
  {
   "cell_type": "code",
   "execution_count": 11,
   "metadata": {},
   "outputs": [
    {
     "data": {
      "text/plain": [
       "(39774, 300)"
      ]
     },
     "execution_count": 11,
     "metadata": {},
     "output_type": "execute_result"
    }
   ],
   "source": [
    "X_train.shape"
   ]
  },
  {
   "cell_type": "code",
   "execution_count": 12,
   "metadata": {},
   "outputs": [],
   "source": [
    "# we use the same train_test_split with random_state=330\n",
    "X_tt, X_val, y_tt, y_val = train_test_split(X_train, y_train, \n",
    "                                           test_size=0.2,\n",
    "                                            shuffle=True,\n",
    "                                           random_state=330,\n",
    "                                           stratify=y_train['cusine_code'])"
   ]
  },
  {
   "cell_type": "code",
   "execution_count": 13,
   "metadata": {},
   "outputs": [],
   "source": [
    "import keras\n",
    "from keras import layers\n",
    "from keras import models\n",
    "from keras import optimizers\n",
    "from keras import metrics\n",
    "from keras.utils.np_utils import to_categorical"
   ]
  },
  {
   "cell_type": "code",
   "execution_count": 14,
   "metadata": {},
   "outputs": [
    {
     "name": "stdout",
     "output_type": "stream",
     "text": [
      "Metal device set to: Apple M1\n"
     ]
    },
    {
     "name": "stderr",
     "output_type": "stream",
     "text": [
      "2022-06-03 14:58:52.245473: I tensorflow/core/common_runtime/pluggable_device/pluggable_device_factory.cc:305] Could not identify NUMA node of platform GPU ID 0, defaulting to 0. Your kernel may not have been built with NUMA support.\n",
      "2022-06-03 14:58:52.247540: I tensorflow/core/common_runtime/pluggable_device/pluggable_device_factory.cc:271] Created TensorFlow device (/job:localhost/replica:0/task:0/device:GPU:0 with 0 MB memory) -> physical PluggableDevice (device: 0, name: METAL, pci bus id: <undefined>)\n"
     ]
    }
   ],
   "source": [
    "# neural network with 2 hidden layers of size (30, 30)\n",
    "nw = models.Sequential()\n",
    "\n",
    "nw.add(layers.Dense(30, activation='relu', input_shape=(X_tt.shape[1],)))\n",
    "nw.add(layers.Dense(30, activation='relu'))\n",
    "nw.add(layers.Dense(20, activation='softmax'))\n",
    "\n",
    "nw.compile(loss='categorical_crossentropy', optimizer= 'Adam', metrics= 'accuracy')"
   ]
  },
  {
   "cell_type": "code",
   "execution_count": 15,
   "metadata": {},
   "outputs": [],
   "source": [
    "# Standardize the data into normal distribution\n",
    "from sklearn.preprocessing import QuantileTransformer\n",
    "\n",
    "qt = QuantileTransformer(n_quantiles=1000, \n",
    "                         output_distribution='normal',\n",
    "                         random_state=330)\n",
    "qt.fit(X_tt)\n",
    "X_tt_norm = qt.transform(X_tt)\n",
    "X_val_norm = qt.transform(X_val)"
   ]
  },
  {
   "cell_type": "code",
   "execution_count": 45,
   "metadata": {
    "scrolled": true
   },
   "outputs": [
    {
     "name": "stdout",
     "output_type": "stream",
     "text": [
      "Epoch 1/30\n",
      "319/319 [==============================] - 4s 13ms/step - loss: 0.6418 - accuracy: 0.8027 - val_loss: 0.9039 - val_accuracy: 0.7422\n",
      "Epoch 2/30\n",
      "319/319 [==============================] - 4s 14ms/step - loss: 0.6368 - accuracy: 0.8027 - val_loss: 0.9060 - val_accuracy: 0.7429\n",
      "Epoch 3/30\n",
      "319/319 [==============================] - 3s 10ms/step - loss: 0.6363 - accuracy: 0.8010 - val_loss: 0.9127 - val_accuracy: 0.7400\n",
      "Epoch 4/30\n",
      "319/319 [==============================] - 3s 9ms/step - loss: 0.6325 - accuracy: 0.8019 - val_loss: 0.9108 - val_accuracy: 0.7412\n",
      "Epoch 5/30\n",
      "319/319 [==============================] - 5s 16ms/step - loss: 0.6289 - accuracy: 0.8031 - val_loss: 0.9142 - val_accuracy: 0.7409\n",
      "Epoch 6/30\n",
      "319/319 [==============================] - 4s 12ms/step - loss: 0.6269 - accuracy: 0.8041 - val_loss: 0.9098 - val_accuracy: 0.7436\n",
      "Epoch 7/30\n",
      "319/319 [==============================] - 4s 11ms/step - loss: 0.6251 - accuracy: 0.8061 - val_loss: 0.9070 - val_accuracy: 0.7394\n",
      "Epoch 8/30\n",
      "319/319 [==============================] - 3s 10ms/step - loss: 0.6236 - accuracy: 0.8051 - val_loss: 0.9204 - val_accuracy: 0.7400\n",
      "Epoch 9/30\n",
      "319/319 [==============================] - 4s 13ms/step - loss: 0.6191 - accuracy: 0.8069 - val_loss: 0.9234 - val_accuracy: 0.7427\n",
      "Epoch 10/30\n",
      "319/319 [==============================] - 3s 10ms/step - loss: 0.6189 - accuracy: 0.8071 - val_loss: 0.9195 - val_accuracy: 0.7384\n",
      "Epoch 11/30\n",
      "319/319 [==============================] - 3s 10ms/step - loss: 0.6160 - accuracy: 0.8070 - val_loss: 0.9176 - val_accuracy: 0.7383\n",
      "Epoch 12/30\n",
      "319/319 [==============================] - 3s 9ms/step - loss: 0.6130 - accuracy: 0.8081 - val_loss: 0.9214 - val_accuracy: 0.7375\n",
      "Epoch 13/30\n",
      "319/319 [==============================] - 4s 11ms/step - loss: 0.6113 - accuracy: 0.8076 - val_loss: 0.9249 - val_accuracy: 0.7390\n",
      "Epoch 14/30\n",
      "319/319 [==============================] - 3s 9ms/step - loss: 0.6083 - accuracy: 0.8101 - val_loss: 0.9285 - val_accuracy: 0.7402\n",
      "Epoch 15/30\n",
      "319/319 [==============================] - 3s 9ms/step - loss: 0.6073 - accuracy: 0.8090 - val_loss: 0.9314 - val_accuracy: 0.7415\n",
      "Epoch 16/30\n",
      "319/319 [==============================] - 3s 10ms/step - loss: 0.6047 - accuracy: 0.8089 - val_loss: 0.9304 - val_accuracy: 0.7395\n",
      "Epoch 17/30\n",
      "319/319 [==============================] - 3s 10ms/step - loss: 0.6024 - accuracy: 0.8116 - val_loss: 0.9451 - val_accuracy: 0.7389\n",
      "Epoch 18/30\n",
      "319/319 [==============================] - 3s 9ms/step - loss: 0.6012 - accuracy: 0.8113 - val_loss: 0.9351 - val_accuracy: 0.7408\n",
      "Epoch 19/30\n",
      "319/319 [==============================] - 3s 9ms/step - loss: 0.5985 - accuracy: 0.8115 - val_loss: 0.9364 - val_accuracy: 0.7410\n",
      "Epoch 20/30\n",
      "319/319 [==============================] - 3s 9ms/step - loss: 0.5972 - accuracy: 0.8131 - val_loss: 0.9384 - val_accuracy: 0.7414\n",
      "Epoch 21/30\n",
      "319/319 [==============================] - 3s 9ms/step - loss: 0.5949 - accuracy: 0.8139 - val_loss: 0.9397 - val_accuracy: 0.7368\n",
      "Epoch 22/30\n",
      "319/319 [==============================] - 3s 9ms/step - loss: 0.5930 - accuracy: 0.8151 - val_loss: 0.9445 - val_accuracy: 0.7417\n",
      "Epoch 23/30\n",
      "319/319 [==============================] - 3s 9ms/step - loss: 0.5903 - accuracy: 0.8136 - val_loss: 0.9473 - val_accuracy: 0.7383\n",
      "Epoch 24/30\n",
      "319/319 [==============================] - 3s 10ms/step - loss: 0.5889 - accuracy: 0.8151 - val_loss: 0.9459 - val_accuracy: 0.7344\n",
      "Epoch 25/30\n",
      "319/319 [==============================] - 4s 11ms/step - loss: 0.5888 - accuracy: 0.8150 - val_loss: 0.9406 - val_accuracy: 0.7394\n",
      "Epoch 26/30\n",
      "319/319 [==============================] - 4s 11ms/step - loss: 0.5855 - accuracy: 0.8178 - val_loss: 0.9512 - val_accuracy: 0.7373\n",
      "Epoch 27/30\n",
      "319/319 [==============================] - 3s 10ms/step - loss: 0.5843 - accuracy: 0.8171 - val_loss: 0.9508 - val_accuracy: 0.7415\n",
      "Epoch 28/30\n",
      "319/319 [==============================] - 3s 10ms/step - loss: 0.5826 - accuracy: 0.8183 - val_loss: 0.9510 - val_accuracy: 0.7424\n",
      "Epoch 29/30\n",
      "319/319 [==============================] - 4s 12ms/step - loss: 0.5804 - accuracy: 0.8178 - val_loss: 0.9549 - val_accuracy: 0.7398\n",
      "Epoch 30/30\n",
      "319/319 [==============================] - 4s 11ms/step - loss: 0.5809 - accuracy: 0.8171 - val_loss: 0.9549 - val_accuracy: 0.7404\n"
     ]
    }
   ],
   "source": [
    "nw_history = nw.fit(X_tt_norm, to_categorical(y_tt['cusine_code']),\n",
    "      epochs = 30,\n",
    "      batch_size=100,\n",
    "      validation_data=(X_val_norm, to_categorical(y_val['cusine_code'])))"
   ]
  },
  {
   "cell_type": "code",
   "execution_count": 46,
   "metadata": {},
   "outputs": [
    {
     "data": {
      "image/png": "[encoded data removed]",
      "text/plain": [
       "<Figure size 720x576 with 1 Axes>"
      ]
     },
     "metadata": {
      "needs_background": "light"
     },
     "output_type": "display_data"
    }
   ],
   "source": [
    "plt.figure(figsize = (10,8))\n",
    "plt.plot(nw_history.history['accuracy'], label = 'Training accuracy', color = 'purple')\n",
    "plt.plot(nw_history.history['val_accuracy'], label = 'Validation accuracy', color = 'green')\n",
    "plt.title('Accuracy Plot')\n",
    "plt.legend()\n",
    "plt.xlabel('Epochs')\n",
    "plt.ylabel('Accuracy')\n",
    "plt.show()"
   ]
  },
  {
   "cell_type": "code",
   "execution_count": null,
   "metadata": {},
   "outputs": [],
   "source": []
  },
  {
   "cell_type": "code",
   "execution_count": 17,
   "metadata": {},
   "outputs": [],
   "source": [
    "# same neural network with epochs=20 and batch_size=10\n",
    "nw2 = models.Sequential()\n",
    "\n",
    "nw2.add(layers.Dense(30, activation='relu', input_shape=(X_tt.shape[1],)))\n",
    "nw2.add(layers.Dense(30, activation='relu'))\n",
    "nw2.add(layers.Dense(20, activation='softmax'))\n",
    "\n",
    "nw2.compile(loss='categorical_crossentropy', optimizer= 'Adam', metrics= 'accuracy')"
   ]
  },
  {
   "cell_type": "code",
   "execution_count": 18,
   "metadata": {},
   "outputs": [
    {
     "name": "stdout",
     "output_type": "stream",
     "text": [
      "Epoch 1/20\n"
     ]
    },
    {
     "name": "stderr",
     "output_type": "stream",
     "text": [
      "2022-06-03 15:02:34.077722: I tensorflow/core/grappler/optimizers/custom_graph_optimizer_registry.cc:113] Plugin optimizer for device_type GPU is enabled.\n"
     ]
    },
    {
     "name": "stdout",
     "output_type": "stream",
     "text": [
      "3182/3182 [==============================] - ETA: 0s - loss: 1.2365 - accuracy: 0.6388"
     ]
    },
    {
     "name": "stderr",
     "output_type": "stream",
     "text": [
      "2022-06-03 15:02:55.727513: I tensorflow/core/grappler/optimizers/custom_graph_optimizer_registry.cc:113] Plugin optimizer for device_type GPU is enabled.\n"
     ]
    },
    {
     "name": "stdout",
     "output_type": "stream",
     "text": [
      "3182/3182 [==============================] - 25s 8ms/step - loss: 1.2365 - accuracy: 0.6388 - val_loss: 1.0121 - val_accuracy: 0.6992\n",
      "Epoch 2/20\n",
      "3182/3182 [==============================] - 24s 7ms/step - loss: 0.9464 - accuracy: 0.7149 - val_loss: 0.9506 - val_accuracy: 0.7141\n",
      "Epoch 3/20\n",
      "3182/3182 [==============================] - 25s 8ms/step - loss: 0.8779 - accuracy: 0.7366 - val_loss: 0.9382 - val_accuracy: 0.7218\n",
      "Epoch 4/20\n",
      "3182/3182 [==============================] - 24s 7ms/step - loss: 0.8398 - accuracy: 0.7475 - val_loss: 0.9136 - val_accuracy: 0.7338\n",
      "Epoch 5/20\n",
      "3182/3182 [==============================] - 26s 8ms/step - loss: 0.8130 - accuracy: 0.7537 - val_loss: 0.9085 - val_accuracy: 0.7392\n",
      "Epoch 6/20\n",
      "3182/3182 [==============================] - 28s 9ms/step - loss: 0.7927 - accuracy: 0.7606 - val_loss: 0.9211 - val_accuracy: 0.7290\n",
      "Epoch 7/20\n",
      "3182/3182 [==============================] - 24s 8ms/step - loss: 0.7731 - accuracy: 0.7659 - val_loss: 0.9222 - val_accuracy: 0.7321\n",
      "Epoch 8/20\n",
      "3182/3182 [==============================] - 27s 9ms/step - loss: 0.7585 - accuracy: 0.7694 - val_loss: 0.9085 - val_accuracy: 0.7338\n",
      "Epoch 9/20\n",
      "3182/3182 [==============================] - 33s 11ms/step - loss: 0.7480 - accuracy: 0.7715 - val_loss: 0.9041 - val_accuracy: 0.7345\n",
      "Epoch 10/20\n",
      "3182/3182 [==============================] - 29s 9ms/step - loss: 0.7380 - accuracy: 0.7738 - val_loss: 0.9144 - val_accuracy: 0.7366\n",
      "Epoch 11/20\n",
      "3182/3182 [==============================] - 31s 10ms/step - loss: 0.7282 - accuracy: 0.7785 - val_loss: 0.9198 - val_accuracy: 0.7375\n",
      "Epoch 12/20\n",
      "3182/3182 [==============================] - 28s 9ms/step - loss: 0.7198 - accuracy: 0.7787 - val_loss: 0.9189 - val_accuracy: 0.7369\n",
      "Epoch 13/20\n",
      "3182/3182 [==============================] - 31s 10ms/step - loss: 0.7099 - accuracy: 0.7836 - val_loss: 0.9322 - val_accuracy: 0.7332\n",
      "Epoch 14/20\n",
      "3182/3182 [==============================] - 31s 10ms/step - loss: 0.7044 - accuracy: 0.7827 - val_loss: 0.9322 - val_accuracy: 0.7330\n",
      "Epoch 15/20\n",
      "3182/3182 [==============================] - 32s 10ms/step - loss: 0.6974 - accuracy: 0.7855 - val_loss: 0.9229 - val_accuracy: 0.7369\n",
      "Epoch 16/20\n",
      "3182/3182 [==============================] - 26s 8ms/step - loss: 0.6910 - accuracy: 0.7865 - val_loss: 0.9284 - val_accuracy: 0.7379\n",
      "Epoch 17/20\n",
      "3182/3182 [==============================] - 34s 11ms/step - loss: 0.6853 - accuracy: 0.7884 - val_loss: 0.9471 - val_accuracy: 0.7300\n",
      "Epoch 18/20\n",
      "3182/3182 [==============================] - 32s 10ms/step - loss: 0.6790 - accuracy: 0.7901 - val_loss: 0.9439 - val_accuracy: 0.7382\n",
      "Epoch 19/20\n",
      "3182/3182 [==============================] - 28s 9ms/step - loss: 0.6747 - accuracy: 0.7906 - val_loss: 0.9356 - val_accuracy: 0.7374\n",
      "Epoch 20/20\n",
      "3182/3182 [==============================] - 29s 9ms/step - loss: 0.6695 - accuracy: 0.7935 - val_loss: 0.9466 - val_accuracy: 0.7383\n"
     ]
    }
   ],
   "source": [
    "nw2_history = nw2.fit(X_tt_norm, to_categorical(y_tt['cusine_code']),\n",
    "      epochs = 20,\n",
    "      batch_size=10,\n",
    "      validation_data=(X_val_norm, to_categorical(y_val['cusine_code'])))"
   ]
  },
  {
   "cell_type": "code",
   "execution_count": 20,
   "metadata": {},
   "outputs": [
    {
     "data": {
      "text/plain": [
       "Text(0, 0.5, 'Accuracy')"
      ]
     },
     "execution_count": 20,
     "metadata": {},
     "output_type": "execute_result"
    },
    {
     "data": {
      "image/png": "[encoded data removed]",
      "text/plain": [
       "<Figure size 720x576 with 1 Axes>"
      ]
     },
     "metadata": {
      "needs_background": "light"
     },
     "output_type": "display_data"
    }
   ],
   "source": [
    "plt.figure(figsize = (10,8))\n",
    "plt.plot(nw2_history.history['accuracy'], label = 'Training accuracy', color = 'purple')\n",
    "plt.plot(nw2_history.history['val_accuracy'], label = 'Validation accuracy', color = 'green')\n",
    "plt.title('Accuracy Plot')\n",
    "plt.legend()\n",
    "plt.xlabel('Epochs')\n",
    "plt.ylabel('Accuracy')"
   ]
  },
  {
   "cell_type": "code",
   "execution_count": 35,
   "metadata": {},
   "outputs": [],
   "source": [
    "# third neural network with three hidden layers of size (30,20,30)\n",
    "\n",
    "nw3 = models.Sequential()\n",
    "\n",
    "nw3.add(layers.Dense(30, activation='relu', input_shape=(X_tt.shape[1],)))\n",
    "nw3.add(layers.Dense(20, activation='relu'))\n",
    "nw3.add(layers.Dense(30, activation='relu'))\n",
    "nw3.add(layers.Dense(20, activation='softmax'))\n",
    "\n",
    "nw3.compile(loss='categorical_crossentropy', optimizer= 'Adam', metrics= 'accuracy')"
   ]
  },
  {
   "cell_type": "code",
   "execution_count": 37,
   "metadata": {
    "scrolled": false
   },
   "outputs": [
    {
     "name": "stdout",
     "output_type": "stream",
     "text": [
      "Epoch 1/15\n",
      "  16/3182 [..............................] - ETA: 21s - loss: 3.0934 - accuracy: 0.0500     "
     ]
    },
    {
     "name": "stderr",
     "output_type": "stream",
     "text": [
      "2022-06-03 13:39:51.478562: I tensorflow/core/grappler/optimizers/custom_graph_optimizer_registry.cc:113] Plugin optimizer for device_type GPU is enabled.\n"
     ]
    },
    {
     "name": "stdout",
     "output_type": "stream",
     "text": [
      "3179/3182 [============================>.] - ETA: 0s - loss: 1.2988 - accuracy: 0.6166"
     ]
    },
    {
     "name": "stderr",
     "output_type": "stream",
     "text": [
      "2022-06-03 13:40:12.745138: I tensorflow/core/grappler/optimizers/custom_graph_optimizer_registry.cc:113] Plugin optimizer for device_type GPU is enabled.\n"
     ]
    },
    {
     "name": "stdout",
     "output_type": "stream",
     "text": [
      "3182/3182 [==============================] - 25s 8ms/step - loss: 1.2988 - accuracy: 0.6167 - val_loss: 1.0846 - val_accuracy: 0.6720\n",
      "Epoch 2/15\n",
      "3182/3182 [==============================] - 24s 8ms/step - loss: 0.9982 - accuracy: 0.6992 - val_loss: 0.9837 - val_accuracy: 0.7086\n",
      "Epoch 3/15\n",
      "3182/3182 [==============================] - 23s 7ms/step - loss: 0.9219 - accuracy: 0.7196 - val_loss: 0.9626 - val_accuracy: 0.7145\n",
      "Epoch 4/15\n",
      "3182/3182 [==============================] - 23s 7ms/step - loss: 0.8797 - accuracy: 0.7343 - val_loss: 0.9429 - val_accuracy: 0.7253\n",
      "Epoch 5/15\n",
      "3182/3182 [==============================] - 24s 8ms/step - loss: 0.8510 - accuracy: 0.7416 - val_loss: 0.9425 - val_accuracy: 0.7183\n",
      "Epoch 6/15\n",
      "3182/3182 [==============================] - 26s 8ms/step - loss: 0.8269 - accuracy: 0.7498 - val_loss: 0.9622 - val_accuracy: 0.7144\n",
      "Epoch 7/15\n",
      "3182/3182 [==============================] - 31s 10ms/step - loss: 0.8072 - accuracy: 0.7555 - val_loss: 0.9483 - val_accuracy: 0.7190\n",
      "Epoch 8/15\n",
      "3182/3182 [==============================] - 35s 11ms/step - loss: 0.7912 - accuracy: 0.7604 - val_loss: 0.9179 - val_accuracy: 0.7263\n",
      "Epoch 9/15\n",
      "3182/3182 [==============================] - 30s 9ms/step - loss: 0.7784 - accuracy: 0.7644 - val_loss: 0.9267 - val_accuracy: 0.7299\n",
      "Epoch 10/15\n",
      "3182/3182 [==============================] - 28s 9ms/step - loss: 0.7679 - accuracy: 0.7657 - val_loss: 0.9092 - val_accuracy: 0.7373\n",
      "Epoch 11/15\n",
      "3182/3182 [==============================] - 28s 9ms/step - loss: 0.7568 - accuracy: 0.7700 - val_loss: 0.9236 - val_accuracy: 0.7326\n",
      "Epoch 12/15\n",
      "3182/3182 [==============================] - 27s 8ms/step - loss: 0.7458 - accuracy: 0.7731 - val_loss: 0.9354 - val_accuracy: 0.7312\n",
      "Epoch 13/15\n",
      "3182/3182 [==============================] - 27s 9ms/step - loss: 0.7410 - accuracy: 0.7739 - val_loss: 0.9239 - val_accuracy: 0.7317\n",
      "Epoch 14/15\n",
      "3182/3182 [==============================] - 39s 12ms/step - loss: 0.7340 - accuracy: 0.7760 - val_loss: 0.9286 - val_accuracy: 0.7286\n",
      "Epoch 15/15\n",
      "3182/3182 [==============================] - 31s 10ms/step - loss: 0.7250 - accuracy: 0.7790 - val_loss: 0.9349 - val_accuracy: 0.7295\n"
     ]
    }
   ],
   "source": [
    "nw3_history = nw3.fit(X_tt_norm, to_categorical(y_tt['cusine_code']),\n",
    "      epochs =30,\n",
    "      batch_size=100,\n",
    "      validation_data=(X_val_norm, to_categorical(y_val['cusine_code'])))"
   ]
  },
  {
   "cell_type": "code",
   "execution_count": 39,
   "metadata": {},
   "outputs": [
    {
     "data": {
      "text/plain": [
       "Text(0, 0.5, 'Accuracy')"
      ]
     },
     "execution_count": 39,
     "metadata": {},
     "output_type": "execute_result"
    },
    {
     "data": {
      "image/png": "[encoded data removed]",
      "text/plain": [
       "<Figure size 720x576 with 1 Axes>"
      ]
     },
     "metadata": {
      "needs_background": "light"
     },
     "output_type": "display_data"
    }
   ],
   "source": [
    "plt.figure(figsize = (10,8))\n",
    "plt.plot(nw3_history.history['accuracy'], label = 'Training accuracy', color = 'purple')\n",
    "plt.plot(nw3_history.history['val_accuracy'], label = 'Validation accuracy', color = 'green')\n",
    "plt.title('Accuracy Plot')\n",
    "plt.legend()\n",
    "plt.xlabel('Epochs')\n",
    "plt.ylabel('Accuracy')"
   ]
  },
  {
   "cell_type": "code",
   "execution_count": 51,
   "metadata": {},
   "outputs": [],
   "source": [
    "nw5 = models.Sequential()\n",
    "\n",
    "nw5.add(layers.Dense(30, activation='relu', input_shape=(X_tt.shape[1],)))\n",
    "nw5.add(layers.Dense(30, activation='relu'))\n",
    "#nw5.add(layers.Dense(20, activation='relu'))\n",
    "nw5.add(layers.Dense(20, activation='softmax'))\n",
    "\n",
    "nw5.compile(loss='categorical_crossentropy', optimizer= 'Adam', metrics= 'accuracy')"
   ]
  },
  {
   "cell_type": "code",
   "execution_count": 52,
   "metadata": {},
   "outputs": [
    {
     "name": "stdout",
     "output_type": "stream",
     "text": [
      "Epoch 1/30\n",
      " 16/319 [>.............................] - ETA: 2s - loss: 2.8553 - accuracy: 0.1619"
     ]
    },
    {
     "name": "stderr",
     "output_type": "stream",
     "text": [
      "2022-06-03 13:56:15.437410: I tensorflow/core/grappler/optimizers/custom_graph_optimizer_registry.cc:113] Plugin optimizer for device_type GPU is enabled.\n"
     ]
    },
    {
     "name": "stdout",
     "output_type": "stream",
     "text": [
      "319/319 [==============================] - ETA: 0s - loss: 1.5584 - accuracy: 0.5587"
     ]
    },
    {
     "name": "stderr",
     "output_type": "stream",
     "text": [
      "2022-06-03 13:56:17.659891: I tensorflow/core/grappler/optimizers/custom_graph_optimizer_registry.cc:113] Plugin optimizer for device_type GPU is enabled.\n"
     ]
    },
    {
     "name": "stdout",
     "output_type": "stream",
     "text": [
      "319/319 [==============================] - 3s 8ms/step - loss: 1.5584 - accuracy: 0.5587 - val_loss: 1.1576 - val_accuracy: 0.6554\n",
      "Epoch 2/30\n",
      "319/319 [==============================] - 2s 8ms/step - loss: 1.0704 - accuracy: 0.6813 - val_loss: 1.0250 - val_accuracy: 0.6943\n",
      "Epoch 3/30\n",
      "319/319 [==============================] - 3s 10ms/step - loss: 0.9602 - accuracy: 0.7121 - val_loss: 0.9727 - val_accuracy: 0.7115\n",
      "Epoch 4/30\n",
      "319/319 [==============================] - 3s 9ms/step - loss: 0.8998 - accuracy: 0.7297 - val_loss: 0.9424 - val_accuracy: 0.7163\n",
      "Epoch 5/30\n",
      "319/319 [==============================] - 3s 9ms/step - loss: 0.8581 - accuracy: 0.7403 - val_loss: 0.9262 - val_accuracy: 0.7238\n",
      "Epoch 6/30\n",
      "319/319 [==============================] - 3s 9ms/step - loss: 0.8289 - accuracy: 0.7500 - val_loss: 0.9125 - val_accuracy: 0.7278\n",
      "Epoch 7/30\n",
      "319/319 [==============================] - 3s 9ms/step - loss: 0.8047 - accuracy: 0.7568 - val_loss: 0.9079 - val_accuracy: 0.7340\n",
      "Epoch 8/30\n",
      "319/319 [==============================] - 3s 10ms/step - loss: 0.7875 - accuracy: 0.7622 - val_loss: 0.9072 - val_accuracy: 0.7329\n",
      "Epoch 9/30\n",
      "319/319 [==============================] - 3s 8ms/step - loss: 0.7731 - accuracy: 0.7668 - val_loss: 0.8962 - val_accuracy: 0.7343\n",
      "Epoch 10/30\n",
      "319/319 [==============================] - 3s 9ms/step - loss: 0.7601 - accuracy: 0.7689 - val_loss: 0.8928 - val_accuracy: 0.7369\n",
      "Epoch 11/30\n",
      "319/319 [==============================] - 3s 8ms/step - loss: 0.7477 - accuracy: 0.7716 - val_loss: 0.8936 - val_accuracy: 0.7390\n",
      "Epoch 12/30\n",
      "319/319 [==============================] - 3s 8ms/step - loss: 0.7371 - accuracy: 0.7750 - val_loss: 0.8937 - val_accuracy: 0.7370\n",
      "Epoch 13/30\n",
      "319/319 [==============================] - 3s 8ms/step - loss: 0.7290 - accuracy: 0.7782 - val_loss: 0.8908 - val_accuracy: 0.7403\n",
      "Epoch 14/30\n",
      "319/319 [==============================] - 3s 9ms/step - loss: 0.7199 - accuracy: 0.7800 - val_loss: 0.8995 - val_accuracy: 0.7383\n",
      "Epoch 15/30\n",
      "319/319 [==============================] - 3s 8ms/step - loss: 0.7135 - accuracy: 0.7834 - val_loss: 0.8889 - val_accuracy: 0.7426\n",
      "Epoch 16/30\n",
      "319/319 [==============================] - 3s 9ms/step - loss: 0.7061 - accuracy: 0.7846 - val_loss: 0.8935 - val_accuracy: 0.7404\n",
      "Epoch 17/30\n",
      "319/319 [==============================] - 3s 8ms/step - loss: 0.7007 - accuracy: 0.7859 - val_loss: 0.8975 - val_accuracy: 0.7410\n",
      "Epoch 18/30\n",
      "319/319 [==============================] - 3s 8ms/step - loss: 0.6941 - accuracy: 0.7875 - val_loss: 0.8911 - val_accuracy: 0.7385\n",
      "Epoch 19/30\n",
      "319/319 [==============================] - 4s 12ms/step - loss: 0.6872 - accuracy: 0.7909 - val_loss: 0.8888 - val_accuracy: 0.7428\n",
      "Epoch 20/30\n",
      "319/319 [==============================] - 3s 8ms/step - loss: 0.6827 - accuracy: 0.7892 - val_loss: 0.8985 - val_accuracy: 0.7394\n",
      "Epoch 21/30\n",
      "319/319 [==============================] - 3s 8ms/step - loss: 0.6783 - accuracy: 0.7914 - val_loss: 0.8913 - val_accuracy: 0.7412\n",
      "Epoch 22/30\n",
      "319/319 [==============================] - 3s 10ms/step - loss: 0.6752 - accuracy: 0.7929 - val_loss: 0.8893 - val_accuracy: 0.7467\n",
      "Epoch 23/30\n",
      "319/319 [==============================] - 3s 9ms/step - loss: 0.6699 - accuracy: 0.7944 - val_loss: 0.8942 - val_accuracy: 0.7428\n",
      "Epoch 24/30\n",
      "319/319 [==============================] - 3s 9ms/step - loss: 0.6635 - accuracy: 0.7960 - val_loss: 0.8953 - val_accuracy: 0.7427\n",
      "Epoch 25/30\n",
      "319/319 [==============================] - 3s 8ms/step - loss: 0.6602 - accuracy: 0.7979 - val_loss: 0.8962 - val_accuracy: 0.7454\n",
      "Epoch 26/30\n",
      "319/319 [==============================] - 3s 8ms/step - loss: 0.6581 - accuracy: 0.7981 - val_loss: 0.9075 - val_accuracy: 0.7413\n",
      "Epoch 27/30\n",
      "319/319 [==============================] - 4s 11ms/step - loss: 0.6540 - accuracy: 0.7982 - val_loss: 0.8963 - val_accuracy: 0.7424\n",
      "Epoch 28/30\n",
      "319/319 [==============================] - 3s 9ms/step - loss: 0.6500 - accuracy: 0.7986 - val_loss: 0.8971 - val_accuracy: 0.7461\n",
      "Epoch 29/30\n",
      "319/319 [==============================] - 4s 11ms/step - loss: 0.6486 - accuracy: 0.8010 - val_loss: 0.9117 - val_accuracy: 0.7404\n",
      "Epoch 30/30\n",
      "319/319 [==============================] - 3s 10ms/step - loss: 0.6440 - accuracy: 0.8013 - val_loss: 0.9067 - val_accuracy: 0.7388\n"
     ]
    }
   ],
   "source": [
    "nw5_history = nw5.fit(X_tt_norm, to_categorical(y_tt['cusine_code']),\n",
    "      epochs = 30,\n",
    "      batch_size=100,\n",
    "      validation_data=(X_val_norm, to_categorical(y_val['cusine_code'])))"
   ]
  },
  {
   "cell_type": "code",
   "execution_count": 53,
   "metadata": {},
   "outputs": [
    {
     "data": {
      "text/plain": [
       "Text(0, 0.5, 'Accuracy')"
      ]
     },
     "execution_count": 53,
     "metadata": {},
     "output_type": "execute_result"
    },
    {
     "data": {
      "image/png": "[encoded data removed]",
      "text/plain": [
       "<Figure size 720x576 with 1 Axes>"
      ]
     },
     "metadata": {
      "needs_background": "light"
     },
     "output_type": "display_data"
    }
   ],
   "source": [
    "plt.figure(figsize = (10,8))\n",
    "plt.plot(nw5_history.history['accuracy'], label = 'Training accuracy', color = 'purple')\n",
    "plt.plot(nw5_history.history['val_accuracy'], label = 'Validation accuracy', color = 'green')\n",
    "plt.title('Accuracy Plot')\n",
    "plt.legend()\n",
    "plt.xlabel('Epochs')\n",
    "plt.ylabel('Accuracy')"
   ]
  },
  {
   "cell_type": "markdown",
   "metadata": {},
   "source": [
    "It looks like the model `nw` with two hidden layers of size (30,30) has best performance, we train this model with 10 epochs and compute the validation accuracy."
   ]
  },
  {
   "cell_type": "code",
   "execution_count": 47,
   "metadata": {},
   "outputs": [],
   "source": [
    "nw = models.Sequential()\n",
    "\n",
    "nw.add(layers.Dense(30, activation='relu', input_shape=(X_tt.shape[1],)))\n",
    "nw.add(layers.Dense(30, activation='relu'))\n",
    "nw.add(layers.Dense(20, activation='softmax'))\n",
    "\n",
    "nw.compile(loss='categorical_crossentropy', optimizer= 'Adam', metrics= 'accuracy')"
   ]
  },
  {
   "cell_type": "code",
   "execution_count": 48,
   "metadata": {},
   "outputs": [
    {
     "name": "stdout",
     "output_type": "stream",
     "text": [
      "Epoch 1/10\n",
      " 14/319 [>.............................] - ETA: 2s - loss: 2.8576 - accuracy: 0.1607"
     ]
    },
    {
     "name": "stderr",
     "output_type": "stream",
     "text": [
      "2022-06-03 15:39:39.298377: I tensorflow/core/grappler/optimizers/custom_graph_optimizer_registry.cc:113] Plugin optimizer for device_type GPU is enabled.\n"
     ]
    },
    {
     "name": "stdout",
     "output_type": "stream",
     "text": [
      "317/319 [============================>.] - ETA: 0s - loss: 1.5593 - accuracy: 0.5579"
     ]
    },
    {
     "name": "stderr",
     "output_type": "stream",
     "text": [
      "2022-06-03 15:39:41.819595: I tensorflow/core/grappler/optimizers/custom_graph_optimizer_registry.cc:113] Plugin optimizer for device_type GPU is enabled.\n"
     ]
    },
    {
     "name": "stdout",
     "output_type": "stream",
     "text": [
      "319/319 [==============================] - 3s 9ms/step - loss: 1.5581 - accuracy: 0.5583 - val_loss: 1.1620 - val_accuracy: 0.6527\n",
      "Epoch 2/10\n",
      "319/319 [==============================] - 2s 8ms/step - loss: 1.0719 - accuracy: 0.6818 - val_loss: 1.0228 - val_accuracy: 0.6915\n",
      "Epoch 3/10\n",
      "319/319 [==============================] - 2s 7ms/step - loss: 0.9581 - accuracy: 0.7128 - val_loss: 0.9613 - val_accuracy: 0.7125\n",
      "Epoch 4/10\n",
      "319/319 [==============================] - 3s 8ms/step - loss: 0.8958 - accuracy: 0.7308 - val_loss: 0.9367 - val_accuracy: 0.7224\n",
      "Epoch 5/10\n",
      "319/319 [==============================] - 3s 8ms/step - loss: 0.8571 - accuracy: 0.7426 - val_loss: 0.9260 - val_accuracy: 0.7224\n",
      "Epoch 6/10\n",
      "319/319 [==============================] - 2s 7ms/step - loss: 0.8299 - accuracy: 0.7497 - val_loss: 0.9112 - val_accuracy: 0.7329\n",
      "Epoch 7/10\n",
      "319/319 [==============================] - 2s 8ms/step - loss: 0.8054 - accuracy: 0.7571 - val_loss: 0.8994 - val_accuracy: 0.7332\n",
      "Epoch 8/10\n",
      "319/319 [==============================] - 2s 8ms/step - loss: 0.7872 - accuracy: 0.7634 - val_loss: 0.8976 - val_accuracy: 0.7376\n",
      "Epoch 9/10\n",
      "319/319 [==============================] - 3s 8ms/step - loss: 0.7695 - accuracy: 0.7681 - val_loss: 0.8979 - val_accuracy: 0.7366\n",
      "Epoch 10/10\n",
      "319/319 [==============================] - 3s 8ms/step - loss: 0.7568 - accuracy: 0.7705 - val_loss: 0.8911 - val_accuracy: 0.7400\n"
     ]
    }
   ],
   "source": [
    "nw_history = nw.fit(X_tt_norm, to_categorical(y_tt['cusine_code']),\n",
    "      epochs = 10,\n",
    "      batch_size=100,\n",
    "      validation_data=(X_val_norm, to_categorical(y_val['cusine_code'])))"
   ]
  },
  {
   "cell_type": "code",
   "execution_count": 49,
   "metadata": {},
   "outputs": [
    {
     "name": "stderr",
     "output_type": "stream",
     "text": [
      "2022-06-03 15:40:13.469304: I tensorflow/core/grappler/optimizers/custom_graph_optimizer_registry.cc:113] Plugin optimizer for device_type GPU is enabled.\n"
     ]
    },
    {
     "name": "stdout",
     "output_type": "stream",
     "text": [
      "0.7400377121307354\n"
     ]
    }
   ],
   "source": [
    "# Validation accuracy without joining special ingredients filter\n",
    "\n",
    "num = 0\n",
    "for i in range(len(data_val)):\n",
    "    test_vec = np.array(X_val_norm[i]).reshape(-1,X_val_norm.shape[1])\n",
    "    pred = np.argmax(nw.predict(test_vec))\n",
    "    \n",
    "    if pred == y_val.iloc[i]['cusine_code']:\n",
    "        num = num + 1\n",
    "print(num / len(data_val))"
   ]
  },
  {
   "cell_type": "code",
   "execution_count": 50,
   "metadata": {},
   "outputs": [
    {
     "name": "stdout",
     "output_type": "stream",
     "text": [
      "0.7311125078566939\n"
     ]
    }
   ],
   "source": [
    "# Test the validation accuracy if incorporate with the Special ingresient filter\n",
    "# the special ingredients only come from X_tt\n",
    "\n",
    "Incorrect = 0\n",
    "Correct = 0\n",
    "\n",
    "for i in range(len(data_val)):\n",
    "    if any(ele in Special_ingredients for ele in data_val[i]['ingredients']):\n",
    "        for cuisine in Special.keys():\n",
    "            if any(ele in Special[cuisine] for ele in data_val[i]['ingredients']):\n",
    "                if cuisine == data_val[i]['cuisine']:\n",
    "                    Correct+= 1\n",
    "                else:\n",
    "                    Incorrect+= 1\n",
    "                break\n",
    "    else:\n",
    "        test_vec = np.array(X_val_norm[i]).reshape(-1,X_val_norm.shape[1])\n",
    "        pred = np.argmax(nw.predict(test_vec))\n",
    "        if pred == y_val.iloc[i]['cusine_code']:\n",
    "            Correct+= 1\n",
    "        else:\n",
    "            Incorrect+=1\n",
    "\n",
    "print(Correct/(len(data_val)))"
   ]
  },
  {
   "cell_type": "markdown",
   "metadata": {},
   "source": [
    "It looks like the special ingredients filter does not help much."
   ]
  },
  {
   "cell_type": "markdown",
   "metadata": {},
   "source": [
    "#### Now we apply PCA on the data before training model"
   ]
  },
  {
   "cell_type": "code",
   "execution_count": 27,
   "metadata": {},
   "outputs": [
    {
     "data": {
      "text/plain": [
       "(39774, 196)"
      ]
     },
     "execution_count": 27,
     "metadata": {},
     "output_type": "execute_result"
    }
   ],
   "source": [
    "# PCA\n",
    "pca = PCA(0.99)\n",
    "pca.fit(X_train.values)\n",
    "\n",
    "X_train_pca = pca.transform(X_train.values)\n",
    "X_train_pca.shape"
   ]
  },
  {
   "cell_type": "code",
   "execution_count": 28,
   "metadata": {},
   "outputs": [],
   "source": [
    "# same train test split after pca\n",
    "X_tt_pca, X_val_pca, y_tt, y_val = train_test_split(X_train_pca, y_train, \n",
    "                                           test_size=0.2,\n",
    "                                            shuffle=True,\n",
    "                                           random_state=330,\n",
    "                                           stratify=y_train['cusine_code'])"
   ]
  },
  {
   "cell_type": "code",
   "execution_count": 34,
   "metadata": {},
   "outputs": [],
   "source": [
    "# neural network after pca with two hidden layers of size (30, 30)\n",
    "nw_pca = models.Sequential()\n",
    "\n",
    "nw_pca.add(layers.Dense(30, activation='relu', input_shape=(X_tt_pca.shape[1],)))\n",
    "nw_pca.add(layers.Dense(30, activation='relu'))\n",
    "nw_pca.add(layers.Dense(20, activation='softmax'))\n",
    "\n",
    "nw_pca.compile(loss='categorical_crossentropy', optimizer= 'Adam', metrics= 'accuracy')"
   ]
  },
  {
   "cell_type": "code",
   "execution_count": 35,
   "metadata": {},
   "outputs": [],
   "source": [
    "# Standardize the data into normal distribution\n",
    "from sklearn.preprocessing import QuantileTransformer\n",
    "\n",
    "qt = QuantileTransformer(n_quantiles=1000, \n",
    "                         output_distribution='normal',\n",
    "                         random_state=330)\n",
    "qt.fit(X_tt_pca)\n",
    "X_tt_pca_norm = qt.transform(X_tt_pca)\n",
    "X_val_pca_norm = qt.transform(X_val_pca)"
   ]
  },
  {
   "cell_type": "code",
   "execution_count": 36,
   "metadata": {},
   "outputs": [
    {
     "name": "stdout",
     "output_type": "stream",
     "text": [
      "Epoch 1/30\n",
      " 15/319 [>.............................] - ETA: 2s - loss: 3.1231 - accuracy: 0.0760"
     ]
    },
    {
     "name": "stderr",
     "output_type": "stream",
     "text": [
      "2022-06-03 15:20:18.499715: I tensorflow/core/grappler/optimizers/custom_graph_optimizer_registry.cc:113] Plugin optimizer for device_type GPU is enabled.\n"
     ]
    },
    {
     "name": "stdout",
     "output_type": "stream",
     "text": [
      "319/319 [==============================] - ETA: 0s - loss: 2.0949 - accuracy: 0.4176"
     ]
    },
    {
     "name": "stderr",
     "output_type": "stream",
     "text": [
      "2022-06-03 15:20:22.121878: I tensorflow/core/grappler/optimizers/custom_graph_optimizer_registry.cc:113] Plugin optimizer for device_type GPU is enabled.\n"
     ]
    },
    {
     "name": "stdout",
     "output_type": "stream",
     "text": [
      "319/319 [==============================] - 4s 12ms/step - loss: 2.0949 - accuracy: 0.4176 - val_loss: 1.4566 - val_accuracy: 0.6019\n",
      "Epoch 2/30\n",
      "319/319 [==============================] - 3s 8ms/step - loss: 1.2127 - accuracy: 0.6555 - val_loss: 1.1064 - val_accuracy: 0.6759\n",
      "Epoch 3/30\n",
      "319/319 [==============================] - 2s 7ms/step - loss: 0.9912 - accuracy: 0.7064 - val_loss: 1.0112 - val_accuracy: 0.7066\n",
      "Epoch 4/30\n",
      "319/319 [==============================] - 2s 8ms/step - loss: 0.9051 - accuracy: 0.7300 - val_loss: 0.9738 - val_accuracy: 0.7175\n",
      "Epoch 5/30\n",
      "319/319 [==============================] - 3s 9ms/step - loss: 0.8566 - accuracy: 0.7442 - val_loss: 0.9560 - val_accuracy: 0.7234\n",
      "Epoch 6/30\n",
      "319/319 [==============================] - 3s 9ms/step - loss: 0.8251 - accuracy: 0.7528 - val_loss: 0.9414 - val_accuracy: 0.7281\n",
      "Epoch 7/30\n",
      "319/319 [==============================] - 3s 9ms/step - loss: 0.8014 - accuracy: 0.7591 - val_loss: 0.9372 - val_accuracy: 0.7307\n",
      "Epoch 8/30\n",
      "319/319 [==============================] - 2s 8ms/step - loss: 0.7838 - accuracy: 0.7621 - val_loss: 0.9322 - val_accuracy: 0.7343\n",
      "Epoch 9/30\n",
      "319/319 [==============================] - 3s 8ms/step - loss: 0.7694 - accuracy: 0.7684 - val_loss: 0.9316 - val_accuracy: 0.7349\n",
      "Epoch 10/30\n",
      "319/319 [==============================] - 3s 8ms/step - loss: 0.7561 - accuracy: 0.7699 - val_loss: 0.9285 - val_accuracy: 0.7341\n",
      "Epoch 11/30\n",
      "319/319 [==============================] - 3s 9ms/step - loss: 0.7450 - accuracy: 0.7743 - val_loss: 0.9349 - val_accuracy: 0.7345\n",
      "Epoch 12/30\n",
      "319/319 [==============================] - 3s 10ms/step - loss: 0.7364 - accuracy: 0.7773 - val_loss: 0.9311 - val_accuracy: 0.7343\n",
      "Epoch 13/30\n",
      "319/319 [==============================] - 2s 7ms/step - loss: 0.7272 - accuracy: 0.7792 - val_loss: 0.9341 - val_accuracy: 0.7338\n",
      "Epoch 14/30\n",
      "319/319 [==============================] - 2s 7ms/step - loss: 0.7203 - accuracy: 0.7807 - val_loss: 0.9353 - val_accuracy: 0.7358\n",
      "Epoch 15/30\n",
      "319/319 [==============================] - 2s 7ms/step - loss: 0.7137 - accuracy: 0.7815 - val_loss: 0.9411 - val_accuracy: 0.7344\n",
      "Epoch 16/30\n",
      "319/319 [==============================] - 3s 10ms/step - loss: 0.7077 - accuracy: 0.7835 - val_loss: 0.9425 - val_accuracy: 0.7316\n",
      "Epoch 17/30\n",
      "319/319 [==============================] - 2s 8ms/step - loss: 0.7017 - accuracy: 0.7857 - val_loss: 0.9461 - val_accuracy: 0.7327\n",
      "Epoch 18/30\n",
      "319/319 [==============================] - 2s 7ms/step - loss: 0.6967 - accuracy: 0.7853 - val_loss: 0.9543 - val_accuracy: 0.7292\n",
      "Epoch 19/30\n",
      "319/319 [==============================] - 2s 7ms/step - loss: 0.6921 - accuracy: 0.7876 - val_loss: 0.9517 - val_accuracy: 0.7334\n",
      "Epoch 20/30\n",
      "319/319 [==============================] - 2s 7ms/step - loss: 0.6873 - accuracy: 0.7895 - val_loss: 0.9539 - val_accuracy: 0.7295\n",
      "Epoch 21/30\n",
      "319/319 [==============================] - 2s 7ms/step - loss: 0.6830 - accuracy: 0.7900 - val_loss: 0.9672 - val_accuracy: 0.7292\n",
      "Epoch 22/30\n",
      "319/319 [==============================] - 3s 8ms/step - loss: 0.6797 - accuracy: 0.7901 - val_loss: 0.9692 - val_accuracy: 0.7290\n",
      "Epoch 23/30\n",
      "319/319 [==============================] - 3s 8ms/step - loss: 0.6752 - accuracy: 0.7925 - val_loss: 0.9645 - val_accuracy: 0.7305\n",
      "Epoch 24/30\n",
      "319/319 [==============================] - 3s 10ms/step - loss: 0.6718 - accuracy: 0.7928 - val_loss: 0.9675 - val_accuracy: 0.7281\n",
      "Epoch 25/30\n",
      "319/319 [==============================] - 3s 10ms/step - loss: 0.6695 - accuracy: 0.7931 - val_loss: 0.9717 - val_accuracy: 0.7320\n",
      "Epoch 26/30\n",
      "319/319 [==============================] - 3s 8ms/step - loss: 0.6662 - accuracy: 0.7949 - val_loss: 0.9763 - val_accuracy: 0.7257\n",
      "Epoch 27/30\n",
      "319/319 [==============================] - 2s 8ms/step - loss: 0.6624 - accuracy: 0.7966 - val_loss: 0.9799 - val_accuracy: 0.7272\n",
      "Epoch 28/30\n",
      "319/319 [==============================] - 2s 7ms/step - loss: 0.6598 - accuracy: 0.7961 - val_loss: 0.9807 - val_accuracy: 0.7295\n",
      "Epoch 29/30\n",
      "319/319 [==============================] - 2s 8ms/step - loss: 0.6578 - accuracy: 0.7970 - val_loss: 0.9835 - val_accuracy: 0.7273\n",
      "Epoch 30/30\n",
      "319/319 [==============================] - 2s 8ms/step - loss: 0.6552 - accuracy: 0.7991 - val_loss: 0.9898 - val_accuracy: 0.7234\n"
     ]
    },
    {
     "data": {
      "text/plain": [
       "<keras.callbacks.History at 0x2fe91d340>"
      ]
     },
     "execution_count": 36,
     "metadata": {},
     "output_type": "execute_result"
    }
   ],
   "source": [
    "nw_pca.fit(X_tt_pca_norm, to_categorical(y_tt['cusine_code']),\n",
    "      epochs = 30,\n",
    "      batch_size=100,\n",
    "      validation_data=(X_val_pca_norm, to_categorical(y_val['cusine_code'])))"
   ]
  },
  {
   "cell_type": "code",
   "execution_count": 42,
   "metadata": {},
   "outputs": [
    {
     "name": "stdout",
     "output_type": "stream",
     "text": [
      "Epoch 1/10\n",
      "  8/319 [..............................] - ETA: 2s - loss: 3.1470 - accuracy: 0.0763  "
     ]
    },
    {
     "name": "stderr",
     "output_type": "stream",
     "text": [
      "2022-06-03 15:29:28.621185: I tensorflow/core/grappler/optimizers/custom_graph_optimizer_registry.cc:113] Plugin optimizer for device_type GPU is enabled.\n"
     ]
    },
    {
     "name": "stdout",
     "output_type": "stream",
     "text": [
      "317/319 [============================>.] - ETA: 0s - loss: 2.0996 - accuracy: 0.4164"
     ]
    },
    {
     "name": "stderr",
     "output_type": "stream",
     "text": [
      "2022-06-03 15:29:30.787051: I tensorflow/core/grappler/optimizers/custom_graph_optimizer_registry.cc:113] Plugin optimizer for device_type GPU is enabled.\n"
     ]
    },
    {
     "name": "stdout",
     "output_type": "stream",
     "text": [
      "319/319 [==============================] - 3s 8ms/step - loss: 2.0978 - accuracy: 0.4170 - val_loss: 1.4600 - val_accuracy: 0.5995\n",
      "Epoch 2/10\n",
      "319/319 [==============================] - 3s 8ms/step - loss: 1.2159 - accuracy: 0.6551 - val_loss: 1.1148 - val_accuracy: 0.6778\n",
      "Epoch 3/10\n",
      "319/319 [==============================] - 2s 7ms/step - loss: 0.9913 - accuracy: 0.7068 - val_loss: 1.0169 - val_accuracy: 0.7055\n",
      "Epoch 4/10\n",
      "319/319 [==============================] - 2s 7ms/step - loss: 0.9044 - accuracy: 0.7305 - val_loss: 0.9766 - val_accuracy: 0.7179\n",
      "Epoch 5/10\n",
      "319/319 [==============================] - 2s 8ms/step - loss: 0.8563 - accuracy: 0.7424 - val_loss: 0.9566 - val_accuracy: 0.7234\n",
      "Epoch 6/10\n",
      "319/319 [==============================] - 3s 9ms/step - loss: 0.8247 - accuracy: 0.7522 - val_loss: 0.9494 - val_accuracy: 0.7242\n",
      "Epoch 7/10\n",
      "319/319 [==============================] - 2s 8ms/step - loss: 0.7999 - accuracy: 0.7572 - val_loss: 0.9408 - val_accuracy: 0.7278\n",
      "Epoch 8/10\n",
      "319/319 [==============================] - 2s 7ms/step - loss: 0.7818 - accuracy: 0.7645 - val_loss: 0.9336 - val_accuracy: 0.7299\n",
      "Epoch 9/10\n",
      "319/319 [==============================] - 2s 7ms/step - loss: 0.7681 - accuracy: 0.7673 - val_loss: 0.9316 - val_accuracy: 0.7290\n",
      "Epoch 10/10\n",
      "319/319 [==============================] - 2s 8ms/step - loss: 0.7548 - accuracy: 0.7696 - val_loss: 0.9297 - val_accuracy: 0.7332\n"
     ]
    },
    {
     "data": {
      "text/plain": [
       "<keras.callbacks.History at 0x3213505b0>"
      ]
     },
     "execution_count": 42,
     "metadata": {},
     "output_type": "execute_result"
    }
   ],
   "source": [
    "# It looks like 10 epochs is already good, so we train the model with 10 epochs\n",
    "\n",
    "nw_pca = models.Sequential()\n",
    "\n",
    "nw_pca.add(layers.Dense(30, activation='relu', input_shape=(X_tt_pca.shape[1],)))\n",
    "nw_pca.add(layers.Dense(30, activation='relu'))\n",
    "nw_pca.add(layers.Dense(20, activation='softmax'))\n",
    "\n",
    "nw_pca.compile(loss='categorical_crossentropy', optimizer= 'Adam', metrics= 'accuracy')\n",
    "\n",
    "nw_pca.fit(X_tt_pca_norm, to_categorical(y_tt['cusine_code']),\n",
    "      epochs = 10,\n",
    "      batch_size=100,\n",
    "      validation_data=(X_val_pca_norm, to_categorical(y_val['cusine_code'])))"
   ]
  },
  {
   "cell_type": "code",
   "execution_count": 43,
   "metadata": {},
   "outputs": [
    {
     "name": "stderr",
     "output_type": "stream",
     "text": [
      "2022-06-03 15:29:56.181570: I tensorflow/core/grappler/optimizers/custom_graph_optimizer_registry.cc:113] Plugin optimizer for device_type GPU is enabled.\n"
     ]
    },
    {
     "name": "stdout",
     "output_type": "stream",
     "text": [
      "the validation accuracy is:  0.7332495285983658\n"
     ]
    }
   ],
   "source": [
    "# Validation accuracy without joining special ingredients filter\n",
    "\n",
    "num = 0\n",
    "for i in range(len(data_val)):\n",
    "    test_vec = np.array(X_val_pca_norm[i]).reshape(-1,X_val_pca_norm.shape[1])\n",
    "    pred = np.argmax(nw_pca.predict(test_vec))\n",
    "    \n",
    "    if pred == y_val.iloc[i]['cusine_code']:\n",
    "        num = num + 1\n",
    "print(\"the validation accuracy is: \", num / len(data_val))"
   ]
  },
  {
   "cell_type": "code",
   "execution_count": 44,
   "metadata": {},
   "outputs": [
    {
     "name": "stdout",
     "output_type": "stream",
     "text": [
      "The validation accuracy with special ingredients filter is:  0.7244500314267757\n"
     ]
    }
   ],
   "source": [
    "# Test the validation accuracy if incorporate with the Special ingresient filter\n",
    "# the special ingredients only come from X_tt\n",
    "\n",
    "Incorrect = 0\n",
    "Correct = 0\n",
    "\n",
    "for i in range(len(data_val)):\n",
    "    if any(ele in Special_ingredients for ele in data_val[i]['ingredients']):\n",
    "        for cuisine in Special.keys():\n",
    "            if any(ele in Special[cuisine] for ele in data_val[i]['ingredients']):\n",
    "                if cuisine == data_val[i]['cuisine']:\n",
    "                    Correct+= 1\n",
    "                else:\n",
    "                    Incorrect+= 1\n",
    "                break\n",
    "    else:\n",
    "        test_vec = np.array(X_val_pca_norm[i]).reshape(-1,X_val_pca_norm.shape[1])\n",
    "        pred = np.argmax(nw_pca.predict(test_vec))\n",
    "        if pred == y_val.iloc[i]['cusine_code']:\n",
    "            Correct+= 1\n",
    "        else:\n",
    "            Incorrect+=1\n",
    "\n",
    "print(\"The validation accuracy with special ingredients filter is: \", Correct/(len(data_val)))"
   ]
  },
  {
   "cell_type": "code",
   "execution_count": null,
   "metadata": {},
   "outputs": [],
   "source": []
  }
 ],
 "metadata": {
  "kernelspec": {
   "display_name": "Python 3",
   "language": "python",
   "name": "python3"
  },
  "language_info": {
   "codemirror_mode": {
    "name": "ipython",
    "version": 3
   },
   "file_extension": ".py",
   "mimetype": "text/x-python",
   "name": "python",
   "nbconvert_exporter": "python",
   "pygments_lexer": "ipython3",
   "version": "3.7.7"
  }
 },
 "nbformat": 4,
 "nbformat_minor": 5
}
